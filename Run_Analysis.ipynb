{
 "cells": [
  {
   "cell_type": "markdown",
   "metadata": {},
   "source": [
    "<img src=\"./pictures/logomegalomo.png\" alt=\"Drawing\" style=\"width: 300px;\"/>"
   ]
  },
  {
   "cell_type": "markdown",
   "metadata": {},
   "source": [
    "<img src=\"./pictures/FullPipeline.png\" alt=\"Drawing\" style=\"width: 1000px;\"/>"
   ]
  },
  {
   "cell_type": "markdown",
   "metadata": {},
   "source": [
    "# Using the Pipeline with serialized dataSet"
   ]
  },
  {
   "cell_type": "markdown",
   "metadata": {},
   "source": [
    "In this notebook, we use a particular terminology.\n",
    "\n",
    "The original dataSet, containing informations are usually called **\"Template\"**\n",
    "\n",
    ">Example : a template Id is an Id from Intact\n",
    "\n",
    "The informations that we want to retrieve are called **\"Query\"**\n",
    "\n",
    ">Example : a query Id is an Id from our organism (here : *Streptococcus pneumoniae*)"
   ]
  },
  {
   "cell_type": "markdown",
   "metadata": {},
   "source": [
    "#### In This notebook, when you see \"/PATH/TO/YOUR/...\" written somewhere, you have to put the full path to the required file or directory."
   ]
  },
  {
   "cell_type": "markdown",
   "metadata": {},
   "source": [
    "## Packages for the pipeline"
   ]
  },
  {
   "cell_type": "markdown",
   "metadata": {},
   "source": [
    "* First you have to import general packages for the pipeline :"
   ]
  },
  {
   "cell_type": "code",
   "execution_count": 3,
   "metadata": {
    "collapsed": false
   },
   "outputs": [
    {
     "name": "stdout",
     "output_type": "stream",
     "text": [
      "The autoreload extension is already loaded. To reload it, use:\n",
      "  %reload_ext autoreload\n"
     ]
    }
   ],
   "source": [
    "import sys\n",
    "import networkx as nx\n",
    "import numpy as np\n",
    "import matplotlib.pyplot as plt\n",
    "import copy\n",
    "import json\n",
    "%load_ext autoreload"
   ]
  },
  {
   "cell_type": "markdown",
   "metadata": {},
   "source": [
    "* Then, the pipeline itself :\n",
    "\n",
    "**You have to write the path to your OmegaLoMo lib directory**\n",
    "\n",
    "**You also have to put all your own paths**"
   ]
  },
  {
   "cell_type": "code",
   "execution_count": 4,
   "metadata": {
    "collapsed": false
   },
   "outputs": [],
   "source": [
    "sys.path.append('/PATH/TO/omegaLoMo/lib/')\n",
    "import core as ca\n",
    "import createTopo as cT\n",
    "import graph as graph\n",
    "import smallWork as sW"
   ]
  },
  {
   "cell_type": "markdown",
   "metadata": {},
   "source": [
    "## Creating Topology"
   ]
  },
  {
   "cell_type": "markdown",
   "metadata": {},
   "source": [
    "<img src=\"./pictures/Preprocessing.png\" alt=\"Drawing\" style=\"width: 200px;\"/>"
   ]
  },
  {
   "cell_type": "markdown",
   "metadata": {},
   "source": [
    "<img src=\"./pictures/NewDicInfo.png\" alt=\"Drawing\" style=\"width: 800px;\"/>"
   ]
  },
  {
   "cell_type": "markdown",
   "metadata": {},
   "source": [
    "* *database* and *filterIds* are here just to be initialized. Since we use serialized version, their paths are not required.\n",
    "\n",
    "\n",
    "* *newDic.json* is the reduced topology from Intact.\n"
   ]
  },
  {
   "cell_type": "code",
   "execution_count": 5,
   "metadata": {
    "collapsed": false
   },
   "outputs": [],
   "source": [
    "database = \"\"\n",
    "filterIds = \"\"\n",
    "\n",
    "entireTopo = cT.Topology(database, filterIds)\n",
    "newDic = entireTopo.deSerialize('/PATH/TO/THE/FILE/newDic.json')"
   ]
  },
  {
   "cell_type": "markdown",
   "metadata": {},
   "source": [
    "## Processing data"
   ]
  },
  {
   "cell_type": "markdown",
   "metadata": {},
   "source": [
    "<img src=\"./pictures/Analysis.png\" alt=\"Drawing\" style=\"width: 200px;\"/>"
   ]
  },
  {
   "cell_type": "markdown",
   "metadata": {},
   "source": [
    "<img src=\"./pictures/Analysis_flow.png\" alt=\"Drawing\" style=\"width: 800px;\"/>"
   ]
  },
  {
   "cell_type": "markdown",
   "metadata": {},
   "source": [
    "<u>Processing data involve switching between the \"Template's space\" to the \"Query's space\".</u>\n",
    "\n",
    "* *indexR6* is a list of UniprotId corresponding to the proteome of your organims\n",
    "\n",
    "* *bean* is a serialized version of a small dataset, corresponding to a topology\n",
    "\n",
    "* *path* is the path to a directory with some blast.out files (in xml format)"
   ]
  },
  {
   "cell_type": "code",
   "execution_count": 6,
   "metadata": {
    "collapsed": true
   },
   "outputs": [],
   "source": [
    "indexR6 = '/PATH/TO/THE/FILE/indexR6'"
   ]
  },
  {
   "cell_type": "code",
   "execution_count": 7,
   "metadata": {
    "collapsed": true
   },
   "outputs": [],
   "source": [
    "omegaSet = ca.HomegaSet(bean='/PATH/TO/THE/FILE/FullOmegaSet_coverage.json',\n",
    "                        queryIdList=indexR6)"
   ]
  },
  {
   "cell_type": "code",
   "execution_count": null,
   "metadata": {
    "collapsed": false,
    "deletable": true,
    "editable": true,
    "scrolled": true
   },
   "outputs": [],
   "source": [
    "omegaMatrix = ca.OmegaMatrix(topo = newDic, omegaSet = omegaSet)\n",
    "omegaMatrix.reduceAndVectorInject()\n",
    "queryTopo = omegaMatrix.project()"
   ]
  },
  {
   "cell_type": "markdown",
   "metadata": {},
   "source": [
    "## Selection of proteins of interest  \n",
    "\n",
    "\n",
    "<img src=\"./pictures/target.png\" alt=\"Drawing\" style=\"width: 200px;\"/>\n",
    "  "
   ]
  },
  {
   "cell_type": "markdown",
   "metadata": {},
   "source": [
    "* *divR6Known* is a downloaded list from uniprot with the <u>\"cell division\"</u> GO term selected : **[GO:0051301]**\n",
    "\n",
    "<div class=\"alert alert-info\">\n",
    "    You can check out the list <a href=http://www.uniprot.org/uniprot/?query=taxonomy:%22Streptococcus%20pneumoniae%20(strain%20ATCC%20BAA-255%20/%20R6)%20[171101]%22+go:51301> here\n",
    "</div>"
   ]
  },
  {
   "cell_type": "code",
   "execution_count": 3,
   "metadata": {
    "collapsed": true
   },
   "outputs": [],
   "source": [
    "divisome = sW.Divisome()\n",
    "onlyId = divisome.getDivisomeID('/PATH/TO/THE/FILE/divKnownR6.txt')"
   ]
  },
  {
   "cell_type": "markdown",
   "metadata": {},
   "source": [
    "Here, you can check if the parsing works fine.\n",
    "\n",
    "The next cell is supposed to print your Id list with Uniprot identifier."
   ]
  },
  {
   "cell_type": "code",
   "execution_count": 4,
   "metadata": {
    "collapsed": false
   },
   "outputs": [
    {
     "name": "stdout",
     "output_type": "stream",
     "text": [
      "['Q8CWP9', 'Q8DQM0', 'P64073', 'Q8DQE5', 'P64167', 'Q8DR70', 'Q8DR57', 'Q8DNE8', 'Q8DNI9', 'Q9EUQ7', 'Q8DNS0', 'Q8DR29', 'Q7ZAK7', 'Q8DR55', 'Q8DPV4', 'Q8DP40', 'Q8DR69', 'Q8CWQ5', 'Q8DQM2', 'Q8DQM1', 'P65467', 'P59676', 'Q8DPW6', 'Q8DQH3', 'Q8DNV6', 'Q8DQH4', 'Q8DNV8', 'Q8DQE8', 'Q8CZ65', 'Q8DPK2', 'Q8DNV9']\n"
     ]
    }
   ],
   "source": [
    "print onlyId"
   ]
  },
  {
   "cell_type": "markdown",
   "metadata": {
    "deletable": true,
    "editable": true
   },
   "source": [
    "## Graphs Functions"
   ]
  },
  {
   "cell_type": "markdown",
   "metadata": {},
   "source": [
    "<img src=\"./pictures/Results.png\" alt=\"Drawing\" style=\"width: 200px;\"/>"
   ]
  },
  {
   "cell_type": "markdown",
   "metadata": {},
   "source": [
    "<img src=\"./pictures/Resultats_example.png\" alt=\"Drawing\" style=\"width: 800px;\"/>"
   ]
  },
  {
   "cell_type": "markdown",
   "metadata": {},
   "source": [
    "<u>Results of previous analysis can be observed above.</u>\n",
    "\n",
    "The example above show the **full graph** *(left)* of all the predicted interactions between queries.\n",
    "\n",
    "On the right, you can see a **\"nearest neighbor graph\"** *(top)* of a selected protein and some statistics *(bottom)* of this graph."
   ]
  },
  {
   "cell_type": "code",
   "execution_count": null,
   "metadata": {
    "collapsed": false
   },
   "outputs": [],
   "source": [
    "interactome = graph.Interactome(queryTopo)\n",
    "test = interactome.drawGraph()\n",
    "nx.draw_networkx(test, with_labels = True)\n",
    "plt.show()"
   ]
  },
  {
   "cell_type": "code",
   "execution_count": null,
   "metadata": {
    "collapsed": false
   },
   "outputs": [],
   "source": [
    "premierVoisin = interactome.createNeiGraph('Q8DR55', test)\n",
    "drawPremierVoisin = interactome.drawNeiGraph(premierVoisin)\n",
    "filtre = interactome.filterGraph(drawPremierVoisin, evalue = 2.2272e-10, coverage = 90)\n",
    "stats = interactome.drawCurveParam(premierVoisin)\n",
    "plt.show()\n",
    "nx.draw_networkx(drawPremierVoisin, with_labels = True)\n",
    "plt.show()"
   ]
  },
  {
   "cell_type": "markdown",
   "metadata": {},
   "source": [
    "# Using your own DataSet\n",
    "## *WORK IN PROGRESS* | *WORK IN PROGRESS* | *WORK IN PROGRESS*"
   ]
  },
  {
   "cell_type": "markdown",
   "metadata": {},
   "source": [
    "<div class=\"alert alert-danger\">\n",
    "This might take a while for big database\n",
    "</div>"
   ]
  },
  {
   "cell_type": "code",
   "execution_count": null,
   "metadata": {
    "collapsed": true
   },
   "outputs": [],
   "source": [
    "database = \"/PATH/TO/YOUR/DATABASE\"\n",
    "filterIds = \"/PATH/TO/FILTER/FILE\"\n",
    "\n",
    "topo = cT.Topology(database, filterIds)\n",
    "newDic = topo.filter_With(filterIds)"
   ]
  },
  {
   "cell_type": "code",
   "execution_count": null,
   "metadata": {
    "collapsed": true
   },
   "outputs": [],
   "source": [
    "indexR6 = '/PATH/TO/INDEX/R6'"
   ]
  },
  {
   "cell_type": "code",
   "execution_count": 20,
   "metadata": {
    "collapsed": false
   },
   "outputs": [
    {
     "ename": "SyntaxError",
     "evalue": "invalid syntax (<ipython-input-20-ddbf30b7f82b>, line 1)",
     "output_type": "error",
     "traceback": [
      "\u001b[0;36m  File \u001b[0;32m\"<ipython-input-20-ddbf30b7f82b>\"\u001b[0;36m, line \u001b[0;32m1\u001b[0m\n\u001b[0;31m    Use the following cell if you start from multiple blast (format xml)\u001b[0m\n\u001b[0m          ^\u001b[0m\n\u001b[0;31mSyntaxError\u001b[0m\u001b[0;31m:\u001b[0m invalid syntax\n"
     ]
    }
   ],
   "source": [
    "Use the following cell if you start from multiple blast (format xml)\n",
    "\n",
    "<div class=\"alert alert-warning\">\n",
    "    This step recquire more time, cause it's parsing all blast output\n",
    "</div>"
   ]
  },
  {
   "cell_type": "code",
   "execution_count": null,
   "metadata": {
    "collapsed": true
   },
   "outputs": [],
   "source": [
    "omegaSet = ca.HomegaSet(path='/PATH/TO/ALL/BLAST/DIR/',\n",
    "                        queryIdList=indexR6)"
   ]
  },
  {
   "cell_type": "code",
   "execution_count": null,
   "metadata": {
    "collapsed": true
   },
   "outputs": [],
   "source": [
    "divisome = sW.Divisome()\n",
    "onlyId = divisome.getDivisomeID('/PATH/TO/FILE/DIV')"
   ]
  }
 ],
 "metadata": {
  "kernelspec": {
   "display_name": "Python 2",
   "language": "python",
   "name": "python2"
  },
  "language_info": {
   "codemirror_mode": {
    "name": "ipython",
    "version": 2
   },
   "file_extension": ".py",
   "mimetype": "text/x-python",
   "name": "python",
   "nbconvert_exporter": "python",
   "pygments_lexer": "ipython2",
   "version": "2.7.13"
  }
 },
 "nbformat": 4,
 "nbformat_minor": 2
}
