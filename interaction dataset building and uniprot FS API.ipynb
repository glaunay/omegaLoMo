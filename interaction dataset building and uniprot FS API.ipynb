{
 "cells": [
  {
   "cell_type": "markdown",
   "metadata": {},
   "source": [
    "#### Deploying a new version of swissprot or uniprot\n",
    "\n",
    "The module has been integrated in the pyproteinsExt package\n",
    "\n",
    "Can be used to \n",
    "* build a new database\n",
    "\n",
    "\n",
    "* query and existing database\n",
    "    * CLI for easy threading\n",
    "    * object mode for inspection in jupyter environment \n",
    "    \n",
    "    \n",
    "    \n",
    "DATABASE building needs documentation\n",
    "\n",
    "\n"
   ]
  },
  {
   "cell_type": "code",
   "execution_count": 1,
   "metadata": {
    "collapsed": false
   },
   "outputs": [],
   "source": [
    "import sys, re\n",
    "%load_ext autoreload\n",
    "\n",
    "# Development library\n",
    "sys.path.append(\"/Users/guillaumelaunay/work/DVL/python3/pyproteinsExt/src\")\n",
    "sys.path.append(\"/Users/guillaumelaunay/work/DVL/python3/pyproteins/src\")\n",
    "\n",
    "sprotFile=\"/Users/guillaumelaunay/work/databases/uniprot_sprot_2018_11.fasta\"\n",
    "workDir=\"/Users/guillaumelaunay/tmp/FS_sprot\""
   ]
  },
  {
   "cell_type": "code",
   "execution_count": 2,
   "metadata": {
    "collapsed": false
   },
   "outputs": [
    {
     "name": "stdout",
     "output_type": "stream",
     "text": [
      "Acknowledged 4344 entries (/Users/guillaumelaunay/work/data/pfam)\n"
     ]
    }
   ],
   "source": [
    "import pyproteinsExt.psicquic as psq\n",
    "import pyproteinsExt.biogrid as bg\n",
    "import pyproteinsExt.database.uniprotFastaFS as DB\n",
    "%autoreload 2"
   ]
  },
  {
   "cell_type": "code",
   "execution_count": 3,
   "metadata": {
    "collapsed": false
   },
   "outputs": [],
   "source": [
    "biogridMapper=bg.BIOGRIDMAPPER()\n",
    "biogridMapper.read(\"/Users/guillaumelaunay/work/databases/biogrid/UNIPROT.tab.txt\")"
   ]
  },
  {
   "cell_type": "markdown",
   "metadata": {},
   "source": [
    "# Building interaction source\n",
    "\n",
    "## Resulting mitab \n",
    "can be found at \n",
    "`/Users/guillaumelaunay/work/databases/psicquicCache/merged_uniprot_safe.mitab`\n",
    "\n",
    "Required for step $2+$ of [divisomeFactory](https://github.com/glaunay/divisomeFactory)\n",
    "\n",
    "### Using sources\n",
    "As of November 2018\n",
    "\n",
    "For all but biogrid, root folder location is **/Users/guillaumelaunay/work/databases/psicquicCache/**\n",
    "\n",
    "\n",
    "|Provider | file location | nb entries | swiss-prot safe | uniprot safe |\n",
    "| --- | :---: | --- | --- |\n",
    "| intact **IN** |`intact_physical_association_2018_11.mitab` | 417220 | 232195 | 327353 |\n",
    "| mint **MT** | `mint_physical_association_2018_11.mitab` | 124464 | 112210 | 121491 |\n",
    "| matrixdb **MX** | `matrixdb_physical_association_2018_11.mitab` | 33334 | 28480 | 29573 |\n",
    "| biogrid **BG**| `/Users/guillaumelaunay/work/databases/biogrid/3.5.166/BIOGRID-MV-Physical-3.5.166.mitab.txt`| 244547 | 231916 | 232233 |\n",
    "\n",
    "NB:biogrid was provided already curated by the database, others were obtained from their psicquic WS. MatrixDB had to filtered-out for \"spoke expansion\""
   ]
  },
  {
   "cell_type": "markdown",
   "metadata": {},
   "source": [
    "### Readin in the mitab sources\n",
    "1. Count total\n",
    "2. Discard any interaction not supported by pair of up-to-date uniprot identifiers SAFE AS SPROT/UNIPROT 2018_11\n",
    "3. Count valid"
   ]
  },
  {
   "cell_type": "markdown",
   "metadata": {},
   "source": [
    " * Predicate for valid uniprot identifier **Set to swissprot or uniprot** "
   ]
  },
  {
   "cell_type": "code",
   "execution_count": 5,
   "metadata": {
    "collapsed": false
   },
   "outputs": [],
   "source": [
    "DBpathSwissprot = \"/Users/guillaumelaunay/tmp/FS_uniprot_v3\"\n",
    "DBpathTrembl = \"/Users/guillaumelaunay/tmp/vTrembl\"\n",
    "\n",
    "def validUniprotPredicate(psqData):\n",
    "    ok = False\n",
    "    for i in range(0,2):\n",
    "        ok = False\n",
    "        for alias in psqData.interactors[i]:\n",
    "            if not alias[0] == \"uniprotkb:\":\n",
    "                continue\n",
    "            if DB.exists(alias[1], DBpathSwissprot):\n",
    "                ok = True\n",
    "                break\n",
    "            elif DB.exists(alias[1], DBpathTrembl):\n",
    "                ok = True\n",
    "                break\n",
    "                \n",
    "        if not ok:\n",
    "            break\n",
    "        \n",
    "    return ok\n"
   ]
  },
  {
   "cell_type": "markdown",
   "metadata": {},
   "source": [
    "##### Intact"
   ]
  },
  {
   "cell_type": "code",
   "execution_count": 6,
   "metadata": {
    "collapsed": false
   },
   "outputs": [
    {
     "name": "stdout",
     "output_type": "stream",
     "text": [
      "417220\n"
     ]
    }
   ],
   "source": [
    "psqObj_IN = psq.PSICQUIC(offLine=True)\n",
    "psqObj_IN.read(\"/Users/guillaumelaunay/work/databases/psicquicCache/intact_physical_association_2018_11.mitab\")\n",
    "print(len(psqObj_IN))"
   ]
  },
  {
   "cell_type": "code",
   "execution_count": 7,
   "metadata": {
    "collapsed": false
   },
   "outputs": [
    {
     "name": "stdout",
     "output_type": "stream",
     "text": [
      "327353\n"
     ]
    }
   ],
   "source": [
    "psqObjRedux_IN = psqObj_IN.filter(predicate=validUniprotPredicate)\n",
    "print(len(psqObjRedux_IN))"
   ]
  },
  {
   "cell_type": "markdown",
   "metadata": {},
   "source": [
    "#### biogrid"
   ]
  },
  {
   "cell_type": "code",
   "execution_count": 8,
   "metadata": {
    "collapsed": false
   },
   "outputs": [
    {
     "name": "stdout",
     "output_type": "stream",
     "text": [
      "244546\n"
     ]
    }
   ],
   "source": [
    "psqObj_BG = psq.PSICQUIC(offLine=True)\n",
    "psqObj_BG.read(\"/Users/guillaumelaunay/work/databases/biogrid/3.5.166/BIOGRID-MV-Physical-3.5.166.mitab.txt\")\n",
    "print(len(psqObj_BG))\n",
    "\n",
    "psqObj_BG.convert(biogridMapper)"
   ]
  },
  {
   "cell_type": "code",
   "execution_count": 9,
   "metadata": {
    "collapsed": false
   },
   "outputs": [
    {
     "name": "stdout",
     "output_type": "stream",
     "text": [
      "232233\n"
     ]
    }
   ],
   "source": [
    "psqObjRedux_BG = psqObj_BG.filter(predicate=validUniprotPredicate)\n",
    "print(len(psqObjRedux_BG))"
   ]
  },
  {
   "cell_type": "markdown",
   "metadata": {},
   "source": [
    "#### matrixDB"
   ]
  },
  {
   "cell_type": "code",
   "execution_count": 10,
   "metadata": {
    "collapsed": false
   },
   "outputs": [
    {
     "name": "stdout",
     "output_type": "stream",
     "text": [
      "33334\n"
     ]
    }
   ],
   "source": [
    "psqObj_MX = psq.PSICQUIC(offLine=True)\n",
    "psqObj_MX.read(\"/Users/guillaumelaunay/work/databases/psicquicCache/matrixdb_physical_association_2018_11.mitab\")\n",
    "print(len(psqObj_MX))"
   ]
  },
  {
   "cell_type": "code",
   "execution_count": 11,
   "metadata": {
    "collapsed": false
   },
   "outputs": [
    {
     "name": "stdout",
     "output_type": "stream",
     "text": [
      "29573\n"
     ]
    }
   ],
   "source": [
    "psqObjRedux_MX = psqObj_MX.filter(predicate=validUniprotPredicate)\n",
    "print(len(psqObjRedux_MX))"
   ]
  },
  {
   "cell_type": "markdown",
   "metadata": {},
   "source": [
    "#### Mint"
   ]
  },
  {
   "cell_type": "code",
   "execution_count": 12,
   "metadata": {
    "collapsed": false
   },
   "outputs": [
    {
     "name": "stdout",
     "output_type": "stream",
     "text": [
      "124464\n"
     ]
    }
   ],
   "source": [
    "psqObj_MT = psq.PSICQUIC(offLine=True)\n",
    "psqObj_MT.read(\"/Users/guillaumelaunay/work/databases/psicquicCache/mint_physical_association_2018_11.mitab\")\n",
    "print(len(psqObj_MT))"
   ]
  },
  {
   "cell_type": "code",
   "execution_count": 13,
   "metadata": {
    "collapsed": false
   },
   "outputs": [
    {
     "name": "stdout",
     "output_type": "stream",
     "text": [
      "121491\n"
     ]
    }
   ],
   "source": [
    "psqObjRedux_MT = psqObj_MT.filter(predicate=validUniprotPredicate)\n",
    "print(len(psqObjRedux_MT))"
   ]
  },
  {
   "cell_type": "markdown",
   "metadata": {},
   "source": [
    "#### MITAB normalizing\n",
    "##### applying uniprot valid identifier to both interactor\n",
    "Probably not needed as filtered was applied, but some DB may put internal identifier in main interactor slot\n",
    "\n",
    "Example given w/ the tweaked `\"/Users/guillaumelaunay/work/databases/psicquicCache/intact_physical_association_2018_11.mitab.normExample\"` intact mitab file"
   ]
  },
  {
   "cell_type": "code",
   "execution_count": 14,
   "metadata": {
    "collapsed": true
   },
   "outputs": [],
   "source": [
    "DBpath = \"/Users/guillaumelaunay/tmp/FS_uniprot_v3\"\n",
    "DBpathTrembl = \"/Users/guillaumelaunay/tmp/vTrembl\"\n",
    "# If the main identifier is not DB safe, swap it w/ the 1st alternative safe one\n",
    "def normalizePsqByDB(psqObj, _DBpath):\n",
    "    for psqData in psqObj:\n",
    "        \n",
    "        for i in range(0,2):\n",
    "            refLoad = None\n",
    "            for alias in psqData.interactors[i]:\n",
    "                if DB.exists(alias[1], _DBpath) or DB.exists(alias[1], DBpathTrembl):\n",
    "                    if not refLoad:\n",
    "                        break\n",
    "                    psqData.swapInteractor(to=alias[1])\n",
    "                    print(\"swapping from \" + str(refLoad) + \" to \" + alias[1])\n",
    "                    break\n",
    "                if not refLoad:\n",
    "                    refLoad = alias[1]\n",
    "            "
   ]
  },
  {
   "cell_type": "markdown",
   "metadata": {},
   "source": [
    "**eg:** input interactors `'intact:', 'EBI-592823'` of interaction _0_ is not swissprot safe but an alternative one `'uniprotkb:', 'Q15291'` is"
   ]
  },
  {
   "cell_type": "code",
   "execution_count": 27,
   "metadata": {
    "collapsed": false
   },
   "outputs": [
    {
     "data": {
      "text/plain": [
       "([('intact:', 'EBI-592823'),\n",
       "  ('uniprotkb:', 'Q15291'),\n",
       "  ('uniprotkb:', 'A8K272'),\n",
       "  ('uniprotkb:', 'Q7Z6D8'),\n",
       "  ('uniprotkb:', 'Q8NDZ7'),\n",
       "  ('dip:', 'DIP-29224N')],\n",
       " [('uniprotkb:', 'Q921F2'),\n",
       "  ('intact:', 'EBI-6876933'),\n",
       "  ('uniprotkb:', 'Q3U591'),\n",
       "  ('uniprotkb:', 'Q3V0E7')])"
      ]
     },
     "execution_count": 27,
     "metadata": {},
     "output_type": "execute_result"
    }
   ],
   "source": [
    "psqObj_dev = psq.PSICQUIC(offLine=True)\n",
    "psqObj_dev.read(\"/Users/guillaumelaunay/work/databases/psicquicCache/intact_physical_association_2018_11.mitab.normExample\")\n",
    "psqObj_dev[0].interactors"
   ]
  },
  {
   "cell_type": "code",
   "execution_count": 16,
   "metadata": {
    "collapsed": false
   },
   "outputs": [
    {
     "name": "stdout",
     "output_type": "stream",
     "text": [
      "swapping from EBI-592823 to Q15291\n"
     ]
    },
    {
     "data": {
      "text/plain": [
       "([('uniprotkb:', 'Q15291'),\n",
       "  ('intact:', 'EBI-592823'),\n",
       "  ('uniprotkb:', 'A8K272'),\n",
       "  ('uniprotkb:', 'Q7Z6D8'),\n",
       "  ('uniprotkb:', 'Q8NDZ7'),\n",
       "  ('dip:', 'DIP-29224N')],\n",
       " [('uniprotkb:', 'Q921F2'),\n",
       "  ('intact:', 'EBI-6876933'),\n",
       "  ('uniprotkb:', 'Q3U591'),\n",
       "  ('uniprotkb:', 'Q3V0E7')])"
      ]
     },
     "execution_count": 16,
     "metadata": {},
     "output_type": "execute_result"
    }
   ],
   "source": [
    "normalizePsqByDB(psqObj_dev, DBpath)\n",
    "psqObj_dev[0].interactors"
   ]
  },
  {
   "cell_type": "markdown",
   "metadata": {},
   "source": [
    "#### Normalization of actual datasets"
   ]
  },
  {
   "cell_type": "code",
   "execution_count": 15,
   "metadata": {
    "collapsed": false
   },
   "outputs": [
    {
     "name": "stdout",
     "output_type": "stream",
     "text": [
      "Normalizing IntAct dataset\n",
      "swapping from P62158 to P0DP23\n",
      "swapping from P62158 to P0DP23\n",
      "swapping from P62158 to P0DP23\n",
      "swapping from P62158 to P0DP23\n",
      "swapping from P62158 to P0DP23\n",
      "swapping from P62158 to P0DP23\n",
      "swapping from P62158 to P0DP23\n",
      "swapping from P62158 to P0DP23\n",
      "swapping from P62158 to P0DP23\n",
      "swapping from P62158 to P0DP23\n",
      "swapping from P62158 to P0DP23\n",
      "swapping from P62158 to P0DP23\n",
      "swapping from P62158 to P0DP23\n",
      "swapping from P62158 to P0DP23\n",
      "swapping from P62158 to P0DP23\n",
      "swapping from P62158 to P0DP23\n",
      "swapping from P62158 to P0DP23\n",
      "swapping from P62158 to P0DP23\n",
      "swapping from P62158 to P0DP23\n",
      "swapping from P62158 to P0DP23\n",
      "swapping from P62158 to P0DP23\n",
      "swapping from P62158 to P0DP23\n",
      "swapping from P30042 to P0DPI2\n",
      "swapping from P30042 to P0DPI2\n",
      "swapping from P62158 to P0DP23\n",
      "swapping from P62158 to P0DP23\n",
      "swapping from P62158 to P0DP23\n",
      "swapping from P62158 to P0DP23\n",
      "swapping from P25854 to P0DH96\n",
      "swapping from P25854 to P0DH96\n",
      "swapping from P25854 to P0DH96\n",
      "swapping from P62158 to P0DP23\n",
      "swapping from P62158 to P0DP23\n",
      "swapping from P62158 to P0DP23\n",
      "swapping from P62158 to P0DP23\n",
      "swapping from P62158 to P0DP23\n",
      "swapping from P62158 to P0DP23\n",
      "swapping from P62204 to P0DP26\n",
      "swapping from P62204 to P0DP26\n",
      "swapping from P62158 to P0DP23\n",
      "swapping from P62161 to P0DP30\n",
      "swapping from P62161 to P0DP30\n",
      "swapping from P62158 to P0DP23\n",
      "swapping from P62158 to P0DP23\n",
      "swapping from P25854 to P0DH96\n",
      "swapping from P25854 to P0DH96\n",
      "swapping from P25854 to P0DH96\n",
      "swapping from P25854 to P0DH96\n",
      "swapping from P25854 to P0DH96\n",
      "swapping from P25854 to P0DH96\n",
      "swapping from P25854 to P0DH96\n",
      "swapping from P25854 to P0DH96\n",
      "swapping from P25854 to P0DH96\n",
      "swapping from P25854 to P0DH96\n",
      "swapping from P25854 to P0DH96\n",
      "swapping from P62158 to P0DP23\n",
      "swapping from P62158 to P0DP23\n",
      "swapping from P62158 to P0DP23\n",
      "swapping from P62158 to P0DP23\n",
      "swapping from P62158 to P0DP23\n",
      "swapping from P62158 to P0DP23\n",
      "swapping from P62158 to P0DP23\n",
      "swapping from P62158 to P0DP23\n",
      "swapping from P62158 to P0DP23\n",
      "swapping from P62158 to P0DP23\n",
      "swapping from P62158 to P0DP23\n",
      "swapping from P62158 to P0DP23\n",
      "swapping from P62158 to P0DP23\n",
      "swapping from P62158 to P0DP23\n",
      "swapping from P62158 to P0DP23\n",
      "swapping from P62158 to P0DP23\n",
      "swapping from P62158 to P0DP23\n",
      "swapping from P62158 to P0DP23\n",
      "swapping from P62158 to P0DP23\n",
      "swapping from P62158 to P0DP23\n",
      "swapping from P62158 to P0DP23\n",
      "swapping from P62158 to P0DP23\n",
      "swapping from P62204 to P0DP26\n",
      "swapping from P62204 to P0DP26\n",
      "swapping from P62204 to P0DP26\n",
      "swapping from P62204 to P0DP26\n",
      "swapping from P62204 to P0DP26\n",
      "swapping from P62204 to P0DP26\n",
      "swapping from P62158 to P0DP23\n",
      "swapping from P62158 to P0DP23\n",
      "swapping from P30042 to P0DPI2\n",
      "swapping from P62158 to P0DP23\n",
      "swapping from P62158 to P0DP23\n",
      "swapping from P62158 to P0DP23\n",
      "swapping from P62158 to P0DP23\n",
      "swapping from P62158 to P0DP23\n",
      "swapping from P62158 to P0DP23\n",
      "swapping from P62158 to P0DP23\n",
      "swapping from P62158 to P0DP23\n",
      "swapping from P62158 to P0DP23\n",
      "swapping from P62158 to P0DP23\n",
      "swapping from P62158 to P0DP23\n",
      "swapping from P62158 to P0DP23\n",
      "swapping from P62158 to P0DP23\n",
      "swapping from P62158 to P0DP23\n",
      "swapping from P62158 to P0DP23\n",
      "swapping from P62158 to P0DP23\n",
      "swapping from P62158 to P0DP23\n",
      "swapping from P62158 to P0DP23\n",
      "swapping from P62158 to P0DP23\n",
      "swapping from P62161 to P0DP30\n",
      "swapping from P62161 to P0DP30\n",
      "swapping from P62161 to P0DP30\n",
      "swapping from P62161 to P0DP30\n",
      "swapping from P62158 to P0DP23\n",
      "swapping from P62158 to P0DP23\n",
      "swapping from P62158 to P0DP23\n",
      "swapping from P62158 to P0DP23\n",
      "swapping from P62158 to P0DP23\n",
      "swapping from P62158 to P0DP23\n",
      "swapping from P25854 to P0DH96\n",
      "swapping from P25854 to P0DH96\n",
      "swapping from P25854 to P0DH96\n",
      "swapping from P25854 to P0DH96\n",
      "swapping from P25854 to P0DH96\n",
      "swapping from P25854 to P0DH96\n",
      "swapping from P25854 to P0DH96\n",
      "swapping from P25854 to P0DH96\n",
      "swapping from P25854 to P0DH96\n",
      "swapping from P25854 to P0DH96\n",
      "swapping from P25854 to P0DH96\n",
      "swapping from P25854 to P0DH96\n",
      "swapping from P25854 to P0DH96\n",
      "swapping from P25854 to P0DH96\n",
      "swapping from P25854 to P0DH96\n",
      "swapping from P25854 to P0DH96\n",
      "swapping from P25854 to P0DH96\n",
      "swapping from P25854 to P0DH96\n",
      "swapping from P25854 to P0DH96\n",
      "swapping from P25854 to P0DH96\n",
      "swapping from P25854 to P0DH96\n",
      "swapping from P25854 to P0DH96\n",
      "swapping from P25854 to P0DH96\n",
      "swapping from P25854 to P0DH96\n",
      "swapping from P25854 to P0DH96\n",
      "swapping from P25854 to P0DH96\n",
      "swapping from P25854 to P0DH96\n",
      "swapping from P25854 to P0DH96\n",
      "swapping from P25854 to P0DH96\n",
      "swapping from P25854 to P0DH96\n",
      "swapping from P25854 to P0DH96\n",
      "swapping from P25854 to P0DH96\n",
      "swapping from P25854 to P0DH96\n",
      "swapping from P25854 to P0DH96\n",
      "swapping from P25854 to P0DH96\n",
      "swapping from P25854 to P0DH96\n",
      "swapping from P25854 to P0DH96\n",
      "swapping from P25854 to P0DH96\n",
      "swapping from P25854 to P0DH96\n",
      "swapping from P25854 to P0DH96\n",
      "swapping from P25854 to P0DH96\n",
      "swapping from P25854 to P0DH96\n",
      "swapping from P25854 to P0DH96\n",
      "swapping from P25854 to P0DH96\n",
      "swapping from P25854 to P0DH96\n",
      "swapping from P25854 to P0DH96\n",
      "swapping from P25854 to P0DH96\n",
      "swapping from P25854 to P0DH96\n",
      "swapping from P25854 to P0DH96\n",
      "swapping from P25854 to P0DH96\n",
      "swapping from P25854 to P0DH96\n",
      "swapping from P25854 to P0DH96\n",
      "swapping from P25854 to P0DH96\n",
      "swapping from P25854 to P0DH96\n",
      "swapping from P25854 to P0DH96\n",
      "swapping from P25854 to P0DH96\n",
      "swapping from P25854 to P0DH96\n",
      "swapping from P25854 to P0DH96\n",
      "swapping from P25854 to P0DH96\n",
      "swapping from P25854 to P0DH96\n",
      "swapping from P25854 to P0DH96\n",
      "swapping from P25854 to P0DH96\n",
      "swapping from P25854 to P0DH96\n",
      "swapping from P25854 to P0DH96\n",
      "swapping from P25854 to P0DH96\n",
      "swapping from P25854 to P0DH96\n",
      "swapping from P25854 to P0DH96\n",
      "swapping from P25854 to P0DH96\n",
      "swapping from P25854 to P0DH96\n",
      "swapping from P25854 to P0DH96\n",
      "swapping from P25854 to P0DH96\n",
      "swapping from P25854 to P0DH96\n",
      "swapping from P25854 to P0DH96\n",
      "swapping from P25854 to P0DH96\n",
      "swapping from P25854 to P0DH96\n",
      "swapping from P25854 to P0DH96\n",
      "swapping from P25854 to P0DH96\n",
      "swapping from P25854 to P0DH96\n",
      "swapping from P25854 to P0DH96\n",
      "swapping from P25854 to P0DH96\n",
      "swapping from P25854 to P0DH96\n",
      "swapping from P25854 to P0DH96\n",
      "swapping from P25854 to P0DH96\n",
      "swapping from P25854 to P0DH96\n",
      "swapping from P25854 to P0DH96\n",
      "swapping from P25854 to P0DH96\n",
      "swapping from P25854 to P0DH96\n",
      "swapping from P25854 to P0DH96\n",
      "swapping from P25854 to P0DH96\n",
      "swapping from P25854 to P0DH96\n",
      "swapping from P25854 to P0DH96\n",
      "swapping from P25854 to P0DH96\n",
      "swapping from P25854 to P0DH96\n",
      "swapping from P25854 to P0DH96\n",
      "swapping from P25854 to P0DH96\n",
      "swapping from P25854 to P0DH96\n",
      "swapping from P25854 to P0DH96\n",
      "swapping from P25854 to P0DH96\n",
      "swapping from P25854 to P0DH96\n",
      "swapping from P25854 to P0DH96\n",
      "swapping from P25854 to P0DH96\n",
      "swapping from P25854 to P0DH96\n",
      "swapping from P25854 to P0DH96\n",
      "swapping from P25854 to P0DH96\n",
      "swapping from P25854 to P0DH96\n",
      "swapping from P25854 to P0DH96\n",
      "swapping from P25854 to P0DH96\n",
      "swapping from P25854 to P0DH96\n",
      "swapping from P25854 to P0DH96\n",
      "swapping from P25854 to P0DH96\n",
      "swapping from P25854 to P0DH96\n",
      "swapping from P25854 to P0DH96\n",
      "swapping from P25854 to P0DH96\n",
      "swapping from P25854 to P0DH96\n",
      "swapping from P25854 to P0DH96\n",
      "swapping from P25854 to P0DH96\n",
      "swapping from P25854 to P0DH96\n",
      "swapping from P25854 to P0DH96\n",
      "swapping from P25854 to P0DH96\n",
      "swapping from P25854 to P0DH96\n",
      "swapping from P25854 to P0DH96\n",
      "swapping from P25854 to P0DH96\n",
      "swapping from P25854 to P0DH96\n",
      "swapping from P25854 to P0DH96\n",
      "swapping from P25854 to P0DH96\n",
      "swapping from P25854 to P0DH96\n",
      "swapping from P25854 to P0DH96\n",
      "swapping from P25854 to P0DH96\n",
      "swapping from P25854 to P0DH96\n",
      "swapping from P25854 to P0DH96\n",
      "swapping from P25854 to P0DH96\n",
      "swapping from P25854 to P0DH96\n",
      "swapping from P25854 to P0DH96\n",
      "swapping from P25854 to P0DH96\n",
      "swapping from P25854 to P0DH96\n",
      "swapping from P25854 to P0DH96\n",
      "swapping from P25854 to P0DH96\n",
      "swapping from P25854 to P0DH96\n",
      "swapping from P25854 to P0DH96\n",
      "swapping from P25854 to P0DH96\n",
      "swapping from P62158 to P0DP23\n",
      "swapping from P62158 to P0DP23\n",
      "swapping from P62158 to P0DP23\n",
      "swapping from P62161 to P0DP30\n",
      "swapping from P62161 to P0DP30\n",
      "swapping from P62161 to P0DP30\n",
      "swapping from P62161 to P0DP30\n",
      "swapping from P62161 to P0DP30\n",
      "swapping from P62161 to P0DP30\n",
      "swapping from P62158 to P0DP23\n",
      "swapping from P62204 to P0DP26\n",
      "swapping from P62161 to P0DP30\n",
      "swapping from P62161 to P0DP30\n",
      "swapping from P62161 to P0DP30\n",
      "swapping from P62158 to P0DP23\n",
      "swapping from P62158 to P0DP23\n",
      "swapping from P62158 to P0DP23\n",
      "swapping from P62161 to P0DP30\n",
      "swapping from P62158 to P0DP23\n",
      "swapping from P62158 to P0DP23\n",
      "swapping from P62158 to P0DP23\n",
      "swapping from P62158 to P0DP23\n",
      "swapping from P62158 to P0DP23\n",
      "swapping from P62158 to P0DP23\n",
      "swapping from P62158 to P0DP23\n",
      "swapping from P62158 to P0DP23\n",
      "swapping from P62158 to P0DP23\n",
      "swapping from P62158 to P0DP23\n",
      "swapping from P62158 to P0DP23\n",
      "swapping from P62158 to P0DP23\n",
      "swapping from P62158 to P0DP23\n",
      "swapping from P62158 to P0DP23\n",
      "swapping from P62158 to P0DP23\n",
      "swapping from P62158 to P0DP23\n",
      "swapping from P62158 to P0DP23\n",
      "swapping from P62158 to P0DP23\n",
      "swapping from P62158 to P0DP23\n",
      "swapping from P62158 to P0DP23\n",
      "swapping from P62158 to P0DP23\n",
      "swapping from P62158 to P0DP23\n",
      "swapping from P62158 to P0DP23\n",
      "swapping from P62158 to P0DP23\n",
      "swapping from P62158 to P0DP23\n",
      "swapping from P62158 to P0DP23\n",
      "swapping from P62158 to P0DP23\n",
      "swapping from P62158 to P0DP23\n",
      "swapping from P62158 to P0DP23\n",
      "swapping from P30042 to P0DPI2\n",
      "swapping from P30042 to P0DPI2\n",
      "Normalizing Mint dataset\n",
      "swapping from P62158 to P0DP23\n",
      "swapping from P62158 to P0DP23\n",
      "swapping from P62158 to P0DP23\n",
      "swapping from P62158 to P0DP23\n",
      "swapping from P62158 to P0DP23\n",
      "swapping from P62158 to P0DP23\n",
      "swapping from P62158 to P0DP23\n",
      "swapping from P62158 to P0DP23\n",
      "swapping from P62161 to P0DP30\n",
      "swapping from P62161 to P0DP30\n",
      "swapping from P62161 to P0DP30\n",
      "swapping from P62161 to P0DP30\n",
      "swapping from P62158 to P0DP23\n",
      "swapping from P62158 to P0DP23\n",
      "swapping from P62158 to P0DP23\n",
      "swapping from P62158 to P0DP23\n",
      "swapping from P62158 to P0DP23\n",
      "swapping from P62161 to P0DP30\n",
      "swapping from P62204 to P0DP26\n",
      "swapping from P62204 to P0DP26\n",
      "swapping from P62158 to P0DP23\n",
      "swapping from P62158 to P0DP23\n",
      "swapping from P62158 to P0DP23\n",
      "swapping from P62158 to P0DP23\n",
      "swapping from P62158 to P0DP23\n",
      "swapping from P62158 to P0DP23\n",
      "swapping from P62158 to P0DP23\n",
      "swapping from P62158 to P0DP23\n",
      "swapping from P62158 to P0DP23\n",
      "swapping from P62158 to P0DP23\n",
      "swapping from P62158 to P0DP23\n",
      "swapping from P62158 to P0DP23\n",
      "swapping from P62158 to P0DP23\n",
      "swapping from P25854 to P0DH96\n",
      "swapping from P25854 to P0DH96\n",
      "swapping from P25854 to P0DH96\n",
      "swapping from P62158 to P0DP23\n",
      "swapping from P62158 to P0DP23\n",
      "swapping from P62158 to P0DP23\n",
      "swapping from P62158 to P0DP23\n",
      "swapping from P62158 to P0DP23\n",
      "swapping from P62158 to P0DP23\n",
      "swapping from P62158 to P0DP23\n",
      "swapping from P62158 to P0DP23\n",
      "swapping from P62158 to P0DP23\n",
      "swapping from P62158 to P0DP23\n",
      "swapping from P62158 to P0DP23\n",
      "swapping from P62204 to P0DP26\n",
      "swapping from P62204 to P0DP26\n",
      "swapping from P62204 to P0DP26\n",
      "swapping from P62204 to P0DP26\n",
      "swapping from P62204 to P0DP26\n",
      "swapping from P62204 to P0DP26\n",
      "swapping from P62204 to P0DP26\n",
      "swapping from P62204 to P0DP26\n",
      "swapping from P62204 to P0DP26\n",
      "swapping from P62204 to P0DP26\n",
      "swapping from P62158 to P0DP23\n",
      "swapping from P62158 to P0DP23\n",
      "swapping from P62158 to P0DP23\n",
      "swapping from P62158 to P0DP23\n",
      "swapping from P25854 to P0DH96\n",
      "swapping from P25854 to P0DH96\n",
      "swapping from P62204 to P0DP26\n",
      "swapping from P62204 to P0DP26\n",
      "swapping from P62204 to P0DP26\n",
      "swapping from P62204 to P0DP26\n",
      "swapping from P62204 to P0DP26\n",
      "swapping from P62204 to P0DP26\n",
      "swapping from P62204 to P0DP26\n",
      "swapping from P62204 to P0DP26\n",
      "swapping from P62204 to P0DP26\n",
      "swapping from P62161 to P0DP30\n",
      "swapping from P62161 to P0DP30\n",
      "swapping from P62158 to P0DP23\n",
      "swapping from P62158 to P0DP23\n",
      "swapping from P62158 to P0DP23\n",
      "swapping from P62161 to P0DP30\n",
      "swapping from P62161 to P0DP30\n",
      "swapping from P62161 to P0DP30\n",
      "swapping from P62161 to P0DP30\n",
      "swapping from P62161 to P0DP30\n",
      "swapping from P62158 to P0DP23\n",
      "swapping from P62158 to P0DP23\n",
      "swapping from P62158 to P0DP23\n",
      "swapping from P62158 to P0DP23\n",
      "swapping from P62158 to P0DP23\n",
      "swapping from P62158 to P0DP23\n",
      "swapping from P62158 to P0DP23\n",
      "swapping from P62158 to P0DP23\n",
      "swapping from P62158 to P0DP23\n",
      "swapping from P62158 to P0DP23\n",
      "swapping from P62158 to P0DP23\n",
      "Normalizing biogrid dataset\n",
      "Normalizing matrixDB  dataset\n"
     ]
    }
   ],
   "source": [
    "print(\"Normalizing IntAct dataset\")\n",
    "normalizePsqByDB(psqObjRedux_IN, DBpath) # \n",
    "print(\"Normalizing Mint dataset\")\n",
    "normalizePsqByDB(psqObjRedux_MT, DBpath)\n",
    "print(\"Normalizing biogrid dataset\")\n",
    "normalizePsqByDB(psqObjRedux_BG, DBpath)\n",
    "print(\"Normalizing matrixDB  dataset\")\n",
    "normalizePsqByDB(psqObjRedux_MX, DBpath)\n",
    "\n"
   ]
  },
  {
   "cell_type": "markdown",
   "metadata": {},
   "source": [
    "#### Merge, make NR & dump"
   ]
  },
  {
   "cell_type": "code",
   "execution_count": 16,
   "metadata": {
    "collapsed": false
   },
   "outputs": [
    {
     "name": "stdout",
     "output_type": "stream",
     "text": [
      "710650\n",
      "637100\n"
     ]
    }
   ],
   "source": [
    "total_psqObj = psq.PSICQUIC(offLine=True)\n",
    "\n",
    "for psqSet in [psqObjRedux_IN, psqObjRedux_MT, psqObjRedux_BG, psqObjRedux_MX]:\n",
    "    total_psqObj.records += psqSet.records\n",
    "\n",
    "print( len(total_psqObj) )\n",
    "total_psqObj.makeNR()\n",
    "print( len(total_psqObj) )"
   ]
  },
  {
   "cell_type": "code",
   "execution_count": 17,
   "metadata": {
    "collapsed": false
   },
   "outputs": [
    {
     "data": {
      "text/plain": [
       "'100 first items...\\nuniprotkb:Q38922\\tuniprotkb:Q84K38\\tintact:EBI-4472335|uniprotkb:A8MRA2\\tintact:EBI-16882550\\tpsi-mi:rab1b_arath(display_long)|uniprotkb:RABB1B(gene name)|psi-mi:RABB1B(display_short)|uniprotkb:GB2(gene name synonym)|uniprotkb:RAB2C(gene name synonym)|uniprotkb:Ras-related protein GB2(gene name synonym)|uniprotkb:Ras-related protein Rab2C(gene name synonym)|uniprotkb:F4B14.130(orf name)|uniprotkb:At4g35860(locus name)\\tpsi-mi:q84k38_arath(display_long)|uniprotkb:MNF13.19(gene name)|psi-mi:MNF13.19(display_short)|uniprotkb:MNF13_19(gene name synonym)|uniprotkb:At5g40640(locus name)\\tpsi-mi:\"MI:0112\"(ubiquitin reconstruction)\\tJones et al. (2014)\\timex:IM-26362|pubmed:24833385|doi:10.1126/science.1251358\\ttaxid:3702(arath)|taxid:3702(\"Arabidopsis thaliana (Mouse-ear cress)\")\\ttaxid:3702(arath)|taxid:3702(\"Arabidopsis thaliana (Mouse-ear cress)\")\\tpsi-mi:\"MI:0915\"(physical association)\\tpsi-mi:\"MI:0469\"(IntAct)\\tintact:EBI-16994127|imex:IM-26362-12611\\tintact-miscore:0.37\\nuniprotkb:O13710\\tuniprotkb:P53692\\tbiogrid:278084|entrez gene/locuslink:smc5|entrez gene/locuslink:SPAC14C4.02c|entrez gene/locuslink:2541587\\tbiogrid:275593|entrez gene/locuslink:smc6|entrez gene/locuslink:SPCC5E4.06|entrez gene/locuslink:2539020\\tentrez gene/locuslink:spr18(gene name synonym)\\tentrez gene/locuslink:rad18(gene name synonym)\\tpsi-mi:\"MI:0004\"(affinity chromatography technology)\\t\"Pebernard S (2004)\"\\tpubmed:15331764\\ttaxid:284812\\ttaxid:284812\\tpsi-mi:\"MI:0915\"(physical association)\\tpsi-mi:\"MI:0463\"(biogrid)\\tbiogrid:250203\\t-\\nuniprotkb:P51451\\tuniprotkb:Q6NX45\\tintact:EBI-2105445|uniprotkb:Q96IN1|uniprotkb:Q16291\\tintact:EBI-10251462|uniprotkb:A8K020\\tpsi-mi:blk_human(display_long)|uniprotkb:BLK(gene name)|psi-mi:BLK(display_short)|uniprotkb:B lymphocyte kinase(gene name synonym)|uniprotkb:p55-Blk(gene name synonym)\\tpsi-mi:zn774_human(display_long)|uniprotkb:ZNF774(gene name)|psi-mi:ZNF774(display_short)\\tpsi-mi:\"MI:0397\"(two hybrid array)\\tHuri, et al. (2017)\\tpubmed:unassigned1304|imex:IM-25472\\ttaxid:9606(human)|taxid:9606(Homo sapiens)\\ttaxid:9606(human)|taxid:9606(Homo sapiens)\\tpsi-mi:\"MI:0915\"(physical association)\\tpsi-mi:\"MI:0469\"(IntAct)\\tintact:EBI-19303887|imex:IM-25472-33734\\tauthor score:NULL|intact-miscore:0.49\\nuniprotkb:Q1D948\\tuniprotkb:Q1DCL6\\tintact:EBI-1574166\\tintact:EBI-1574089\\tpsi-mi:q1d948_myxxd(display_long)|uniprotkb:MXAN_2606(locus name)\\tpsi-mi:q1dcl6_myxxd(display_long)|uniprotkb:MXAN_1350(locus name)\\tpsi-mi:\"MI:0018\"(two hybrid)\\tD. et al.\\tpubmed:18442170|imex:IM-19225\\ttaxid:246197(myxxd)|taxid:246197(\"Myxococcus xanthus (strain DK 1622)\")\\ttaxid:246197(myxxd)|taxid:246197(\"Myxococcus xanthus (strain DK 1622)\")\\tpsi-mi:\"MI:0915\"(physical association)\\tpsi-mi:\"MI:0469\"(IntAct)\\tintact:EBI-1575067|imex:IM-19225-141\\tauthor score:medium|intact-miscore:0.37\\nuniprotkb:P35225\\tuniprotkb:Q14627\\t-\\t-\\tuniprotkb:Il13(gene name)\\tuniprotkb:Il13ra2(gene name)\\tpsi-mi:\"MI:0107\"(surface plasmon resonance)\\tLupardus PJ et al.(2010)\\tpubmed:20223216|imex:IM-15909\\ttaxid:9606(Homo sapiens)\\ttaxid:9606(Homo sapiens)\\tpsi-mi:\"MI:0407\"(direct interaction)\\tpsi-mi:\"MI:0465\"(dip)|psi-mi:\"MI:0917\"(matrixdb)\\tmatrixdb:P35225__Q14627_20223216_dip_3|dip:DIP-4684E|intact:EBI-15841959|imex:IM-15909-4\\t-\\t-\\tpsi-mi:\"MI:0499\"(unspecified role)\\tpsi-mi:\"MI:0499\"(unspecified role)\\tpsi-mi:\"MI:0498\"(prey)\\tpsi-mi:\"MI:0496\"(bait)\\t-\\t-\\t-\\t-\\t-\\t-\\t-\\tcuration depth:imex curation\\ttaxid:-1(in vitro)\\t-\\t-\\t-\\t-\\t-\\t-\\tfalse\\tmutation decreasing interaction:137-137(lys137ala)|mutation decreasing interaction:140-140(phe140ala)|binding-associated region:21-132|mutation decreasing interaction:47-47(ile47ala)|mutation decreasing interaction:138-138(lys138ala)\\tbinding-associated region:29-331\\t-\\t-\\tpsi-mi:\"MI:0396\"(predetermined participant)\\tpsi-mi:\"MI:0396\"(predetermined participant)\\nuniprotkb:Q53EZ4\\tuniprotkb:P55081\\t-\\t-\\tuniprotkb:Cep55(gene name)\\tuniprotkb:MFAP1(gene name)\\tpsi-mi:\"MI:0397\"(two hybrid array)\\tRolland T et al.(2014)\\tpubmed:25416956|imex:IM-23318\\ttaxid:9606(Homo sapiens)\\ttaxid:9606(Homo sapiens)\\tpsi-mi:\"MI:0915\"(physical association)\\tpsi-mi:\"MI:0469\"(intact)|psi-mi:\"MI:0917\"(matrixdb)\\tmatrixdb:P55081__Q53EZ4_25416956_intact_2|intact:EBI-10371266|imex:IM-23318-18200\\t-\\t-\\tpsi-mi:\"MI:0499\"(unspecified role)\\tpsi-mi:\"MI:0499\"(unspecified role)\\tpsi-mi:\"MI:0498\"(prey)\\tpsi-mi:\"MI:0496\"(bait)\\t-\\t-\\t-\\t-\\t-\\tauthor-name:\"\\\\\"CCSB ORF ID: 4717\\\\\"\"\\tauthor-name:\"\\\\\"CCSB ORF ID: 11817\\\\\"\"\\tfigure legend:\"\\\\\"supplementary table 2G\\\\\"\"|curation depth:imex curation\\ttaxid:4932(Saccharomyces cerevisiae _strain ATCC 204508 / S288c_)\\t-\\t-\\t-\\t-\\t-\\t-\\tfalse\\t-\\t-\\t-\\t-\\tpsi-mi:\"MI:0078\"(nucleotide sequence identification)\\tpsi-mi:\"MI:0078\"(nucleotide sequence identification)\\nuniprotkb:Q9NWX5\\tuniprotkb:P09067\\tintact:EBI-6425205|uniprotkb:Q9BV15|uniprotkb:Q5SZB7\\tintact:EBI-3893317|uniprotkb:B2RC69|uniprotkb:P09069|uniprotkb:Q17RP4\\tpsi-mi:asb6_human(display_long)|uniprotkb:ASB6(gene name)|psi-mi:ASB6(display_short)\\tpsi-mi:hxb5_human(display_long)|uniprotkb:HOXB5(gene name)|psi-mi:HOXB5(display_short)|uniprotkb:HOX2A(gene name synonym)|uniprotkb:Homeobox protein HHO.C10(gene name synonym)|uniprotkb:Homeobox protein Hox-2A(gene name synonym)|uniprotkb:Homeobox protein Hu-1(gene name synonym)\\tpsi-mi:\"MI:1112\"(two hybrid prey pooling approach)\\tHuri, et al. (2017)\\tpubmed:unassigned1304|imex:IM-25472\\ttaxid:9606(human)|taxid:9606(Homo sapiens)\\ttaxid:9606(human)|taxid:9606(Homo sapiens)\\tpsi-mi:\"MI:0915\"(physical association)\\tpsi-mi:\"MI:0469\"(IntAct)\\tintact:EBI-19165827|imex:IM-25472-91419\\tauthor score:NULL|intact-miscore:0.49\\nuniprotkb:O45444\\tuniprotkb:Q8MXV7\\tintact:EBI-321684\\tintact:EBI-321675\\tpsi-mi:o45444_caeel(display_long)|uniprotkb:clec-63(gene name)|psi-mi:clec-63(display_short)|uniprotkb:CELE_F35C5.6(orf name)|uniprotkb:F35C5.6(orf name)\\tpsi-mi:q8mxv7_caeel(display_long)|uniprotkb:glr-6(gene name)|psi-mi:glr-6(display_short)|uniprotkb:CELE_F41B4.4(orf name)|uniprotkb:F41B4.4(orf name)\\tpsi-mi:\"MI:0398\"(two hybrid pooling approach)\\tLi et al. (2004)\\tpubmed:14704431|imex:IM-16523|mint:MINT-5216848\\ttaxid:6239(caeel)|taxid:6239(Caenorhabditis elegans)\\ttaxid:6239(caeel)|taxid:6239(Caenorhabditis elegans)\\tpsi-mi:\"MI:0915\"(physical association)\\tpsi-mi:\"MI:0469\"(IntAct)\\tintact:EBI-337214|imex:IM-16523-1361\\tauthor score:NON_CORE|intact-miscore:0.37\\nuniprotkb:P0CG48\\tuniprotkb:Q8IVM0\\tbiogrid:113164|entrez gene/locuslink:UBC|entrez gene/locuslink:7316\\tbiogrid:127431|entrez gene/locuslink:CCDC50|entrez gene/locuslink:152137\\tentrez gene/locuslink:HMG20(gene name synonym)\\tentrez gene/locuslink:C3orf6(gene name synonym)|entrez gene/locuslink:DFNA44(gene name synonym)|entrez gene/locuslink:YMER(gene name synonym)\\tpsi-mi:\"MI:0096\"(pull down)\\t\"Zhang X (2017)\"\\tpubmed:28190767\\ttaxid:9606\\ttaxid:9606\\tpsi-mi:\"MI:0407\"(direct interaction)\\tpsi-mi:\"MI:0463\"(biogrid)\\tbiogrid:2297032\\t-\\nuniprotkb:Q8T603\\tuniprotkb:Q9VDD5\\tintact:EBI-6882092\\tintact:EBI-6881617|uniprotkb:Q95U03\\tpsi-mi:q8t603_drome(display_long)|uniprotkb:dpr1(gene name)|psi-mi:dpr1(display_short)|uniprotkb:dpr(gene name synonym)|uniprotkb:CG13439(orf name)\\tpsi-mi:q9vdd5_drome(display_long)|uniprotkb:10824(gene name synonym)|uniprotkb:CT11359(gene name synonym)|uniprotkb:DIPc(gene name synonym)|uniprotkb:Dmel\\\\CG10824(gene name synonym)|uniprotkb:Dmel_CG10824(orf name)|uniprotkb:cDIP(gene name)|psi-mi:cDIP(display_short)|uniprotkb:CG10824(orf name)\\tpsi-mi:\"MI:0892\"(solid phase assay)\\tOzkan et al. (2013)\\timex:IM-20952|pubmed:23827685\\ttaxid:7227(drome)|taxid:7227(\"Drosophila melanogaster (Fruit fly)\")\\ttaxid:7227(drome)|taxid:7227(\"Drosophila melanogaster (Fruit fly)\")\\tpsi-mi:\"MI:0915\"(physical association)\\tpsi-mi:\"MI:0469\"(IntAct)\\tintact:EBI-6882090|imex:IM-20952-41\\tintact-miscore:0.40\\nuniprotkb:Q12298\\tuniprotkb:P33203\\tintact:EBI-34580|uniprotkb:D6VS47\\tintact:EBI-701|uniprotkb:D6VXS4\\tpsi-mi:yd061_yeast(display_long)|uniprotkb:D4241(orf name)|uniprotkb:YDR061W(locus name)\\tpsi-mi:prp40_yeast(display_long)|uniprotkb:YKL165(orf name)|uniprotkb:YKL012W(locus name)|uniprotkb:PRP40(gene name)|psi-mi:PRP40(display_short)\\tpsi-mi:\"MI:0089\"(protein array)\\tHesselberth et al. (2006)\\tpubmed:16606443|imex:IM-19627|mint:MINT-5218502\\ttaxid:559292(yeast)|taxid:559292(Saccharomyces cerevisiae)\\ttaxid:559292(yeast)|taxid:559292(Saccharomyces cerevisiae)\\tpsi-mi:\"MI:0407\"(direct interaction)\\tpsi-mi:\"MI:0469\"(IntAct)\\tintact:EBI-940052|imex:IM-19627-426\\tintact-miscore:0.44\\nuniprotkb:Q86UW9\\tuniprotkb:Q6P597\\tintact:EBI-740376|uniprotkb:Q96H69|uniprotkb:Q9H890|uniprotkb:Q9P200|uniprotkb:Q6XM88|uniprotkb:Q6XM87|intact:EBI-10192429|uniprotkb:Q4ZH49\\tintact:EBI-1643885|uniprotkb:Q6GMU2|uniprotkb:Q8NAL1|uniprotkb:Q8WWJ9|uniprotkb:A0AVM3|uniprotkb:A2RUT6\\tpsi-mi:dtx2_human(display_long)|uniprotkb:RING finger protein 58(gene name synonym)|uniprotkb:DTX2(gene name)|psi-mi:DTX2(display_short)|uniprotkb:KIAA1528(gene name synonym)|uniprotkb:RNF58(gene name synonym)|uniprotkb:Protein deltex-2(gene name synonym)|uniprotkb:RING-type E3 ubiquitin transferase DTX2(gene name synonym)\\tpsi-mi:klc3_human(display_long)|uniprotkb:KLC3(gene name)|psi-mi:KLC3(display_short)|uniprotkb:KLC2(gene name synonym)|uniprotkb:KLC2L(gene name synonym)|uniprotkb:kinesin light chain 2(gene name synonym)|uniprotkb:KLC2-like(gene name synonym)\\tpsi-mi:\"MI:0397\"(two hybrid array)\\tRolland et al. (2014)\\timex:IM-23318|pubmed:25416956\\ttaxid:9606(human)|taxid:9606(Homo sapiens)\\ttaxid:9606(human)|taxid:9606(Homo sapiens)\\tpsi-mi:\"MI:0915\"(physical association)\\tpsi-mi:\"MI:0469\"(IntAct)\\tintact:EBI-10397631|imex:IM-23318-20692\\tintact-miscore:0.56\\nuniprotkb:Q0PA06\\tuniprotkb:Q0PAM1\\tintact:EBI-1195021\\tintact:EBI-1328038\\tpsi-mi:q0pa06_camje(display_long)|uniprotkb:Cj0892c(locus name)\\tpsi-mi:q0pam1_camje(display_long)|uniprotkb:Cj0647(locus name)\\tpsi-mi:\"MI:0397\"(two hybrid array)\\tParrish et al. (2007)\\tpubmed:17615063\\ttaxid:192222(camje)|taxid:192222(\"Campylobacter jejuni subsp. jejuni serotype O:2 (strain NCTC 11168)\")\\ttaxid:192222(camje)|taxid:192222(\"Campylobacter jejuni subsp. jejuni serotype O:2 (strain NCTC 11168)\")\\tpsi-mi:\"MI:0915\"(physical association)\\tpsi-mi:\"MI:0469\"(IntAct)\\tintact:EBI-1335368\\tauthor score:1.00|intact-miscore:0.37\\nuniprotkb:P02829\\tuniprotkb:P38272\\tbiogrid:35923|entrez gene/locuslink:HSP82|entrez gene/locuslink:YPL240C|entrez gene/locuslink:855836\\tbiogrid:32831|entrez gene/locuslink:SHE3|entrez gene/locuslink:YBR130C|entrez gene/locuslink:852427\\tentrez gene/locuslink:HSP90(gene name synonym)|entrez gene/locuslink:Hsp90 family chaperone HSP82(gene name synonym)|entrez gene/locuslink:L000000822(gene name synonym)\\tentrez gene/locuslink:L000002868(gene name synonym)|entrez gene/locuslink:L000004189(gene name synonym)\\tpsi-mi:\"MI:0018\"(two hybrid)\\t\"Zhao R (2005)\"\\tpubmed:15766533\\ttaxid:559292\\ttaxid:559292\\tpsi-mi:\"MI:0407\"(direct interaction)\\tpsi-mi:\"MI:0463\"(biogrid)\\tbiogrid:149559\\t-\\nuniprotkb:Q7Z4H7\\tuniprotkb:O94927\\tbiogrid:120160|entrez gene/locuslink:HAUS6|entrez gene/locuslink:RP11-296P7.3|entrez gene/locuslink:54801\\tbiogrid:116936|entrez gene/locuslink:HAUS5|entrez gene/locuslink:23354\\tentrez gene/locuslink:Dgt6(gene name synonym)|entrez gene/locuslink:FAM29A(gene name synonym)\\tentrez gene/locuslink:KIAA0841(gene name synonym)|entrez gene/locuslink:dgt5(gene name synonym)\\tpsi-mi:\"MI:0018\"(two hybrid)\\t\"Uehara R (2009)\"\\tpubmed:19369198\\ttaxid:9606\\ttaxid:9606\\tpsi-mi:\"MI:0407\"(direct interaction)\\tpsi-mi:\"MI:0463\"(biogrid)\\tbiogrid:616808\\t-\\nuniprotkb:Q6R327\\tuniprotkb:P42345\\tbiogrid:128962|entrez gene/locuslink:RICTOR|entrez gene/locuslink:253260\\tbiogrid:108757|entrez gene/locuslink:MTOR|entrez gene/locuslink:2475\\tentrez gene/locuslink:AVO3(gene name synonym)|entrez gene/locuslink:PIA(gene name synonym)|entrez gene/locuslink:hAVO3(gene name synonym)\\tentrez gene/locuslink:FRAP(gene name synonym)|entrez gene/locuslink:FRAP1(gene name synonym)|entrez gene/locuslink:FRAP2(gene name synonym)|entrez gene/locuslink:RAFT1(gene name synonym)|entrez gene/locuslink:RAPT1(gene name synonym)\\tpsi-mi:\"MI:0004\"(affinity chromatography technology)\\t\"McDonald PC (2008)\"\\tpubmed:18339839\\ttaxid:9606\\ttaxid:9606\\tpsi-mi:\"MI:0915\"(physical association)\\tpsi-mi:\"MI:0463\"(biogrid)\\tbiogrid:1023741\\t-\\nuniprotkb:P53115\\tuniprotkb:P60010\\tintact:EBI-24019|uniprotkb:D6VU00\\tintact:EBI-2169|uniprotkb:P02579|uniprotkb:Q9P3X6|uniprotkb:Q9P3X7|uniprotkb:D6VTJ1\\tpsi-mi:ino80_yeast(display_long)|uniprotkb:YGL150C(locus name)|uniprotkb:G1880(orf name)|uniprotkb:INO80(gene name)|psi-mi:INO80(display_short)|uniprotkb:Inositol-requiring protein 80(gene name synonym)\\tpsi-mi:act_yeast(display_long)|uniprotkb:YFL039C(locus name)|uniprotkb:ACT1(gene name)|psi-mi:ACT1(display_short)|uniprotkb:ABY1(gene name synonym)|uniprotkb:END7(gene name synonym)\\tpsi-mi:\"MI:0007\"(anti tag coimmunoprecipitation)\\tTosi et al. (2013)\\tpubmed:24034245|imex:IM-21725\\ttaxid:559292(yeast)|taxid:559292(Saccharomyces cerevisiae)\\ttaxid:559292(yeast)|taxid:559292(Saccharomyces cerevisiae)\\tpsi-mi:\"MI:0915\"(physical association)\\tpsi-mi:\"MI:0469\"(IntAct)\\tintact:EBI-8845767|imex:IM-21725-6\\tintact-miscore:0.87\\nuniprotkb:P39735\\tuniprotkb:P06777\\tbiogrid:31739|entrez gene/locuslink:SAW1|entrez gene/locuslink:YAL027W|entrez gene/locuslink:851206\\tbiogrid:36155|entrez gene/locuslink:RAD1|entrez gene/locuslink:YPL022W|entrez gene/locuslink:856085\\tentrez gene/locuslink:DNA-binding protein SAW1(gene name synonym)\\tentrez gene/locuslink:L000001555(gene name synonym)|entrez gene/locuslink:LPB9(gene name synonym)|entrez gene/locuslink:ssDNA endodeoxyribonuclease RAD1(gene name synonym)\\tpsi-mi:\"MI:0004\"(affinity chromatography technology)\\t\"Li F (2008)\"\\tpubmed:18471978\\ttaxid:559292\\ttaxid:559292\\tpsi-mi:\"MI:0915\"(physical association)\\tpsi-mi:\"MI:0463\"(biogrid)\\tbiogrid:297480\\t-\\nuniprotkb:O00231\\tuniprotkb:P43686\\tintact:EBI-357816|uniprotkb:O00495|uniprotkb:A8K3I7|uniprotkb:E1P663|uniprotkb:Q53FT5\\tintact:EBI-743997|uniprotkb:Q96FV5|uniprotkb:Q9UBM3|uniprotkb:Q9UEX3\\tpsi-mi:psd11_human(display_long)|uniprotkb:PSMD11(gene name)|psi-mi:PSMD11(display_short)|uniprotkb:26S proteasome regulatory subunit S9(gene name synonym)|uniprotkb:26S proteasome regulatory subunit p44.5(gene name synonym)|uniprotkb:26S proteasome regulatory subunit RPN6(gene name synonym)\\tpsi-mi:prs6b_human(display_long)|uniprotkb:Proteasome 26S subunit ATPase 4(gene name synonym)|uniprotkb:MB67-interacting protein(gene name synonym)|uniprotkb:PSMC4(gene name)|psi-mi:PSMC4(display_short)|uniprotkb:TBP7(gene name synonym)|uniprotkb:MIP224(gene name synonym)|uniprotkb:Tat-binding protein 7(gene name synonym)|uniprotkb:26S proteasome AAA-ATPase subunit RPT3(gene name synonym)\\tpsi-mi:\"MI:0006\"(anti bait coimmunoprecipitation)\\tEwing et al. (2007)\\tpubmed:17353931\\ttaxid:9606(human)|taxid:9606(Homo sapiens)\\ttaxid:9606(human)|taxid:9606(Homo sapiens)\\tpsi-mi:\"MI:0915\"(physical association)\\tpsi-mi:\"MI:0469\"(IntAct)\\tintact:EBI-1060931\\tauthor score:0.386|author score:\"Number of different experiments interaction was observed in: 2\"|author score:high|intact-miscore:0.40\\nuniprotkb:O75414\\tuniprotkb:Q96I51\\tintact:EBI-3941531|uniprotkb:Q96E73|uniprotkb:B4DM99|uniprotkb:Q9BQ63|uniprotkb:B4DGW7|uniprotkb:Q53HM5\\tintact:EBI-2117080|uniprotkb:Q548B1|uniprotkb:Q9H0G7|uniprotkb:D3DXK0|uniprotkb:F5GX55|uniprotkb:F5H6C7|uniprotkb:Q8IW88|uniprotkb:Q8N572\\tpsi-mi:ndk6_human(display_long)|uniprotkb:NME6(gene name)|psi-mi:NME6(display_short)|uniprotkb:Inhibitor of p53-induced apoptosis-alpha(gene name synonym)|uniprotkb:nm23-H6(gene name synonym)\\tpsi-mi:rcc1l_human(display_long)|uniprotkb:RCC1L(gene name)|psi-mi:RCC1L(display_short)|uniprotkb:WBSCR16(gene name synonym)|uniprotkb:Williams-Beuren syndrome chromosomal region 16 protein(gene name synonym)\\tpsi-mi:\"MI:0018\"(two hybrid)\\tWang et al. (2011)\\timex:IM-15364|pubmed:21988832\\ttaxid:9606(human)|taxid:9606(Homo sapiens)\\ttaxid:9606(human)|taxid:9606(Homo sapiens)\\tpsi-mi:\"MI:0915\"(physical association)\\tpsi-mi:\"MI:0469\"(IntAct)\\tintact:EBI-3941548|imex:IM-15364-3287\\tintact-miscore:0.55\\nuniprotkb:P25491\\tuniprotkb:P02829\\tintact:EBI-10420|uniprotkb:D6W1B6\\tintact:EBI-8659|uniprotkb:D6W3D1\\tpsi-mi:mas5_yeast(display_long)|uniprotkb:YDJ1(gene name)|psi-mi:YDJ1(display_short)|uniprotkb:MAS5(gene name synonym)|uniprotkb:YNL064C(locus name)|uniprotkb:N2418(orf name)|uniprotkb:YNL2418C(orf name)|uniprotkb:Yeast dnaJ protein 1(gene name synonym)\\tpsi-mi:hsp82_yeast(display_long)|uniprotkb:HSP90(gene name synonym)|uniprotkb:YPL240C(locus name)|uniprotkb:HSP82(gene name)|psi-mi:HSP82(display_short)|uniprotkb:Heat shock protein Hsp90 heat-inducible isoform(gene name synonym)|uniprotkb:82 kDa heat shock protein(gene name synonym)\\tpsi-mi:\"MI:0397\"(two hybrid array)\\tMillson et al. (2005)\\tpubmed:15879519\\ttaxid:559292(yeast)|taxid:559292(Saccharomyces cerevisiae)\\ttaxid:559292(yeast)|taxid:559292(Saccharomyces cerevisiae)\\tpsi-mi:\"MI:0915\"(physical association)\\tpsi-mi:\"MI:0469\"(IntAct)\\tintact:EBI-863983\\tauthor score:2|intact-miscore:0.62\\nuniprotkb:Q12030\\tuniprotkb:Q04226\\tbiogrid:32218|entrez gene/locuslink:TAF10|entrez gene/locuslink:YDR167W|entrez gene/locuslink:851745\\tbiogrid:35154|entrez gene/locuslink:TAF11|entrez gene/locuslink:YML015C|entrez gene/locuslink:854993\\tentrez gene/locuslink:L000003460(gene name synonym)|entrez gene/locuslink:TAF23(gene name synonym)|entrez gene/locuslink:TAF25(gene name synonym)|entrez gene/locuslink:TafII25(gene name synonym)\\tentrez gene/locuslink:L000003461(gene name synonym)|entrez gene/locuslink:TAF40(gene name synonym)|entrez gene/locuslink:TafII40(gene name synonym)\\tpsi-mi:\"MI:0004\"(affinity chromatography technology)\\t\"Kirschner DB (2002)\"\\tpubmed:11940675\\ttaxid:559292\\ttaxid:559292\\tpsi-mi:\"MI:0915\"(physical association)\\tpsi-mi:\"MI:0463\"(biogrid)\\tbiogrid:143855\\t-\\nuniprotkb:F4JIJ7\\tuniprotkb:Q0V7X4\\tintact:EBI-15191643|uniprotkb:Q9SUB6\\tintact:EBI-1640543|uniprotkb:Q8S3E9|uniprotkb:Q9ZUV8\\tpsi-mi:bh162_arath(display_long)|uniprotkb:bHLH transcription factor bHLH162(gene name synonym)|uniprotkb:T13K14.130(orf name)|uniprotkb:At4g20970(locus name)|uniprotkb:BHLH162(gene name)|psi-mi:BHLH162(display_short)|uniprotkb:Basic helix-loop-helix protein 162(gene name synonym)\\tpsi-mi:fit_arath(display_long)|uniprotkb:FIT(gene name)|psi-mi:FIT(display_short)|uniprotkb:BHLH29(gene name synonym)|uniprotkb:EN43(gene name synonym)|uniprotkb:FIT1(gene name synonym)|uniprotkb:FRU(gene name synonym)|uniprotkb:Transcription factor EN 43(gene name synonym)|uniprotkb:Transcription factor Fe-DEFICIENCY INDUCED TRANSCRIPTION FACTOR 1(gene name synonym)|uniprotkb:FER-LIKE REGULATOR OF IRON UPTAKE(gene name synonym)|uniprotkb:bHLH transcription factor bHLH029(gene name synonym)|uniprotkb:Basic helix-loop-helix protein 29(gene name synonym)|uniprotkb:F24D13.5(orf name)|uniprotkb:At2g28160(locus name)\\tpsi-mi:\"MI:1356\"(validated two hybrid)\\tTrigg et al. (2017)\\tdoi:10.1038/nmeth.4343|pubmed:28650476|imex:IM-25740\\ttaxid:3702(arath)|taxid:3702(\"Arabidopsis thaliana (Mouse-ear cress)\")\\ttaxid:3702(arath)|taxid:3702(\"Arabidopsis thaliana (Mouse-ear cress)\")\\tpsi-mi:\"MI:0915\"(physical association)\\tpsi-mi:\"MI:0469\"(IntAct)\\tintact:EBI-16379735|imex:IM-25740-19428\\tintact-miscore:0.49\\nuniprotkb:Q06706\\tuniprotkb:P84243\\tintact:EBI-9068|uniprotkb:O00036|uniprotkb:D6VZ19\\tintact:EBI-120658|uniprotkb:P06351|uniprotkb:P33155|uniprotkb:Q5VV55|uniprotkb:Q5VV56|uniprotkb:Q66I33|uniprotkb:Q9V3W4\\tpsi-mi:elp1_yeast(display_long)|uniprotkb:IKI3(gene name)|psi-mi:IKI3(display_short)|uniprotkb:YLR384C(locus name)|uniprotkb:L3502.7(orf name)|uniprotkb:ELP1(gene name synonym)|uniprotkb:TOT1(gene name synonym)|uniprotkb:Protein IKI3(gene name synonym)|uniprotkb:Gamma-toxin target 1(gene name synonym)\\tpsi-mi:h33_human(display_long)|uniprotkb:H3F3A(gene name)|psi-mi:H3F3A(display_short)|uniprotkb:H3.3A(gene name synonym)|uniprotkb:H3F3(gene name synonym)|uniprotkb:H3F3B(gene name)|psi-mi:H3F3B(display_short)|uniprotkb:H3.3B(gene name synonym)|uniprotkb:PP781(orf name)\\tpsi-mi:\"MI:0415\"(enzymatic study)\\tPetrakis et al. (2004)\\tpubmed:15138274|imex:IM-19261\\ttaxid:559292(yeast)|taxid:559292(Saccharomyces cerevisiae)\\ttaxid:9606(human)|taxid:9606(Homo sapiens)\\tpsi-mi:\"MI:0192\"(acetylation reaction)\\tpsi-mi:\"MI:0469\"(IntAct)\\tintact:EBI-1264403|imex:IM-19261-6\\tintact-miscore:0.44\\nuniprotkb:Q0P806\\tuniprotkb:Q0PAW9\\tintact:EBI-1194318\\tintact:EBI-1191365\\tpsi-mi:q0p806_camje(display_long)|uniprotkb:ribD(gene name)|psi-mi:ribD(display_short)|uniprotkb:Cj1622(locus name)\\tpsi-mi:q0paw9_camje(display_long)|uniprotkb:flaG(gene name)|psi-mi:flaG(display_short)|uniprotkb:Cj0547(locus name)\\tpsi-mi:\"MI:0397\"(two hybrid array)\\tRajagopala et al. (2007)\\tpubmed:17667950|mint:MINT-6478930\\ttaxid:192222(camje)|taxid:192222(\"Campylobacter jejuni subsp. jejuni serotype O:2 (strain NCTC 11168)\")\\ttaxid:192222(camje)|taxid:192222(\"Campylobacter jejuni subsp. jejuni serotype O:2 (strain NCTC 11168)\")\\tpsi-mi:\"MI:0915\"(physical association)\\tpsi-mi:\"MI:0469\"(IntAct)\\tintact:EBI-1197266\\tintact-miscore:0.55\\nuniprotkb:Q01968\\tuniprotkb:P12931\\tintact:EBI-6148898|uniprotkb:O60800|uniprotkb:Q15684|uniprotkb:A6NKI1|uniprotkb:Q9UMA5|uniprotkb:Q4VY09|uniprotkb:Q5JQF2|uniprotkb:A8KAP2|uniprotkb:Q15774|uniprotkb:Q5JQF1|uniprotkb:Q9UJG5|uniprotkb:Q4VY10|uniprotkb:B7ZLX2\\tintact:EBI-621482|uniprotkb:Q86VB9|uniprotkb:Q9H5A8|intact:EBI-1383910|uniprotkb:Q76P87|dip:DIP-1059N|uniprotkb:E1P5V4\\tpsi-mi:ocrl_human(display_long)|uniprotkb:OCRL(gene name)|psi-mi:OCRL(display_short)|uniprotkb:INPP5F(gene name synonym)|uniprotkb:Lowe oculocerebrorenal syndrome protein(gene name synonym)|uniprotkb:OCRL1(gene name synonym)\\tpsi-mi:src_human(display_long)|uniprotkb:pp60c-src(gene name synonym)|uniprotkb:SRC(gene name)|psi-mi:SRC(display_short)|uniprotkb:SRC1(gene name synonym)|uniprotkb:Proto-oncogene c-Src(gene name synonym)\\tpsi-mi:\"MI:0007\"(anti tag coimmunoprecipitation)\\tNández et al. (2014)\\timex:IM-26116|pubmed:25107275\\ttaxid:9606(human)|taxid:9606(Homo sapiens)\\ttaxid:9606(human)|taxid:9606(Homo sapiens)\\tpsi-mi:\"MI:0914\"(association)\\tpsi-mi:\"MI:0471\"(MINT)\\tintact:EBI-16412116|imex:IM-26116-3\\tintact-miscore:0.35\\nuniprotkb:Q49AR9\\tuniprotkb:Q3LI66\\tintact:EBI-11954519|intact:EBI-12760447\\tintact:EBI-11962084\\tpsi-mi:q49ar9_human(display_long)|uniprotkb:ANKS1A(gene name)|psi-mi:ANKS1A(display_short)\\tpsi-mi:kra62_human(display_long)|uniprotkb:KRTAP6-2(gene name)|psi-mi:KRTAP6-2(display_short)|uniprotkb:KAP6.2(gene name synonym)\\tpsi-mi:\"MI:1112\"(two hybrid prey pooling approach)\\tHuri, et al. (2017)\\tpubmed:unassigned1304|imex:IM-25472\\ttaxid:9606(human)|taxid:9606(Homo sapiens)\\ttaxid:9606(human)|taxid:9606(Homo sapiens)\\tpsi-mi:\"MI:0915\"(physical association)\\tpsi-mi:\"MI:0469\"(IntAct)\\tintact:EBI-19822134|imex:IM-25472-105003\\tauthor score:0.757785990867|intact-miscore:0.49\\nuniprotkb:Q9GNK5\\tuniprotkb:Q9GNK5\\tbiogrid:64460|entrez gene/locuslink:PGRP-LC|entrez gene/locuslink:Dmel_CG4432|entrez gene/locuslink:39063\\tbiogrid:64460|entrez gene/locuslink:PGRP-LC|entrez gene/locuslink:Dmel_CG4432|entrez gene/locuslink:39063\\tentrez gene/locuslink:\"(PGRP)-LC\"(gene name synonym)|entrez gene/locuslink:CG4432(gene name synonym)|entrez gene/locuslink:Dm PGRP-LC(gene name synonym)|entrez gene/locuslink:DmelCG4432(gene name synonym)|entrez gene/locuslink:PGRP-LCa(gene name synonym)|entrez gene/locuslink:PGRP-LCx(gene name synonym)|entrez gene/locuslink:PGRPLC(gene name synonym)|entrez gene/locuslink:ird7(gene name synonym)|entrez gene/locuslink:tot(gene name synonym)\\tentrez gene/locuslink:\"(PGRP)-LC\"(gene name synonym)|entrez gene/locuslink:CG4432(gene name synonym)|entrez gene/locuslink:Dm PGRP-LC(gene name synonym)|entrez gene/locuslink:DmelCG4432(gene name synonym)|entrez gene/locuslink:PGRP-LCa(gene name synonym)|entrez gene/locuslink:PGRP-LCx(gene name synonym)|entrez gene/locuslink:PGRPLC(gene name synonym)|entrez gene/locuslink:ird7(gene name synonym)|entrez gene/locuslink:tot(gene name synonym)\\tpsi-mi:\"MI:0096\"(pull down)\\t\"Basbous N (2011)\"\\tpubmed:21372849\\ttaxid:7227\\ttaxid:7227\\tpsi-mi:\"MI:0407\"(direct interaction)\\tpsi-mi:\"MI:0478\"(flybase)\\tbiogrid:2480014\\t-\\nuniprotkb:Q8RWQ1\\tuniprotkb:Q8RWN5\\tintact:EBI-4452762\\tintact:EBI-4425999\\tpsi-mi:q8rwq1_arath(display_long)|uniprotkb:F16B22.20(orf name)|uniprotkb:At2g44710(locus name)\\tpsi-mi:rz1c_arath(display_long)|uniprotkb:RZ1C(gene name)|psi-mi:RZ1C(display_short)|uniprotkb:At5g04280(locus name)\\tpsi-mi:\"MI:0397\"(two hybrid array)\\tArabidopsis et al. (2011)\\tpubmed:21798944|imex:IM-16043\\ttaxid:3702(arath)|taxid:3702(\"Arabidopsis thaliana (Mouse-ear cress)\")\\ttaxid:3702(arath)|taxid:3702(\"Arabidopsis thaliana (Mouse-ear cress)\")\\tpsi-mi:\"MI:0915\"(physical association)\\tpsi-mi:\"MI:0469\"(IntAct)\\tintact:EBI-4502216|imex:IM-16043-2527\\tintact-miscore:0.37\\nuniprotkb:Q5VZ52\\tuniprotkb:Q8IVT2\\tintact:EBI-12835568|uniprotkb:B7Z7I5|uniprotkb:Q6ZQN1\\tintact:EBI-2555085\\tpsi-mi:morn5_human(display_long)|uniprotkb:MORN5(gene name)|psi-mi:MORN5(display_short)|uniprotkb:C9orf113(gene name synonym)|uniprotkb:C9orf18(gene name synonym)\\tpsi-mi:misp_human(display_long)|uniprotkb:MISP(gene name)|psi-mi:MISP(display_short)|uniprotkb:C19orf21(gene name synonym)|uniprotkb:Mitotic spindle positioning protein(gene name synonym)\\tpsi-mi:\"MI:1112\"(two hybrid prey pooling approach)\\tHuri, et al. (2017)\\tpubmed:unassigned1304|imex:IM-25472\\ttaxid:9606(human)|taxid:9606(Homo sapiens)\\ttaxid:9606(human)|taxid:9606(Homo sapiens)\\tpsi-mi:\"MI:0915\"(physical association)\\tpsi-mi:\"MI:0469\"(IntAct)\\tintact:EBI-19599688|imex:IM-25472-56794\\tauthor score:NULL|intact-miscore:0.49\\nuniprotkb:P31751\\tuniprotkb:P08670\\t-\\t-\\tuniprotkb:Akt2(gene name)\\tuniprotkb:VIM(gene name)\\tpsi-mi:\"MI:0006\"(anti bait coimmunoprecipitation)\\tZhu QS et al.(2011)\\tpubmed:20856200|imex:IM-16539\\ttaxid:9606(Homo sapiens)\\ttaxid:9606(Homo sapiens)\\tpsi-mi:\"MI:0915\"(physical association)\\tpsi-mi:\"MI:1262\"(iid)|psi-mi:\"MI:0917\"(matrixdb)\\tmatrixdb:P08670__P31751_20856200_iid_2|intact:EBI-3958475|imex:IM-16539-22\\t-\\t-\\tpsi-mi:\"MI:0499\"(unspecified role)\\tpsi-mi:\"MI:0499\"(unspecified role)\\tpsi-mi:\"MI:0498\"(prey)\\tpsi-mi:\"MI:0496\"(bait)\\t-\\t-\\t-\\t-\\t-\\t-\\t-\\tfigure legend:\"\\\\\"3c\\\\\"\"|curation depth:imex curation\\ttaxid:9606(Homo sapiens)\\t-\\t-\\t-\\t-\\t-\\t-\\tfalse\\t-\\t-\\t-\\t-\\tpsi-mi:\"MI:0113\"(western blot)\\tpsi-mi:\"MI:0113\"(western blot)\\nuniprotkb:Q08235\\tuniprotkb:P38805\\tintact:EBI-3775|uniprotkb:D6W1Z1\\tintact:EBI-24614|uniprotkb:D3DL40\\tpsi-mi:brx1_yeast(display_long)|uniprotkb:YOL077C(locus name)|uniprotkb:BRX1(gene name)|psi-mi:BRX1(display_short)\\tpsi-mi:rpf1_yeast(display_long)|uniprotkb:RPF1(gene name)|psi-mi:RPF1(display_short)|uniprotkb:YHR088W(locus name)|uniprotkb:Ribosome biogenesis protein RPF1(gene name synonym)\\tpsi-mi:\"MI:0363\"(inferred by author)\\tGavin et al. (2006)\\tpubmed:16429126\\ttaxid:559292(yeast)|taxid:559292(Saccharomyces cerevisiae)\\ttaxid:559292(yeast)|taxid:559292(Saccharomyces cerevisiae)\\tpsi-mi:\"MI:0915\"(physical association)\\tpsi-mi:\"MI:0469\"(IntAct)\\tintact:EBI-812689\\tintact-miscore:0.44\\nuniprotkb:O13799\\tuniprotkb:O14269\\tbiogrid:278648|entrez gene/locuslink:mtl1|entrez gene/locuslink:SPAC17H9.02|entrez gene/locuslink:2542173\\tbiogrid:278151|entrez gene/locuslink:iss10|entrez gene/locuslink:SPAC7D4.14c|entrez gene/locuslink:2541655\\tentrez gene/locuslink:SPAC17H9.02(gene name synonym)\\tentrez gene/locuslink:SPAC7D4.14c(gene name synonym)|entrez gene/locuslink:pir1(gene name synonym)\\tpsi-mi:\"MI:0004\"(affinity chromatography technology)\\t\"Egan ED (2014)\"\\tpubmed:24713849\\ttaxid:284812\\ttaxid:284812\\tpsi-mi:\"MI:0915\"(physical association)\\tpsi-mi:\"MI:0463\"(biogrid)\\tbiogrid:1026901\\tscore:139.7459165\\nuniprotkb:P72895\\tuniprotkb:P74623\\tintact:EBI-1611008\\tintact:EBI-1608592\\tpsi-mi:p72895_syny3(display_long)|uniprotkb:slr1617(locus name)\\tpsi-mi:p74623_syny3(display_long)|uniprotkb:sll1473(locus name)\\tpsi-mi:\"MI:0018\"(two hybrid)\\tSato et al. (2007)\\tpubmed:18000013\\ttaxid:1111708(syny3)|taxid:1111708(\"Synechocystis sp. (strain PCC 6803 / Kazusa)\")\\ttaxid:1111708(syny3)|taxid:1111708(\"Synechocystis sp. (strain PCC 6803 / Kazusa)\")\\tpsi-mi:\"MI:0915\"(physical association)\\tpsi-mi:\"MI:0469\"(IntAct)\\tintact:EBI-1611013\\tauthor score:A|intact-miscore:0.37\\nuniprotkb:P61586\\tuniprotkb:Q13017\\tbiogrid:106880|entrez gene/locuslink:RHOA|entrez gene/locuslink:387\\tbiogrid:106887|entrez gene/locuslink:ARHGAP5|entrez gene/locuslink:394\\tentrez gene/locuslink:ARH12(gene name synonym)|entrez gene/locuslink:ARHA(gene name synonym)|entrez gene/locuslink:RHO12(gene name synonym)|entrez gene/locuslink:RHOH12(gene name synonym)\\tentrez gene/locuslink:GFI2(gene name synonym)|entrez gene/locuslink:RhoGAP5(gene name synonym)|entrez gene/locuslink:p190-B(gene name synonym)|entrez gene/locuslink:p190BRhoGAP(gene name synonym)\\tpsi-mi:\"MI:0096\"(pull down)\\t\"Wennerberg K (2003)\"\\tpubmed:12842009\\ttaxid:9606\\ttaxid:9606\\tpsi-mi:\"MI:0407\"(direct interaction)\\tpsi-mi:\"MI:0463\"(biogrid)\\tbiogrid:256346\\t-\\nuniprotkb:P0A988\\tuniprotkb:P28630\\tintact:EBI-542385|uniprotkb:P00583|uniprotkb:Q2M813\\tintact:EBI-549153\\tpsi-mi:dpo3b_ecoli(display_long)|uniprotkb:dnaN(gene name)|psi-mi:dnaN(display_short)|uniprotkb:Beta-clamp processivity factor(gene name synonym)|uniprotkb:DNA polymerase III beta sliding clamp subunit(gene name synonym)|uniprotkb:JW3678(locus name)|uniprotkb:b3701(locus name)\\tpsi-mi:hola_ecoli(display_long)|uniprotkb:b0640(locus name)|uniprotkb:holA(gene name)|psi-mi:holA(display_short)|uniprotkb:JW0635(locus name)\\tpsi-mi:\"MI:0018\"(two hybrid)\\tParks et al. (2009)\\timex:IM-12082|pubmed:19703395\\ttaxid:83333(ecoli)|taxid:83333(\"Escherichia coli (strain K12)\")\\ttaxid:83333(ecoli)|taxid:83333(\"Escherichia coli (strain K12)\")\\tpsi-mi:\"MI:0915\"(physical association)\\tpsi-mi:\"MI:0469\"(IntAct)\\tintact:EBI-2434543|imex:IM-12082-2\\tintact-miscore:0.83\\nuniprotkb:Q9GZQ4\\tuniprotkb:Q7Z3S9\\tintact:EBI-10303844|uniprotkb:Q7LC54|uniprotkb:Q9NRA6|uniprotkb:Q96AM5\\tintact:EBI-945833|intact:EBI-2859688|uniprotkb:Q5BKT8|uniprotkb:Q5VTG9|uniprotkb:Q5XG84|uniprotkb:Q6P192|uniprotkb:Q8NC23|uniprotkb:Q8WUQ9|uniprotkb:Q96FY1\\tpsi-mi:nmur2_human(display_long)|uniprotkb:NMUR2(gene name)|psi-mi:NMUR2(display_short)|uniprotkb:G-protein coupled receptor FM-4(gene name synonym)|uniprotkb:G-protein coupled receptor TGR-1(gene name synonym)|uniprotkb:NMU2R(gene name synonym)|uniprotkb:TGR1(gene name synonym)\\tpsi-mi:nt2na_human(display_long)|uniprotkb:NOTCH2NLA(gene name)|psi-mi:NOTCH2NLA(display_short)|uniprotkb:N2N(gene name synonym)|uniprotkb:NOTCH2NL(gene name synonym)|uniprotkb:Notch homolog 2 N-terminal-like protein(gene name synonym)\\tpsi-mi:\"MI:0397\"(two hybrid array)\\tRolland et al. (2014)\\timex:IM-23318|pubmed:25416956\\ttaxid:9606(human)|taxid:9606(Homo sapiens)\\ttaxid:9606(human)|taxid:9606(Homo sapiens)\\tpsi-mi:\"MI:0915\"(physical association)\\tpsi-mi:\"MI:0469\"(IntAct)\\tintact:EBI-10457157|imex:IM-23318-26309\\tintact-miscore:0.49\\nuniprotkb:P05049\\tuniprotkb:P13582\\tbiogrid:66694|entrez gene/locuslink:snk|entrez gene/locuslink:Dmel_CG7996|entrez gene/locuslink:41607\\tbiogrid:66921|entrez gene/locuslink:ea|entrez gene/locuslink:Dmel_CG4920|entrez gene/locuslink:41858\\tentrez gene/locuslink:CG7996(gene name synonym)|entrez gene/locuslink:DmelCG7996(gene name synonym)|entrez gene/locuslink:SP26(gene name synonym)|entrez gene/locuslink:c-SP26(gene name synonym)|entrez gene/locuslink:\"l(3)87Dg\"(gene name synonym)|entrez gene/locuslink:\"me(3)4\"(gene name synonym)\\tentrez gene/locuslink:CG4920(gene name synonym)|entrez gene/locuslink:DmelCG4920(gene name synonym)|entrez gene/locuslink:SP24(gene name synonym)|entrez gene/locuslink:c-SP24(gene name synonym)\\tpsi-mi:\"MI:0004\"(affinity chromatography technology)\\t\"Cho YS (2010)\"\\tpubmed:20605458\\ttaxid:7227\\ttaxid:7227\\tpsi-mi:\"MI:0915\"(physical association)\\tpsi-mi:\"MI:0478\"(flybase)\\tbiogrid:2322752\\t-\\nuniprotkb:P38827\\tuniprotkb:Q03012\\tbiogrid:36552|entrez gene/locuslink:SET1|entrez gene/locuslink:YHR119W|entrez gene/locuslink:856519\\tbiogrid:36044|entrez gene/locuslink:SPP1|entrez gene/locuslink:YPL138C|entrez gene/locuslink:855965\\tentrez gene/locuslink:KMT2(gene name synonym)|entrez gene/locuslink:L000003286(gene name synonym)|entrez gene/locuslink:YTX1(gene name synonym)|entrez gene/locuslink:histone methyltransferase SET1(gene name synonym)\\tentrez gene/locuslink:CPS40(gene name synonym)|entrez gene/locuslink:SAF41(gene name synonym)\\tpsi-mi:\"MI:0004\"(affinity chromatography technology)\\t\"Li S (2015)\"\\tpubmed:26527276\\ttaxid:559292\\ttaxid:559292\\tpsi-mi:\"MI:0915\"(physical association)\\tpsi-mi:\"MI:0463\"(biogrid)\\tbiogrid:2204522\\t-\\nuniprotkb:P12612\\tuniprotkb:O60232\\tintact:EBI-19045|uniprotkb:D6VSJ6\\tintact:EBI-741415\\tpsi-mi:tcpa_yeast(display_long)|uniprotkb:TCP1(gene name)|psi-mi:TCP1(display_short)|uniprotkb:CCT1(gene name synonym)|uniprotkb:YDR212W(locus name)|uniprotkb:YD8142.13(orf name)|uniprotkb:YD8142B.04(orf name)|uniprotkb:CCT-alpha(gene name synonym)\\tpsi-mi:ssa27_human(display_long)|uniprotkb:Autoantigen p27(gene name synonym)|uniprotkb:SSSCA1(gene name)|psi-mi:SSSCA1(display_short)\\tpsi-mi:\"MI:0397\"(two hybrid array)\\tZhong et al. (2015)\\tpubmed:27107014|imex:IM-24995\\ttaxid:559292(yeast)|taxid:559292(Saccharomyces cerevisiae)\\ttaxid:9606(human)|taxid:9606(Homo sapiens)\\tpsi-mi:\"MI:0915\"(physical association)\\tpsi-mi:\"MI:0469\"(IntAct)\\tintact:EBI-11538668|imex:IM-24995-1713\\tintact-miscore:0.56\\nuniprotkb:Q13547\\tuniprotkb:Q14865\\tbiogrid:109315|entrez gene/locuslink:HDAC1|entrez gene/locuslink:RP4-811H24.2|entrez gene/locuslink:3065\\tbiogrid:123918|entrez gene/locuslink:ARID5B|entrez gene/locuslink:RP11-341A19.1|entrez gene/locuslink:84159\\tentrez gene/locuslink:GON-10(gene name synonym)|entrez gene/locuslink:HD1(gene name synonym)|entrez gene/locuslink:RPD3(gene name synonym)|entrez gene/locuslink:RPD3L1(gene name synonym)\\tentrez gene/locuslink:DESRT(gene name synonym)|entrez gene/locuslink:MRF-2(gene name synonym)|entrez gene/locuslink:MRF2(gene name synonym)\\tpsi-mi:\"MI:0004\"(affinity chromatography technology)\\t\"Joshi P (2013)\"\\tpubmed:23752268\\ttaxid:9606\\ttaxid:9606\\tpsi-mi:\"MI:0915\"(physical association)\\tpsi-mi:\"MI:0463\"(biogrid)\\tbiogrid:871845\\tscore:1.0\\nuniprotkb:Q96NG5\\tuniprotkb:P55081\\tintact:EBI-373363|uniprotkb:A8K5F0|uniprotkb:B7Z798\\tintact:EBI-1048159|uniprotkb:Q86TG6\\tpsi-mi:zn558_human(display_long)|uniprotkb:ZNF558(gene name)|psi-mi:ZNF558(display_short)\\tpsi-mi:mfap1_human(display_long)|uniprotkb:Spliceosome B complex protein MFAP1(gene name synonym)|uniprotkb:MFAP1(gene name)|psi-mi:MFAP1(display_short)\\tpsi-mi:\"MI:0397\"(two hybrid array)\\tHuri, et al. (2017)\\tpubmed:unassigned1304|imex:IM-25472\\ttaxid:9606(human)|taxid:9606(Homo sapiens)\\ttaxid:9606(human)|taxid:9606(Homo sapiens)\\tpsi-mi:\"MI:0915\"(physical association)\\tpsi-mi:\"MI:0469\"(IntAct)\\tintact:EBI-19161658|imex:IM-25472-39145\\tauthor score:0.800742494446|intact-miscore:0.49\\nuniprotkb:P40583\\tuniprotkb:P39969\\tintact:EBI-25442|uniprotkb:E9PAD7|uniprotkb:D6VVX0\\tintact:EBI-3727|uniprotkb:D3DM20\\tpsi-mi:yps6_yeast(display_long)|uniprotkb:YIR039C(locus name)|uniprotkb:YPS6(gene name)|psi-mi:YPS6(display_short)\\tpsi-mi:boi2_yeast(display_long)|uniprotkb:Protein BEB1(gene name synonym)|uniprotkb:YER114C(locus name)|uniprotkb:BOI2(gene name)|psi-mi:BOI2(display_short)|uniprotkb:BEB1(gene name synonym)\\tpsi-mi:\"MI:0018\"(two hybrid)\\tUetz et al. (2000)\\tpubmed:10688190|mint:MINT-5212268\\ttaxid:559292(yeast)|taxid:559292(Saccharomyces cerevisiae)\\ttaxid:559292(yeast)|taxid:559292(Saccharomyces cerevisiae)\\tpsi-mi:\"MI:0915\"(physical association)\\tpsi-mi:\"MI:0471\"(MINT)\\tintact:EBI-392883\\tintact-miscore:0.37\\nuniprotkb:B3H7D8\\tuniprotkb:Q9CA46\\tintact:EBI-15205146\\tintact:EBI-15203110\\tpsi-mi:b3h7d8_arath(display_long)|uniprotkb:At5g18037(locus name)\\tpsi-mi:bzip8_arath(display_long)|uniprotkb:BZIP8(gene name)|psi-mi:BZIP8(display_short)|uniprotkb:F14K14.1(orf name)|uniprotkb:At1g68880(locus name)\\tpsi-mi:\"MI:2277\"(Cr-two hybrid)\\tTrigg et al. (2017)\\tdoi:10.1038/nmeth.4343|pubmed:28650476|imex:IM-25740\\ttaxid:3702(arath)|taxid:3702(\"Arabidopsis thaliana (Mouse-ear cress)\")\\ttaxid:3702(arath)|taxid:3702(\"Arabidopsis thaliana (Mouse-ear cress)\")\\tpsi-mi:\"MI:0915\"(physical association)\\tpsi-mi:\"MI:0469\"(IntAct)\\tintact:EBI-15377268|imex:IM-25740-4489\\tintact-miscore:0.37\\nuniprotkb:P04792\\tuniprotkb:O00273\\tintact:EBI-352682|uniprotkb:Q6FI47|uniprotkb:Q96C20|uniprotkb:Q96EI7|uniprotkb:Q9UC34|uniprotkb:Q9UC35|uniprotkb:Q9UC36|uniprotkb:Q9UC31|uniprotkb:B2R4N8\\tintact:EBI-727171|uniprotkb:Q96I97|uniprotkb:Q9Y6C6|uniprotkb:Q5T6G6|uniprotkb:Q5T6G5\\tpsi-mi:hspb1_human(display_long)|uniprotkb:HSPB1(gene name)|psi-mi:HSPB1(display_short)|uniprotkb:HSP27(gene name synonym)|uniprotkb:HSP28(gene name synonym)|uniprotkb:Heat shock 27 kDa protein(gene name synonym)|uniprotkb:Stress-responsive protein 27(gene name synonym)|uniprotkb:Estrogen-regulated 24 kDa protein(gene name synonym)|uniprotkb:28 kDa heat shock protein(gene name synonym)\\tpsi-mi:dffa_human(display_long)|uniprotkb:DNA fragmentation factor 45 kDa subunit(gene name synonym)|uniprotkb:Inhibitor of CAD(gene name synonym)|uniprotkb:DFFA(gene name)|psi-mi:DFFA(display_short)|uniprotkb:DFF1(gene name synonym)|uniprotkb:DFF45(gene name synonym)|uniprotkb:H13(orf name)\\tpsi-mi:\"MI:0006\"(anti bait coimmunoprecipitation)\\tKatsogiannou et al. (2014)\\timex:IM-20864|pubmed:25277244\\ttaxid:9606(human)|taxid:9606(Homo sapiens)\\ttaxid:9606(human)|taxid:9606(Homo sapiens)\\tpsi-mi:\"MI:0915\"(physical association)\\tpsi-mi:\"MI:0469\"(IntAct)\\tintact:EBI-6873787|imex:IM-20864-260\\tintact-miscore:0.51\\nuniprotkb:Q9UBB9\\tuniprotkb:Q8IVT4\\tintact:EBI-1105213|uniprotkb:O95908|uniprotkb:Q5H8V8|uniprotkb:Q9UGV7|uniprotkb:Q9Y2Q8|uniprotkb:Q20WL0\\tintact:EBI-14086479\\tpsi-mi:tfp11_human(display_long)|uniprotkb:TFIP11(gene name)|psi-mi:TFIP11(display_short)|uniprotkb:HSPC006(orf name)|uniprotkb:STIP(gene name synonym)|uniprotkb:Septin and tuftelin-interacting protein 1(gene name synonym)\\tpsi-mi:q8ivt4_human(display_long)|uniprotkb:MGC50722(gene name)|psi-mi:MGC50722(display_short)\\tpsi-mi:\"MI:0397\"(two hybrid array)\\tHuri, et al. (2017)\\tpubmed:unassigned1304|imex:IM-25472\\ttaxid:9606(human)|taxid:9606(Homo sapiens)\\ttaxid:9606(human)|taxid:9606(Homo sapiens)\\tpsi-mi:\"MI:0915\"(physical association)\\tpsi-mi:\"MI:0469\"(IntAct)\\tintact:EBI-18851600|imex:IM-25472-42255\\tauthor score:0.830046822066|intact-miscore:0.49\\nuniprotkb:P39969\\tuniprotkb:P40077\\tbiogrid:36859|entrez gene/locuslink:BOI2|entrez gene/locuslink:YER114C|entrez gene/locuslink:856850\\tbiogrid:36868|entrez gene/locuslink:DSE1|entrez gene/locuslink:YER124C|entrez gene/locuslink:856861\\tentrez gene/locuslink:BEB1(gene name synonym)|entrez gene/locuslink:L000000166(gene name synonym)|entrez gene/locuslink:L000002916(gene name synonym)\\t-\\tpsi-mi:\"MI:0018\"(two hybrid)\\t\"Drees BL (2001)\"\\tpubmed:11489916\\ttaxid:559292\\ttaxid:559292\\tpsi-mi:\"MI:0407\"(direct interaction)\\tpsi-mi:\"MI:0463\"(biogrid)\\tbiogrid:143388\\t-\\nuniprotkb:P46109\\tuniprotkb:P04049\\tintact:EBI-910|uniprotkb:A8KA44|intact:EBI-3451075|uniprotkb:D3DX35\\tintact:EBI-365996|uniprotkb:B0LPH8|uniprotkb:Q15278|uniprotkb:Q9UC20|uniprotkb:B2R5N3|dip:DIP-1048N\\tpsi-mi:crkl_human(display_long)|uniprotkb:CRKL(gene name)|psi-mi:CRKL(display_short)\\tpsi-mi:raf1_human(display_long)|uniprotkb:RAF1(gene name)|psi-mi:RAF1(display_short)|uniprotkb:RAF(gene name synonym)|uniprotkb:Proto-oncogene c-RAF(gene name synonym)|uniprotkb:Raf-1(gene name synonym)\\tpsi-mi:\"MI:0813\"(proximity ligation assay)\\tLiu et al. (2013)\\tpubmed:23397142|imex:IM-18729|psi-mi:\"MI:0813\"\\ttaxid:9606(human)|taxid:9606(Homo sapiens)\\ttaxid:9606(human)|taxid:9606(Homo sapiens)\\tpsi-mi:\"MI:0915\"(physical association)\\tpsi-mi:\"MI:0469\"(IntAct)\\tintact:EBI-6600145|imex:IM-18729-55\\tintact-miscore:0.40\\nuniprotkb:O96028\\tuniprotkb:Q13547\\tbiogrid:113306|entrez gene/locuslink:WHSC1|entrez gene/locuslink:RP11-262P20.3|entrez gene/locuslink:7468\\tbiogrid:109315|entrez gene/locuslink:HDAC1|entrez gene/locuslink:RP4-811H24.2|entrez gene/locuslink:3065\\tentrez gene/locuslink:MMSET(gene name synonym)|entrez gene/locuslink:NSD2(gene name synonym)|entrez gene/locuslink:REIIBP(gene name synonym)|entrez gene/locuslink:TRX5(gene name synonym)|entrez gene/locuslink:WHS(gene name synonym)\\tentrez gene/locuslink:GON-10(gene name synonym)|entrez gene/locuslink:HD1(gene name synonym)|entrez gene/locuslink:RPD3(gene name synonym)|entrez gene/locuslink:RPD3L1(gene name synonym)\\tpsi-mi:\"MI:0004\"(affinity chromatography technology)\\t\"Todoerti K (2005)\"\\tpubmed:16197452\\ttaxid:9606\\ttaxid:9606\\tpsi-mi:\"MI:0915\"(physical association)\\tpsi-mi:\"MI:0463\"(biogrid)\\tbiogrid:336464\\t-\\nuniprotkb:P0CG48\\tuniprotkb:P54727\\tbiogrid:113164|entrez gene/locuslink:UBC|entrez gene/locuslink:7316\\tbiogrid:111824|entrez gene/locuslink:RAD23B|entrez gene/locuslink:RP11-131A5.1|entrez gene/locuslink:5887\\tentrez gene/locuslink:HMG20(gene name synonym)\\tentrez gene/locuslink:HHR23B(gene name synonym)|entrez gene/locuslink:HR23B(gene name synonym)|entrez gene/locuslink:P58(gene name synonym)\\tpsi-mi:\"MI:0004\"(affinity chromatography technology)\\t\"Matsumoto M (2005)\"\\tpubmed:16196087\\ttaxid:9606\\ttaxid:9606\\tpsi-mi:\"MI:0915\"(physical association)\\tpsi-mi:\"MI:0463\"(biogrid)\\tbiogrid:561172\\t-\\nuniprotkb:Q6UWZ7\\tuniprotkb:P38398\\tbiogrid:123911|entrez gene/locuslink:FAM175A|entrez gene/locuslink:UNQ496/PRO1013|entrez gene/locuslink:84142\\tbiogrid:107140|entrez gene/locuslink:BRCA1|entrez gene/locuslink:672\\tentrez gene/locuslink:ABRA1(gene name synonym)|entrez gene/locuslink:CCDC98(gene name synonym)\\tentrez gene/locuslink:BRCAI(gene name synonym)|entrez gene/locuslink:BRCC1(gene name synonym)|entrez gene/locuslink:BROVCA1(gene name synonym)|entrez gene/locuslink:FANCS(gene name synonym)|entrez gene/locuslink:IRIS(gene name synonym)|entrez gene/locuslink:PNCA4(gene name synonym)|entrez gene/locuslink:PPP1R53(gene name synonym)|entrez gene/locuslink:PSCP(gene name synonym)|entrez gene/locuslink:RNF53(gene name synonym)\\tpsi-mi:\"MI:0004\"(affinity chromatography technology)\\t\"Liu Z (2007)\"\\tpubmed:17643121\\ttaxid:9606\\ttaxid:9606\\tpsi-mi:\"MI:0915\"(physical association)\\tpsi-mi:\"MI:0463\"(biogrid)\\tbiogrid:682066\\t-\\nuniprotkb:P40460\\tuniprotkb:P38070\\tintact:EBI-25247|uniprotkb:D6VVE3\\tintact:EBI-9524|uniprotkb:D6VQ29\\tpsi-mi:ndc80_yeast(display_long)|uniprotkb:NDC80(gene name)|psi-mi:NDC80(display_short)|uniprotkb:80 kDa spindle component protein(gene name synonym)|uniprotkb:HEC1(gene name synonym)|uniprotkb:Nuclear division cycle protein 80(gene name synonym)|uniprotkb:TID3(gene name synonym)|uniprotkb:Two-hybrid interaction with DMC1 protein 3(gene name synonym)|uniprotkb:YIL144W(locus name)\\tpsi-mi:ypk3_yeast(display_long)|uniprotkb:YPK3(gene name)|psi-mi:YPK3(display_short)|uniprotkb:Ribosomal S6 kinase homolog YPK3(gene name synonym)|uniprotkb:YBR0312(orf name)|uniprotkb:YBR028C(locus name)\\tpsi-mi:\"MI:0363\"(inferred by author)\\tKrogan et al. (2006)\\tpubmed:16554755|imex:IM-15332|mint:MINT-5218454\\ttaxid:559292(yeast)|taxid:559292(Saccharomyces cerevisiae)\\ttaxid:559292(yeast)|taxid:559292(Saccharomyces cerevisiae)\\tpsi-mi:\"MI:0914\"(association)\\tpsi-mi:\"MI:0471\"(MINT)\\tintact:EBI-8220761|mint:MINT-2780188|imex:IM-15332-24447\\tintact-miscore:0.44\\nuniprotkb:Q8TEB1\\tuniprotkb:Q9Y266\\tintact:EBI-2213388|uniprotkb:Q5D039|uniprotkb:Q86U00|uniprotkb:Q86U39|uniprotkb:Q8NDN2|uniprotkb:Q9H2J0|uniprotkb:Q9H3A3|uniprotkb:Q9H5C9|uniprotkb:D3DS56|uniprotkb:B3KQ83\\tintact:EBI-357298|uniprotkb:Q5QP31|uniprotkb:Q5QP35|uniprotkb:Q9H0N2|uniprotkb:Q9Y2B6|intact:EBI-2555945\\tpsi-mi:dca11_human(display_long)|uniprotkb:DCAF11(gene name)|psi-mi:DCAF11(display_short)|uniprotkb:GL014(orf name)|uniprotkb:PRO2389(orf name)|uniprotkb:WDR23(gene name synonym)|uniprotkb:WD repeat-containing protein 23(gene name synonym)\\tpsi-mi:nudc_human(display_long)|uniprotkb:NUDC(gene name)|psi-mi:NUDC(display_short)|uniprotkb:Nuclear distribution protein C homolog(gene name synonym)\\tpsi-mi:\"MI:0729\"(luminescence based mammalian interactome mapping)\\tTaipale et al. (2014)\\tpubmed:25036637|imex:IM-22301\\ttaxid:9606(human)|taxid:9606(Homo sapiens)\\ttaxid:9606(human)|taxid:9606(Homo sapiens)\\tpsi-mi:\"MI:0915\"(physical association)\\tpsi-mi:\"MI:0469\"(IntAct)\\tintact:EBI-9484011|imex:IM-22301-1716\\tintact-miscore:0.40\\nuniprotkb:Q05775\\tuniprotkb:P06103\\tbiogrid:31462|entrez gene/locuslink:HCR1|entrez gene/locuslink:YLR192C|entrez gene/locuslink:850889\\tbiogrid:34746|entrez gene/locuslink:PRT1|entrez gene/locuslink:YOR361C|entrez gene/locuslink:854543\\tentrez gene/locuslink:S000007439(gene name synonym)\\tentrez gene/locuslink:CDC63(gene name synonym)|entrez gene/locuslink:DNA26(gene name synonym)|entrez gene/locuslink:L000001515(gene name synonym)\\tpsi-mi:\"MI:0004\"(affinity chromatography technology)\\t\"Elantak L (2010)\"\\tpubmed:20060839\\ttaxid:559292\\ttaxid:559292\\tpsi-mi:\"MI:0915\"(physical association)\\tpsi-mi:\"MI:0463\"(biogrid)\\tbiogrid:428223\\t-\\nuniprotkb:P20436\\tuniprotkb:P04050\\tbiogrid:34618|entrez gene/locuslink:RPB8|entrez gene/locuslink:YOR224C|entrez gene/locuslink:854399\\tbiogrid:31921|entrez gene/locuslink:RPO21|entrez gene/locuslink:YDL140C|entrez gene/locuslink:851415\\tentrez gene/locuslink:ABC14.5(gene name synonym)|entrez gene/locuslink:DNA-directed RNA polymerase core subunit RPB8(gene name synonym)|entrez gene/locuslink:L000001682(gene name synonym)\\tentrez gene/locuslink:B220(gene name synonym)|entrez gene/locuslink:DNA-directed RNA polymerase II core subunit RPO21(gene name synonym)|entrez gene/locuslink:L000001744(gene name synonym)|entrez gene/locuslink:RPB1(gene name synonym)|entrez gene/locuslink:RPB220(gene name synonym)|entrez gene/locuslink:SUA8(gene name synonym)\\tpsi-mi:\"MI:0004\"(affinity chromatography technology)\\t\"Suh MH (2010)\"\\tpubmed:20720002\\ttaxid:559292\\ttaxid:559292\\tpsi-mi:\"MI:0915\"(physical association)\\tpsi-mi:\"MI:0463\"(biogrid)\\tbiogrid:480101\\t-\\nuniprotkb:Q9Y265\\tuniprotkb:Q9Y265\\tbiogrid:114166|entrez gene/locuslink:RUVBL1|entrez gene/locuslink:8607\\tbiogrid:114166|entrez gene/locuslink:RUVBL1|entrez gene/locuslink:8607\\tentrez gene/locuslink:ECP54(gene name synonym)|entrez gene/locuslink:INO80H(gene name synonym)|entrez gene/locuslink:NMP238(gene name synonym)|entrez gene/locuslink:PONTIN(gene name synonym)|entrez gene/locuslink:Pontin52(gene name synonym)|entrez gene/locuslink:RVB1(gene name synonym)|entrez gene/locuslink:TIH1(gene name synonym)|entrez gene/locuslink:TIP49(gene name synonym)|entrez gene/locuslink:TIP49A(gene name synonym)\\tentrez gene/locuslink:ECP54(gene name synonym)|entrez gene/locuslink:INO80H(gene name synonym)|entrez gene/locuslink:NMP238(gene name synonym)|entrez gene/locuslink:PONTIN(gene name synonym)|entrez gene/locuslink:Pontin52(gene name synonym)|entrez gene/locuslink:RVB1(gene name synonym)|entrez gene/locuslink:TIH1(gene name synonym)|entrez gene/locuslink:TIP49(gene name synonym)|entrez gene/locuslink:TIP49A(gene name synonym)\\tpsi-mi:\"MI:0096\"(pull down)\\t\"Weiske J (2005)\"\\tpubmed:16014379\\ttaxid:9606\\ttaxid:9606\\tpsi-mi:\"MI:0407\"(direct interaction)\\tpsi-mi:\"MI:0463\"(biogrid)\\tbiogrid:808751\\t-\\nuniprotkb:Q07807\\tuniprotkb:Q07418\\tbiogrid:31238|entrez gene/locuslink:PUF3|entrez gene/locuslink:YLL013C|entrez gene/locuslink:850647\\tbiogrid:31994|entrez gene/locuslink:PEX19|entrez gene/locuslink:YDL065C|entrez gene/locuslink:851494\\tentrez gene/locuslink:mRNA-binding protein PUF3(gene name synonym)\\tentrez gene/locuslink:L000003965(gene name synonym)|entrez gene/locuslink:PAS12(gene name synonym)\\tpsi-mi:\"MI:0004\"(affinity chromatography technology)\\t\"Freeberg MA (2013)\"\\tpubmed:23409723\\ttaxid:559292\\ttaxid:559292\\tpsi-mi:\"MI:0915\"(physical association)\\tpsi-mi:\"MI:0463\"(biogrid)\\tbiogrid:870783\\t-\\nuniprotkb:P35201\\tuniprotkb:P25651\\tintact:EBI-10908|uniprotkb:D6VXJ9\\tintact:EBI-22001|uniprotkb:D6VR86\\tpsi-mi:cenpc_yeast(display_long)|uniprotkb:MIF2(gene name)|psi-mi:MIF2(display_short)|uniprotkb:CENP-C homolog(gene name synonym)|uniprotkb:Constitutive centromere-associated network protein MIF2(gene name synonym)|uniprotkb:Mitotic fidelity of chromosome transmission protein 2(gene name synonym)|uniprotkb:YKL089W(locus name)\\tpsi-mi:csm1_yeast(display_long)|uniprotkb:YCR086W(locus name)|uniprotkb:YCR86W(orf name)|uniprotkb:Chromosome segregation in meiosis protein 1(gene name synonym)|uniprotkb:CSM1(gene name)|psi-mi:CSM1(display_short)|uniprotkb:SPO86(gene name synonym)\\tpsi-mi:\"MI:0096\"(pull down)\\tCorbett et al. (2010)\\tpubmed:20723757|imex:IM-15155\\ttaxid:559292(yeast)|taxid:559292(Saccharomyces cerevisiae)\\ttaxid:559292(yeast)|taxid:559292(Saccharomyces cerevisiae)\\tpsi-mi:\"MI:0407\"(direct interaction)\\tpsi-mi:\"MI:0469\"(IntAct)\\tintact:EBI-2911411|imex:IM-15155-15\\tintact-miscore:0.44\\nuniprotkb:Q17821\\tuniprotkb:Q21648\\tintact:EBI-2412956\\tintact:EBI-314179\\tpsi-mi:q17821_caeel(display_long)|uniprotkb:C08B6.10(orf name)|uniprotkb:CELE_C08B6.10(orf name)\\tpsi-mi:q21648_caeel(display_long)|uniprotkb:R02F2.5(orf name)|uniprotkb:CELE_R02F2.5(orf name)\\tpsi-mi:\"MI:0397\"(two hybrid array)\\tSimonis et al. (2009)\\tpubmed:19123269\\ttaxid:6239(caeel)|taxid:6239(Caenorhabditis elegans)\\ttaxid:6239(caeel)|taxid:6239(Caenorhabditis elegans)\\tpsi-mi:\"MI:0915\"(physical association)\\tpsi-mi:\"MI:0469\"(IntAct)\\tintact:EBI-2412954\\tintact-miscore:0.49\\nuniprotkb:P08572\\tuniprotkb:Q5NH48\\tintact:EBI-2432506|uniprotkb:Q14052|uniprotkb:Q548C3|uniprotkb:Q5VZA9|uniprotkb:Q66K23\\tintact:EBI-2796433\\tpsi-mi:co4a2_human(display_long)|uniprotkb:COL4A2(gene name)|psi-mi:COL4A2(display_short)\\tpsi-mi:tig_fratt(display_long)|uniprotkb:tig(gene name)|psi-mi:tig(display_short)|uniprotkb:PPIase(gene name synonym)|uniprotkb:FTT_0623(locus name)\\tpsi-mi:\"MI:0398\"(two hybrid pooling approach)\\tDyer et al. (2010)\\timex:IM-13779|pubmed:20711500\\ttaxid:9606(human)|taxid:9606(Homo sapiens)\\ttaxid:177416(fratt)|taxid:177416(Francisella tularensis subsp. tularensis)\\tpsi-mi:\"MI:0915\"(physical association)\\tpsi-mi:\"MI:0469\"(IntAct)\\tintact:EBI-2807796|imex:IM-13779-1187\\tauthor score:1|intact-miscore:0.37\\nuniprotkb:Q9M0R0\\tuniprotkb:Q9SN22\\tintact:EBI-15198187\\tintact:EBI-15196807\\tpsi-mi:bh081_arath(display_long)|uniprotkb:BHLH81(gene name)|psi-mi:BHLH81(display_short)|uniprotkb:Basic helix-loop-helix protein 81(gene name synonym)|uniprotkb:EN72(gene name synonym)|uniprotkb:Transcription factor EN 72(gene name synonym)|uniprotkb:bHLH transcription factor bHLH081(gene name synonym)|uniprotkb:T8A17.70(orf name)|uniprotkb:At4g09180(locus name)\\tpsi-mi:scl32_arath(display_long)|uniprotkb:SCL32(gene name)|psi-mi:SCL32(display_short)|uniprotkb:GRAS family protein 18(gene name synonym)|uniprotkb:F3A4.30(orf name)|uniprotkb:At3g49950(locus name)\\tpsi-mi:\"MI:1356\"(validated two hybrid)\\tTrigg et al. (2017)\\tdoi:10.1038/nmeth.4343|pubmed:28650476|imex:IM-25740\\ttaxid:3702(arath)|taxid:3702(\"Arabidopsis thaliana (Mouse-ear cress)\")\\ttaxid:3702(arath)|taxid:3702(\"Arabidopsis thaliana (Mouse-ear cress)\")\\tpsi-mi:\"MI:0915\"(physical association)\\tpsi-mi:\"MI:0469\"(IntAct)\\tintact:EBI-16384605|imex:IM-25740-20229\\tintact-miscore:0.49\\nuniprotkb:Q13547\\tuniprotkb:Q9Y232\\tbiogrid:109315|entrez gene/locuslink:HDAC1|entrez gene/locuslink:RP4-811H24.2|entrez gene/locuslink:3065\\tbiogrid:114818|entrez gene/locuslink:CDYL|entrez gene/locuslink:9425\\tentrez gene/locuslink:GON-10(gene name synonym)|entrez gene/locuslink:HD1(gene name synonym)|entrez gene/locuslink:RPD3(gene name synonym)|entrez gene/locuslink:RPD3L1(gene name synonym)\\tentrez gene/locuslink:CDYL1(gene name synonym)\\tpsi-mi:\"MI:0004\"(affinity chromatography technology)\\t\"Caron C (2003)\"\\tpubmed:12947414\\ttaxid:9606\\ttaxid:9606\\tpsi-mi:\"MI:0915\"(physical association)\\tpsi-mi:\"MI:0463\"(biogrid)\\tbiogrid:255327\\t-\\nuniprotkb:Q9BRG1\\tuniprotkb:Q96H20\\tintact:EBI-741945|uniprotkb:B2R581\\tintact:EBI-747719|uniprotkb:Q8IXY3|uniprotkb:Q9UN50\\tpsi-mi:vps25_human(display_long)|uniprotkb:ELL-associated protein of 20 kDa(gene name synonym)|uniprotkb:Dermal papilla-derived protein 9(gene name synonym)|uniprotkb:VPS25(gene name)|psi-mi:VPS25(display_short)|uniprotkb:DERP9(gene name synonym)|uniprotkb:EAP20(gene name synonym)|uniprotkb:ESCRT-II complex subunit VPS25(gene name synonym)\\tpsi-mi:snf8_human(display_long)|uniprotkb:ELL-associated protein of 30 kDa(gene name synonym)|uniprotkb:SNF8(gene name)|psi-mi:SNF8(display_short)|uniprotkb:EAP30(gene name synonym)|uniprotkb:ESCRT-II complex subunit VPS22(gene name synonym)\\tpsi-mi:\"MI:0397\"(two hybrid array)\\tHuri, et al. (2017)\\tpubmed:unassigned1304|imex:IM-25472\\ttaxid:9606(human)|taxid:9606(Homo sapiens)\\ttaxid:9606(human)|taxid:9606(Homo sapiens)\\tpsi-mi:\"MI:0915\"(physical association)\\tpsi-mi:\"MI:0469\"(IntAct)\\tintact:EBI-18795009|imex:IM-25472-42473\\tauthor score:0.909092807137|intact-miscore:0.82\\nuniprotkb:Q6DP94\\tuniprotkb:P63167\\tintact:EBI-11521694\\tintact:EBI-349105|uniprotkb:Q15701\\tpsi-mi:q6dp94_9infa(display_long)|uniprotkb:Non-structural protein 2(gene name synonym)|uniprotkb:NS(gene name)|psi-mi:NS(display_short)\\tpsi-mi:dyl1_human(display_long)|uniprotkb:DYNLL1(gene name)|psi-mi:DYNLL1(display_short)|uniprotkb:DLC1(gene name synonym)|uniprotkb:DNCLC1(gene name synonym)|uniprotkb:HDLC1(gene name synonym)|uniprotkb:Dynein light chain LC8-type 1(gene name synonym)|uniprotkb:8 kDa dynein light chain(gene name synonym)|uniprotkb:Protein inhibitor of neuronal nitric oxide synthase(gene name synonym)|uniprotkb:DNCL1(gene name synonym)\\tpsi-mi:\"MI:0397\"(two hybrid array)\\tde et al. (2012)\\tpubmed:23853584\\ttaxid:644788(\"h5n1)\")|taxid:644788(\"Influenza A virus (A/Vietnam/1194/2004\")\\ttaxid:9606(human)|taxid:9606(Homo sapiens)\\tpsi-mi:\"MI:0915\"(physical association)\\tpsi-mi:\"MI:0471\"(MINT)\\tintact:EBI-11521858\\tintact-miscore:0.37\\nuniprotkb:Q9BSM1\\tuniprotkb:Q5H9F3\\tbiogrid:124243|entrez gene/locuslink:PCGF1|entrez gene/locuslink:84759\\tbiogrid:121961|entrez gene/locuslink:BCORL1|entrez gene/locuslink:RP3-510O21.1|entrez gene/locuslink:63035\\tentrez gene/locuslink:2010002K04Rik(gene name synonym)|entrez gene/locuslink:NSPC1(gene name synonym)|entrez gene/locuslink:RNF3A-2(gene name synonym)|entrez gene/locuslink:RNF68(gene name synonym)\\tentrez gene/locuslink:BCoR-L1(gene name synonym)|entrez gene/locuslink:CXorf10(gene name synonym)\\tpsi-mi:\"MI:0018\"(two hybrid)\\t\"Junco SE (2013)\"\\tpubmed:23523425\\ttaxid:9606\\ttaxid:9606\\tpsi-mi:\"MI:0407\"(direct interaction)\\tpsi-mi:\"MI:0463\"(biogrid)\\tbiogrid:858586\\t-\\nuniprotkb:Q8IBT7\\tuniprotkb:Q8IBT2\\tintact:EBI-824544\\tintact:EBI-824826\\tpsi-mi:q8ibt7_plaf7(display_long)|uniprotkb:PF3D7_0716300(orf name)\\tpsi-mi:q8ibt2_plaf7(display_long)|uniprotkb:PF3D7_0716800(orf name)\\tpsi-mi:\"MI:0398\"(two hybrid pooling approach)\\tLaCount et al. (2005)\\tpubmed:16267556|imex:IM-16518|mint:MINT-5218050\\ttaxid:36329(plaf7)|taxid:36329(\"Plasmodium falciparum (isolate 3D7)\")\\ttaxid:36329(plaf7)|taxid:36329(\"Plasmodium falciparum (isolate 3D7)\")\\tpsi-mi:\"MI:0915\"(physical association)\\tpsi-mi:\"MI:0469\"(IntAct)\\tintact:EBI-834225|imex:IM-16518-215\\tintact-miscore:0.37\\nuniprotkb:Q9SU30\\tuniprotkb:Q9LSX9\\tbiogrid:12167|entrez gene/locuslink:CPR30|entrez gene/locuslink:AT4G12560|entrez gene/locuslink:826869\\tbiogrid:7071|entrez gene/locuslink:SK9|entrez gene/locuslink:AT3G21850|entrez gene/locuslink:821739\\tentrez gene/locuslink:CONSTITUTIVE EXPRESSER OF PR GENES 30(gene name synonym)|entrez gene/locuslink:T1P17.150(gene name synonym)|entrez gene/locuslink:T1P17_150(gene name synonym)\\tentrez gene/locuslink:ASK9(gene name synonym)|entrez gene/locuslink:SKP1-like 9(gene name synonym)\\tpsi-mi:\"MI:0018\"(two hybrid)\\t\"Kuroda H (2012)\"\\tpubmed:23166809\\ttaxid:3702\\ttaxid:3702\\tpsi-mi:\"MI:0407\"(direct interaction)\\tpsi-mi:\"MI:0463\"(biogrid)\\tbiogrid:889305\\t-\\nuniprotkb:Q22354\\tuniprotkb:Q33BL4\\tintact:EBI-332446\\tintact:EBI-2918687|uniprotkb:G4RT84\\tpsi-mi:q22354_caeel(display_long)|uniprotkb:rhgf-2(gene name)|psi-mi:rhgf-2(display_short)|uniprotkb:CELE_T08H4.1(orf name)|uniprotkb:T08H4.1(orf name)\\tpsi-mi:q33bl4_caeel(display_long)|uniprotkb:frm-5.1(gene name)|psi-mi:frm-5.1(display_short)|uniprotkb:Y38C1AB.8(orf name)|uniprotkb:CELE_Y38C1AB.8(orf name)\\tpsi-mi:\"MI:0398\"(two hybrid pooling approach)\\tLenfant et al. (2010)\\timex:IM-14654|pubmed:21110867\\ttaxid:6239(caeel)|taxid:6239(Caenorhabditis elegans)\\ttaxid:6239(caeel)|taxid:6239(Caenorhabditis elegans)\\tpsi-mi:\"MI:0915\"(physical association)\\tpsi-mi:\"MI:0469\"(IntAct)\\tintact:EBI-2918770|imex:IM-14654-410\\tauthor score:1|intact-miscore:0.37\\nuniprotkb:Q9Y239\\tuniprotkb:Q676U5\\tbiogrid:115664|entrez gene/locuslink:NOD1|entrez gene/locuslink:10392\\tbiogrid:120375|entrez gene/locuslink:ATG16L1|entrez gene/locuslink:hCG_1817841|entrez gene/locuslink:55054\\tentrez gene/locuslink:CARD4(gene name synonym)|entrez gene/locuslink:CLR7.1(gene name synonym)|entrez gene/locuslink:NLRC1(gene name synonym)\\tentrez gene/locuslink:APG16L(gene name synonym)|entrez gene/locuslink:ATG16A(gene name synonym)|entrez gene/locuslink:ATG16L(gene name synonym)|entrez gene/locuslink:IBD10(gene name synonym)|entrez gene/locuslink:WDR30(gene name synonym)\\tpsi-mi:\"MI:0004\"(affinity chromatography technology)\\t\"Travassos LH (2010)\"\\tpubmed:19898471\\ttaxid:9606\\ttaxid:9606\\tpsi-mi:\"MI:0915\"(physical association)\\tpsi-mi:\"MI:0463\"(biogrid)\\tbiogrid:1059499\\t-\\nuniprotkb:Q8IZP0\\tuniprotkb:Q92558\\tbiogrid:115324|entrez gene/locuslink:ABI1|entrez gene/locuslink:RP13-16H11.4|entrez gene/locuslink:10006\\tbiogrid:114449|entrez gene/locuslink:WASF1|entrez gene/locuslink:RP11-181P4.1|entrez gene/locuslink:8936\\tentrez gene/locuslink:ABI-1(gene name synonym)|entrez gene/locuslink:ABLBP4(gene name synonym)|entrez gene/locuslink:E3B1(gene name synonym)|entrez gene/locuslink:NAP1BP(gene name synonym)|entrez gene/locuslink:SSH3BP(gene name synonym)|entrez gene/locuslink:SSH3BP1(gene name synonym)\\tentrez gene/locuslink:SCAR1(gene name synonym)|entrez gene/locuslink:WAVE(gene name synonym)|entrez gene/locuslink:WAVE1(gene name synonym)\\tpsi-mi:\"MI:0004\"(affinity chromatography technology)\\t\"Hein MY (2015)\"\\tpubmed:26496610\\ttaxid:9606\\ttaxid:9606\\tpsi-mi:\"MI:0915\"(physical association)\\tpsi-mi:\"MI:0463\"(biogrid)\\tbiogrid:1448967\\t-\\nuniprotkb:Q9H040\\tuniprotkb:Q9NS91\\tbiogrid:123817|entrez gene/locuslink:SPRTN|entrez gene/locuslink:RP5-876B10.3|entrez gene/locuslink:83932\\tbiogrid:121212|entrez gene/locuslink:RAD18|entrez gene/locuslink:56852\\tentrez gene/locuslink:C1orf124(gene name synonym)|entrez gene/locuslink:DDDL1880(gene name synonym)|entrez gene/locuslink:DVC1(gene name synonym)|entrez gene/locuslink:PRO4323(gene name synonym)|entrez gene/locuslink:Spartan(gene name synonym)|entrez gene/locuslink:dJ876B10.3(gene name synonym)\\tentrez gene/locuslink:RNF73(gene name synonym)\\tpsi-mi:\"MI:0004\"(affinity chromatography technology)\\t\"Ghosal G (2012)\"\\tpubmed:22902628\\ttaxid:9606\\ttaxid:9606\\tpsi-mi:\"MI:0915\"(physical association)\\tpsi-mi:\"MI:0463\"(biogrid)\\tbiogrid:692902\\t-\\nuniprotkb:Q13323\\tuniprotkb:P10415\\tintact:EBI-700794|uniprotkb:Q16582|uniprotkb:Q6FH93\\tintact:EBI-77694|uniprotkb:P10416|uniprotkb:Q13842|uniprotkb:Q16197|uniprotkb:C9JHD5\\tpsi-mi:bik_human(display_long)|uniprotkb:Apoptosis inducer NBK(gene name synonym)|uniprotkb:BP4(gene name synonym)|uniprotkb:BIP1(gene name synonym)|uniprotkb:BIK(gene name)|psi-mi:BIK(display_short)|uniprotkb:NBK(gene name synonym)\\tpsi-mi:bcl2_human(display_long)|uniprotkb:BCL2(gene name)|psi-mi:BCL2(display_short)\\tpsi-mi:\"MI:0007\"(anti tag coimmunoprecipitation)\\tWillis et al. (2007)\\tpubmed:17289999|imex:IM-20592\\ttaxid:9606(human)|taxid:9606(Homo sapiens)\\ttaxid:9606(human)|taxid:9606(Homo sapiens)\\tpsi-mi:\"MI:0915\"(physical association)\\tpsi-mi:\"MI:0469\"(IntAct)\\tintact:EBI-5488165|imex:IM-20592-27\\tintact-miscore:0.80\\nuniprotkb:P14921\\tuniprotkb:Q9UIL1\\tintact:EBI-913209|uniprotkb:Q14278|uniprotkb:Q16080|uniprotkb:Q6N087|uniprotkb:A9UL17|uniprotkb:F5GYX9|uniprotkb:Q96AC5\\tintact:EBI-2686537|uniprotkb:Q7L2Y0|uniprotkb:Q9BZB2|uniprotkb:Q96JY9|uniprotkb:Q7Z4P2|uniprotkb:B7WPH7|uniprotkb:Q6P5T9|intact:EBI-2812448|uniprotkb:D3DNY7|uniprotkb:E9PB65\\tpsi-mi:ets1_human(display_long)|uniprotkb:p54(gene name synonym)|uniprotkb:ETS1(gene name)|psi-mi:ETS1(display_short)|uniprotkb:EWSR2(gene name synonym)\\tpsi-mi:scoc_human(display_long)|uniprotkb:SCOCO(gene name synonym)|uniprotkb:HRIHFB2072(orf name)|uniprotkb:SCOC(gene name)|psi-mi:SCOC(display_short)\\tpsi-mi:\"MI:0034\"(display technology)\\tMiyamoto-Sato et al. (2010)\\tpubmed:20195357|imex:IM-20475\\ttaxid:9606(human)|taxid:9606(Homo sapiens)\\ttaxid:9606(human)|taxid:9606(Homo sapiens)\\tpsi-mi:\"MI:0915\"(physical association)\\tpsi-mi:\"MI:0469\"(IntAct)\\tintact:EBI-2686534|imex:IM-20475-471\\tauthor score:class2|intact-miscore:0.40\\nuniprotkb:P12757\\tuniprotkb:P84022\\tbiogrid:112389|entrez gene/locuslink:SKIL|entrez gene/locuslink:6498\\tbiogrid:110263|entrez gene/locuslink:SMAD3|entrez gene/locuslink:4088\\tentrez gene/locuslink:SNO(gene name synonym)|entrez gene/locuslink:SnoA(gene name synonym)|entrez gene/locuslink:SnoI(gene name synonym)|entrez gene/locuslink:SnoN(gene name synonym)\\tentrez gene/locuslink:HSPC193(gene name synonym)|entrez gene/locuslink:HsT17436(gene name synonym)|entrez gene/locuslink:JV15-2(gene name synonym)|entrez gene/locuslink:LDS1C(gene name synonym)|entrez gene/locuslink:LDS3(gene name synonym)|entrez gene/locuslink:MADH3(gene name synonym)\\tpsi-mi:\"MI:0004\"(affinity chromatography technology)\\t\"Jinnin M (2007)\"\\tpubmed:17469184\\ttaxid:9606\\ttaxid:9606\\tpsi-mi:\"MI:0915\"(physical association)\\tpsi-mi:\"MI:0463\"(biogrid)\\tbiogrid:1056540\\t-\\nuniprotkb:P15108\\tuniprotkb:Q03373\\tintact:EBI-8666|uniprotkb:D6W010\\tintact:EBI-34019|uniprotkb:D6VTA3\\tpsi-mi:hsc82_yeast(display_long)|uniprotkb:HSC82(gene name)|psi-mi:HSC82(display_short)|uniprotkb:YMR186W(locus name)|uniprotkb:YM8010.16(orf name)|uniprotkb:Heat shock protein Hsp90 constitutive isoform(gene name synonym)|uniprotkb:82 kDa heat shock cognate protein(gene name synonym)\\tpsi-mi:dig2_yeast(display_long)|uniprotkb:DIG2(gene name)|psi-mi:DIG2(display_short)|uniprotkb:Regulator of sterile twelve 2(gene name synonym)|uniprotkb:Regulator of STE12 protein 2(gene name synonym)|uniprotkb:RST2(gene name synonym)|uniprotkb:D8035.23(orf name)|uniprotkb:YDR480W(locus name)\\tpsi-mi:\"MI:0676\"(tandem affinity purification)\\tKrogan et al. (2006)\\tpubmed:16554755|imex:IM-15332|mint:MINT-5218454\\ttaxid:559292(yeast)|taxid:559292(Saccharomyces cerevisiae)\\ttaxid:559292(yeast)|taxid:559292(Saccharomyces cerevisiae)\\tpsi-mi:\"MI:0915\"(physical association)\\tpsi-mi:\"MI:0471\"(MINT)\\tintact:EBI-7999259|mint:MINT-2351382|imex:IM-15332-21478\\tintact-miscore:0.56\\nuniprotkb:P35739\\tuniprotkb:P07174\\tbiogrid:248731|entrez gene/locuslink:Ntrk1|entrez gene/locuslink:59109\\tbiogrid:246737|entrez gene/locuslink:Ngfr|entrez gene/locuslink:24596\\tentrez gene/locuslink:Trk(gene name synonym)\\tentrez gene/locuslink:LNGFR(gene name synonym)|entrez gene/locuslink:RNNGFRR(gene name synonym)|entrez gene/locuslink:Tnfrsf16(gene name synonym)|entrez gene/locuslink:p75(gene name synonym)|entrez gene/locuslink:p75NTR(gene name synonym)\\tpsi-mi:\"MI:0004\"(affinity chromatography technology)\\t\"Zheng C (2015)\"\\tpubmed:25708205\\ttaxid:10116\\ttaxid:10116\\tpsi-mi:\"MI:0915\"(physical association)\\tpsi-mi:\"MI:0463\"(biogrid)\\tbiogrid:1509229\\t-\\nuniprotkb:Q9JKY5\\tuniprotkb:P04975\\tbiogrid:205896|entrez gene/locuslink:Hip1r|entrez gene/locuslink:29816\\tbiogrid:159016|entrez gene/locuslink:CLTB|entrez gene/locuslink:BOS_7886|entrez gene/locuslink:281698\\tentrez gene/locuslink:AA410023(gene name synonym)|entrez gene/locuslink:mKIAA0655(gene name synonym)\\tentrez gene/locuslink:CLTLB(gene name synonym)\\tpsi-mi:\"MI:0018\"(two hybrid)\\t\"Chen CY (2005)\"\\tpubmed:15533940\\ttaxid:10090\\ttaxid:9913\\tpsi-mi:\"MI:0407\"(direct interaction)\\tpsi-mi:\"MI:0463\"(biogrid)\\tbiogrid:2446684\\t-\\nuniprotkb:Q15019\\tuniprotkb:Q9NVA2\\tbiogrid:110812|entrez gene/locuslink:SEPT2|entrez gene/locuslink:4735\\tbiogrid:120870|entrez gene/locuslink:SEPT11|entrez gene/locuslink:55752\\tentrez gene/locuslink:DIFF6(gene name synonym)|entrez gene/locuslink:NEDD-5(gene name synonym)|entrez gene/locuslink:NEDD5(gene name synonym)|entrez gene/locuslink:Pnutl3(gene name synonym)|entrez gene/locuslink:hNedd5(gene name synonym)\\t-\\tpsi-mi:\"MI:0401\"(biochemical)\\t\"Wan C (2015)\"\\tpubmed:26344197\\ttaxid:9606\\ttaxid:9606\\tpsi-mi:\"MI:0403\"(colocalization)\\tpsi-mi:\"MI:0463\"(biogrid)\\tbiogrid:1271843\\tscore:1.0\\nuniprotkb:Q9VRV5\\tuniprotkb:Q9VXT8\\tintact:EBI-146725\\tintact:EBI-182843\\tpsi-mi:q9vrv5_drome(display_long)|uniprotkb:D19A(gene name)|psi-mi:D19A(display_short)|uniprotkb:Dmel\\\\CG10269(gene name synonym)|uniprotkb:d19a(gene name synonym)|uniprotkb:Dmel_CG10269(orf name)|uniprotkb:CG10269(orf name)\\tpsi-mi:q9vxt8_drome(display_long)|uniprotkb:CG18620(gene name)|psi-mi:CG18620(display_short)|uniprotkb:CG32584(gene name synonym)|uniprotkb:CG42299-RA(gene name synonym)|uniprotkb:Dmel\\\\CG42300(gene name synonym)|uniprotkb:CG42300(orf name)|uniprotkb:Dmel_CG42300(orf name)\\tpsi-mi:\"MI:0018\"(two hybrid)\\tGiot et al. (2003)\\tpubmed:14605208|imex:IM-16524|mint:MINT-5216804\\ttaxid:7227(drome)|taxid:7227(\"Drosophila melanogaster (Fruit fly)\")\\ttaxid:7227(drome)|taxid:7227(\"Drosophila melanogaster (Fruit fly)\")\\tpsi-mi:\"MI:0915\"(physical association)\\tpsi-mi:\"MI:0469\"(IntAct)\\tintact:EBI-200552|imex:IM-16524-809\\tauthor score:0.26|author score:low|intact-miscore:0.37\\nuniprotkb:Q9BQ66\\tuniprotkb:P17024\\tintact:EBI-739863|uniprotkb:A3KMC5|uniprotkb:Q495I0\\tintact:EBI-717634|uniprotkb:Q9UG41|uniprotkb:Q8N457\\tpsi-mi:kr412_human(display_long)|uniprotkb:KRTAP4-12(gene name)|psi-mi:KRTAP4-12(display_short)|uniprotkb:KAP4.12(gene name synonym)|uniprotkb:KRTAP4.12(gene name synonym)|uniprotkb:Keratin-associated protein 4.12(gene name synonym)|uniprotkb:Ultrahigh sulfur keratin-associated protein 4.12(gene name synonym)\\tpsi-mi:znf20_human(display_long)|uniprotkb:Zinc finger protein KOX13(gene name synonym)|uniprotkb:ZNF20(gene name)|psi-mi:ZNF20(display_short)|uniprotkb:KOX13(gene name synonym)\\tpsi-mi:\"MI:1356\"(validated two hybrid)\\tRolland et al. (2014)\\timex:IM-23318|pubmed:25416956\\ttaxid:9606(human)|taxid:9606(Homo sapiens)\\ttaxid:9606(human)|taxid:9606(Homo sapiens)\\tpsi-mi:\"MI:0915\"(physical association)\\tpsi-mi:\"MI:0469\"(IntAct)\\tintact:EBI-10516592|imex:IM-23318-31986\\tintact-miscore:0.56\\nuniprotkb:Q9UIV1\\tuniprotkb:Q14106\\tbiogrid:118938|entrez gene/locuslink:CNOT7|entrez gene/locuslink:29883\\tbiogrid:115985|entrez gene/locuslink:TOB2|entrez gene/locuslink:CTA-223H9.7|entrez gene/locuslink:10766\\tentrez gene/locuslink:CAF1(gene name synonym)|entrez gene/locuslink:Caf1a(gene name synonym)|entrez gene/locuslink:hCAF-1(gene name synonym)\\tentrez gene/locuslink:TOB4(gene name synonym)|entrez gene/locuslink:TOBL(gene name synonym)|entrez gene/locuslink:TROB2(gene name synonym)\\tpsi-mi:\"MI:0004\"(affinity chromatography technology)\\t\"Huttlin EL (2017)\"\\tpubmed:28514442\\ttaxid:9606\\ttaxid:9606\\tpsi-mi:\"MI:0915\"(physical association)\\tpsi-mi:\"MI:0463\"(biogrid)\\tbiogrid:2220413\\tscore:0.999998928\\nuniprotkb:Q9BYQ3\\tuniprotkb:Q9H2X0\\tintact:EBI-1043191\\tintact:EBI-947551|intact:EBI-1752274|uniprotkb:O95254|uniprotkb:Q2M1I8|uniprotkb:Q6UW83|uniprotkb:Q9H2D3|uniprotkb:Q9H2W8|uniprotkb:Q9H2W9|uniprotkb:Q9P0Z2|uniprotkb:Q9P0Z3|uniprotkb:Q9P0Z4|uniprotkb:Q9P0Z5|intact:EBI-1957537\\tpsi-mi:kra93_human(display_long)|uniprotkb:Keratin-associated protein 9.3(gene name synonym)|uniprotkb:Ultrahigh sulfur keratin-associated protein 9.3(gene name synonym)|uniprotkb:KAP9.3(gene name synonym)|uniprotkb:KRTAP9.3(gene name synonym)|uniprotkb:KRTAP9-3(gene name)|psi-mi:KRTAP9-3(display_short)\\tpsi-mi:chrd_human(display_long)|uniprotkb:CHRD(gene name)|psi-mi:CHRD(display_short)|uniprotkb:UNQ217/PRO243(orf name)\\tpsi-mi:\"MI:1112\"(two hybrid prey pooling approach)\\tHuri, et al. (2017)\\tpubmed:unassigned1304|imex:IM-25472\\ttaxid:9606(human)|taxid:9606(Homo sapiens)\\ttaxid:9606(human)|taxid:9606(Homo sapiens)\\tpsi-mi:\"MI:0915\"(physical association)\\tpsi-mi:\"MI:0469\"(IntAct)\\tintact:EBI-19699607|imex:IM-25472-70438\\tauthor score:0.857563036711|intact-miscore:0.49\\nuniprotkb:Q9HCK0\\tuniprotkb:Q16543\\tintact:EBI-3918996|uniprotkb:B3KQ53|uniprotkb:Q8WTR1\\tintact:EBI-295634|uniprotkb:Q53YA2\\tpsi-mi:zbt26_human(display_long)|uniprotkb:ZBTB26(gene name)|psi-mi:ZBTB26(display_short)|uniprotkb:KIAA1572(gene name synonym)|uniprotkb:ZNF481(gene name synonym)|uniprotkb:Zinc finger protein 481(gene name synonym)|uniprotkb:Zinc finger protein Bioref(gene name synonym)\\tpsi-mi:cdc37_human(display_long)|uniprotkb:CDC37(gene name)|psi-mi:CDC37(display_short)|uniprotkb:Hsp90 chaperone protein kinase-targeting subunit(gene name synonym)|uniprotkb:p50Cdc37(gene name synonym)|uniprotkb:CDC37A(gene name synonym)\\tpsi-mi:\"MI:0397\"(two hybrid array)\\tHuri, et al. (2017)\\tpubmed:unassigned1304|imex:IM-25472\\ttaxid:9606(human)|taxid:9606(Homo sapiens)\\ttaxid:9606(human)|taxid:9606(Homo sapiens)\\tpsi-mi:\"MI:0915\"(physical association)\\tpsi-mi:\"MI:0469\"(IntAct)\\tintact:EBI-18985931|imex:IM-25472-6063\\tauthor score:0.870402414316|intact-miscore:0.49\\nuniprotkb:Q08162\\tuniprotkb:P04051\\tintact:EBI-1740|uniprotkb:D6W244\\tintact:EBI-15810|uniprotkb:D6W2H5\\tpsi-mi:rrp44_yeast(display_long)|uniprotkb:DIS3(gene name)|psi-mi:DIS3(display_short)|uniprotkb:Ribosomal RNA-processing protein 44(gene name synonym)|uniprotkb:Chromosome disjunction protein 3(gene name synonym)|uniprotkb:RRP44(gene name synonym)|uniprotkb:O2197(orf name)|uniprotkb:YOL021C(locus name)\\tpsi-mi:rpc1_yeast(display_long)|uniprotkb:RPO31(gene name)|psi-mi:RPO31(display_short)|uniprotkb:RPC160(gene name synonym)|uniprotkb:RPC1(gene name synonym)|uniprotkb:YOR116C(locus name)|uniprotkb:O3254(orf name)|uniprotkb:YOR3254C(orf name)|uniprotkb:DNA-directed RNA polymerase III largest subunit(gene name synonym)|uniprotkb:RNA polymerase III subunit C160(gene name synonym)\\tpsi-mi:\"MI:0676\"(tandem affinity purification)\\tKrogan et al. (2006)\\tpubmed:16554755|imex:IM-15332|mint:MINT-5218454\\ttaxid:559292(yeast)|taxid:559292(Saccharomyces cerevisiae)\\ttaxid:559292(yeast)|taxid:559292(Saccharomyces cerevisiae)\\tpsi-mi:\"MI:0915\"(physical association)\\tpsi-mi:\"MI:0471\"(MINT)\\tintact:EBI-7268855|mint:MINT-2110058|imex:IM-15332-2057\\tintact-miscore:0.40\\nuniprotkb:P53742\\tuniprotkb:Q02892\\tbiogrid:35878|entrez gene/locuslink:NOG2|entrez gene/locuslink:YNR053C|entrez gene/locuslink:855789\\tbiogrid:36088|entrez gene/locuslink:NOG1|entrez gene/locuslink:YPL093W|entrez gene/locuslink:856012\\tentrez gene/locuslink:NUG2(gene name synonym)|entrez gene/locuslink:putative GTPase NOG2(gene name synonym)\\t-\\tpsi-mi:\"MI:0004\"(affinity chromatography technology)\\t\"Matsuo Y (2013)\"\\tpubmed:24240281\\ttaxid:559292\\ttaxid:559292\\tpsi-mi:\"MI:0915\"(physical association)\\tpsi-mi:\"MI:0463\"(biogrid)\\tbiogrid:914178\\t-\\nuniprotkb:Q96F44\\tuniprotkb:Q9BV68\\tintact:EBI-851809|uniprotkb:B2RB82|uniprotkb:B3KUS3|uniprotkb:B4DX88|uniprotkb:Q8NCA6|uniprotkb:Q9C022|uniprotkb:A6NKE2|uniprotkb:Q5VSU1\\tintact:EBI-357322|uniprotkb:Q9NWX1\\tpsi-mi:tri11_human(display_long)|uniprotkb:RING finger protein 92(gene name synonym)|uniprotkb:Protein BIA1(gene name synonym)|uniprotkb:TRIM11(gene name)|psi-mi:TRIM11(display_short)|uniprotkb:RNF92(gene name synonym)|uniprotkb:RING-type E3 ubiquitin transferase TRIM11(gene name synonym)|uniprotkb:Tripartite motif-containing protein 11(gene name synonym)\\tpsi-mi:rn126_human(display_long)|uniprotkb:RNF126(gene name)|psi-mi:RNF126(display_short)|uniprotkb:RING finger protein 126(gene name synonym)\\tpsi-mi:\"MI:0397\"(two hybrid array)\\tWoodsmith et al. (2012)\\timex:IM-15696|pubmed:22493164\\ttaxid:9606(human)|taxid:9606(Homo sapiens)\\ttaxid:9606(human)|taxid:9606(Homo sapiens)\\tpsi-mi:\"MI:0915\"(physical association)\\tpsi-mi:\"MI:0469\"(IntAct)\\tintact:EBI-4308540|imex:IM-15696-178\\tintact-miscore:0.37\\nuniprotkb:Q81PD4\\tuniprotkb:P23588\\tintact:EBI-2810801|uniprotkb:A0A2P0HF49|uniprotkb:Q6KRM4|uniprotkb:Q6HXJ8|uniprotkb:E9QRE3|uniprotkb:E9QRE4\\tintact:EBI-970310|uniprotkb:Q4G0E3|uniprotkb:Q53HQ2|uniprotkb:Q6GPH5|uniprotkb:Q6IB46|uniprotkb:Q8WYK5|uniprotkb:B4DS13\\tpsi-mi:q81pd4_bacan(display_long)|uniprotkb:GBAA_2876(locus name)|uniprotkb:BA_2876(locus name)\\tpsi-mi:if4b_human(display_long)|uniprotkb:EIF4B(gene name)|psi-mi:EIF4B(display_short)\\tpsi-mi:\"MI:0398\"(two hybrid pooling approach)\\tDyer et al. (2010)\\timex:IM-13779|pubmed:20711500\\ttaxid:1392(bacan)|taxid:1392(Bacillus anthracis)\\ttaxid:9606(human)|taxid:9606(Homo sapiens)\\tpsi-mi:\"MI:0915\"(physical association)\\tpsi-mi:\"MI:0469\"(IntAct)\\tintact:EBI-2831802|imex:IM-13779-3570\\tauthor score:1|intact-miscore:0.37\\nuniprotkb:Q9LJF3\\tuniprotkb:Q9LJF3\\tbiogrid:5872|entrez gene/locuslink:BRL3|entrez gene/locuslink:AT3G13380|entrez gene/locuslink:820538\\tbiogrid:5872|entrez gene/locuslink:BRL3|entrez gene/locuslink:AT3G13380|entrez gene/locuslink:820538\\tentrez gene/locuslink:BRI1-like 3(gene name synonym)\\tentrez gene/locuslink:BRI1-like 3(gene name synonym)\\tpsi-mi:\"MI:0055\"(fluorescent resonance energy transfer)\\t\"Fabregas N (2013)\"\\tpubmed:24064770\\ttaxid:3702\\ttaxid:3702\\tpsi-mi:\"MI:0407\"(direct interaction)\\tpsi-mi:\"MI:0463\"(biogrid)\\tbiogrid:903816\\t-\\nuniprotkb:O94763\\tuniprotkb:O14802\\tbiogrid:114264|entrez gene/locuslink:URI1|entrez gene/locuslink:8725\\tbiogrid:116301|entrez gene/locuslink:POLR3A|entrez gene/locuslink:11128\\tentrez gene/locuslink:C19orf2(gene name synonym)|entrez gene/locuslink:NNX3(gene name synonym)|entrez gene/locuslink:PPP1R19(gene name synonym)|entrez gene/locuslink:RMP(gene name synonym)|entrez gene/locuslink:URI(gene name synonym)\\tentrez gene/locuslink:ADDH(gene name synonym)|entrez gene/locuslink:HLD7(gene name synonym)|entrez gene/locuslink:RPC1(gene name synonym)|entrez gene/locuslink:RPC155(gene name synonym)|entrez gene/locuslink:hRPC155(gene name synonym)\\tpsi-mi:\"MI:0004\"(affinity chromatography technology)\\t\"Cloutier P (2017)\"\\tpubmed:28561026\\ttaxid:9606\\ttaxid:9606\\tpsi-mi:\"MI:0915\"(physical association)\\tpsi-mi:\"MI:0463\"(biogrid)\\tbiogrid:2360641\\tscore:1454.0\\nuniprotkb:Q13501\\tuniprotkb:Q13501\\tbiogrid:114397|entrez gene/locuslink:SQSTM1|entrez gene/locuslink:8878\\tbiogrid:114397|entrez gene/locuslink:SQSTM1|entrez gene/locuslink:8878\\tentrez gene/locuslink:A170(gene name synonym)|entrez gene/locuslink:OSIL(gene name synonym)|entrez gene/locuslink:PDB3(gene name synonym)|entrez gene/locuslink:ZIP3(gene name synonym)|entrez gene/locuslink:p60(gene name synonym)|entrez gene/locuslink:p62(gene name synonym)|entrez gene/locuslink:p62B(gene name synonym)\\tentrez gene/locuslink:A170(gene name synonym)|entrez gene/locuslink:OSIL(gene name synonym)|entrez gene/locuslink:PDB3(gene name synonym)|entrez gene/locuslink:ZIP3(gene name synonym)|entrez gene/locuslink:p60(gene name synonym)|entrez gene/locuslink:p62(gene name synonym)|entrez gene/locuslink:p62B(gene name synonym)\\tpsi-mi:\"MI:0004\"(affinity chromatography technology)\\t\"Rui YN (2015)\"\\tpubmed:25686248\\ttaxid:9606\\ttaxid:9606\\tpsi-mi:\"MI:0915\"(physical association)\\tpsi-mi:\"MI:0463\"(biogrid)\\tbiogrid:1513441\\t-\\nuniprotkb:G5ED85\\tuniprotkb:Q22676\\tintact:EBI-6743034\\tintact:EBI-328141\\tpsi-mi:g5ed85_caeel(display_long)|uniprotkb:CELE_R06C1.6(orf name)|uniprotkb:R06C1.6(orf name)\\tpsi-mi:q22676_caeel(display_long)|uniprotkb:T22C8.3(orf name)|uniprotkb:CELE_T22C8.3(orf name)\\tpsi-mi:\"MI:0018\"(two hybrid)\\tReece-Hoyes et al. (2013)\\timex:IM-20832|pubmed:23791784\\ttaxid:6239(caeel)|taxid:6239(Caenorhabditis elegans)\\ttaxid:6239(caeel)|taxid:6239(Caenorhabditis elegans)\\tpsi-mi:\"MI:0915\"(physical association)\\tpsi-mi:\"MI:0469\"(IntAct)\\tintact:EBI-6750264|imex:IM-20832-1764\\tauthor score:1.48|intact-miscore:0.37\\nuniprotkb:A0A024R8L2\\tuniprotkb:P48051\\tintact:EBI-14103818\\tintact:EBI-12017638|uniprotkb:Q3MJ74|uniprotkb:Q53WW6\\tpsi-mi:a0a024r8l2_human(display_long)|uniprotkb:hCG_1987119(orf name)\\tpsi-mi:kcnj6_human(display_long)|uniprotkb:KCNJ6(gene name)|psi-mi:KCNJ6(display_short)|uniprotkb:BIR1(gene name synonym)|uniprotkb:GIRK2(gene name synonym)|uniprotkb:\"Inward rectifier K(+) channel Kir3.2\"(gene name synonym)|uniprotkb:KATP-2(gene name synonym)|uniprotkb:KATP2(gene name synonym)|uniprotkb:KCNJ7(gene name synonym)|uniprotkb:Potassium channel, inwardly rectifying subfamily J member 6(gene name synonym)\\tpsi-mi:\"MI:0397\"(two hybrid array)\\tHuri, et al. (2017)\\tpubmed:unassigned1304|imex:IM-25472\\ttaxid:9606(human)|taxid:9606(Homo sapiens)\\ttaxid:9606(human)|taxid:9606(Homo sapiens)\\tpsi-mi:\"MI:0915\"(physical association)\\tpsi-mi:\"MI:0469\"(IntAct)\\tintact:EBI-19712480|imex:IM-25472-51110\\tauthor score:0.885887562624|intact-miscore:0.49\\nuniprotkb:Q96IK5\\tuniprotkb:Q2TAL8\\tintact:EBI-2548508|uniprotkb:Q9H826|uniprotkb:Q9H8V7|uniprotkb:Q9H927\\tintact:EBI-2798044|uniprotkb:Q8TEA5|uniprotkb:Q4G0F7|uniprotkb:Q7L621\\tpsi-mi:gmcl1_human(display_long)|uniprotkb:GMCL1(gene name)|psi-mi:GMCL1(display_short)|uniprotkb:GCL(gene name synonym)\\tpsi-mi:qric1_human(display_long)|uniprotkb:QRICH1(gene name)|psi-mi:QRICH1(display_short)\\tpsi-mi:\"MI:2215\"(barcode fusion genetics two hybrid)\\tYachie et al. (2016)\\tdoi:10.15252/msb.20156660|pubmed:27107012|imex:IM-25015\\ttaxid:9606(human)|taxid:9606(Homo sapiens)\\ttaxid:9606(human)|taxid:9606(Homo sapiens)\\tpsi-mi:\"MI:0915\"(physical association)\\tpsi-mi:\"MI:0469\"(IntAct)\\tintact:EBI-11771430|imex:IM-25015-506\\tintact-miscore:0.67\\nuniprotkb:Q9UBL3\\tuniprotkb:Q15291\\tbiogrid:114528|entrez gene/locuslink:ASH2L|entrez gene/locuslink:9070\\tbiogrid:111864|entrez gene/locuslink:RBBP5|entrez gene/locuslink:5929\\tentrez gene/locuslink:ASH2(gene name synonym)|entrez gene/locuslink:ASH2L1(gene name synonym)|entrez gene/locuslink:ASH2L2(gene name synonym)|entrez gene/locuslink:Bre2(gene name synonym)\\tentrez gene/locuslink:RBQ3(gene name synonym)|entrez gene/locuslink:SWD1(gene name synonym)\\tpsi-mi:\"MI:0004\"(affinity chromatography technology)\\t\"Cho YW (2007)\"\\tpubmed:17500065\\ttaxid:9606\\ttaxid:9606\\tpsi-mi:\"MI:0915\"(physical association)\\tpsi-mi:\"MI:0463\"(biogrid)\\tbiogrid:522093\\t-\\nuniprotkb:Q9LTJ1\\tuniprotkb:P33078\\tintact:EBI-15207704\\tintact:EBI-3946487|uniprotkb:Q8H1E0|uniprotkb:Q38823\\tpsi-mi:mbd6_arath(display_long)|uniprotkb:MBD6(gene name)|psi-mi:MBD6(display_short)|uniprotkb:Methyl-CpG-binding protein MBD6(gene name synonym)|uniprotkb:F2O15.4(orf name)|uniprotkb:At5g59380(locus name)\\tpsi-mi:iaa5_arath(display_long)|uniprotkb:IAA5(gene name)|psi-mi:IAA5(display_short)|uniprotkb:AUX2-27(gene name synonym)|uniprotkb:Auxin-induced protein AUX2-27(gene name synonym)|uniprotkb:Indoleacetic acid-induced protein 5(gene name synonym)|uniprotkb:T16N11.9(orf name)|uniprotkb:At1g15580(locus name)\\tpsi-mi:\"MI:2277\"(Cr-two hybrid)\\tTrigg et al. (2017)\\tdoi:10.1038/nmeth.4343|pubmed:28650476|imex:IM-25740\\ttaxid:3702(arath)|taxid:3702(\"Arabidopsis thaliana (Mouse-ear cress)\")\\ttaxid:3702(arath)|taxid:3702(\"Arabidopsis thaliana (Mouse-ear cress)\")\\tpsi-mi:\"MI:0915\"(physical association)\\tpsi-mi:\"MI:0469\"(IntAct)\\tintact:EBI-15390861|imex:IM-25740-5832\\tintact-miscore:0.37\\nuniprotkb:Q9ES00\\tuniprotkb:Q9ES00\\tbiogrid:211009|entrez gene/locuslink:Ube4b|entrez gene/locuslink:RP23-173D8.1|entrez gene/locuslink:63958\\tbiogrid:211009|entrez gene/locuslink:Ube4b|entrez gene/locuslink:RP23-173D8.1|entrez gene/locuslink:63958\\tentrez gene/locuslink:4930551I19Rik(gene name synonym)|entrez gene/locuslink:4933406G05Rik(gene name synonym)|entrez gene/locuslink:AU014668(gene name synonym)|entrez gene/locuslink:D4Bwg0973e(gene name synonym)|entrez gene/locuslink:UFD2(gene name synonym)|entrez gene/locuslink:UFD2a(gene name synonym)|entrez gene/locuslink:Ufd2p(gene name synonym)|entrez gene/locuslink:mKIAA0684(gene name synonym)\\tentrez gene/locuslink:4930551I19Rik(gene name synonym)|entrez gene/locuslink:4933406G05Rik(gene name synonym)|entrez gene/locuslink:AU014668(gene name synonym)|entrez gene/locuslink:D4Bwg0973e(gene name synonym)|entrez gene/locuslink:UFD2(gene name synonym)|entrez gene/locuslink:UFD2a(gene name synonym)|entrez gene/locuslink:Ufd2p(gene name synonym)|entrez gene/locuslink:mKIAA0684(gene name synonym)\\tpsi-mi:\"MI:0415\"(enzymatic study)\\t\"Starita LM (2013)\"\\tpubmed:23509263\\ttaxid:10090\\ttaxid:10090\\tpsi-mi:\"MI:0407\"(direct interaction)\\tpsi-mi:\"MI:0463\"(biogrid)\\tbiogrid:858991\\t-\\nuniprotkb:P40958\\tuniprotkb:Q03466\\tintact:EBI-10362|uniprotkb:D6VWF2\\tintact:EBI-31765|uniprotkb:D6VSI7\\tpsi-mi:mad2_yeast(display_long)|uniprotkb:MAD2(gene name)|psi-mi:MAD2(display_short)|uniprotkb:J1256(orf name)|uniprotkb:YJL030W(locus name)\\tpsi-mi:ebs1_yeast(display_long)|uniprotkb:EST1-like BCY1 suppressor 1(gene name synonym)|uniprotkb:EBS1(gene name)|psi-mi:EBS1(display_short)|uniprotkb:YD8142.03(orf name)|uniprotkb:YDR206W(locus name)\\tpsi-mi:\"MI:0018\"(two hybrid)\\tUetz et al. (2000)\\tpubmed:10688190|mint:MINT-5212268\\ttaxid:559292(yeast)|taxid:559292(Saccharomyces cerevisiae)\\ttaxid:559292(yeast)|taxid:559292(Saccharomyces cerevisiae)\\tpsi-mi:\"MI:0915\"(physical association)\\tpsi-mi:\"MI:0471\"(MINT)\\tintact:EBI-390249\\tintact-miscore:0.37\\nuniprotkb:P48570\\tuniprotkb:Q12425\\tintact:EBI-8502|uniprotkb:D6VRH0\\tintact:EBI-29438|uniprotkb:D6W471\\tpsi-mi:hosc_yeast(display_long)|uniprotkb:D1298(orf name)|uniprotkb:YDL182W(locus name)|uniprotkb:LYS20(gene name)|psi-mi:LYS20(display_short)\\tpsi-mi:isa2_yeast(display_long)|uniprotkb:YP9499.22(orf name)|uniprotkb:YPR067W(locus name)|uniprotkb:ISA2(gene name)|psi-mi:ISA2(display_short)\\tpsi-mi:\"MI:0676\"(tandem affinity purification)\\tKrogan et al. (2006)\\tpubmed:16554755|imex:IM-15332|mint:MINT-5218454\\ttaxid:559292(yeast)|taxid:559292(Saccharomyces cerevisiae)\\ttaxid:559292(yeast)|taxid:559292(Saccharomyces cerevisiae)\\tpsi-mi:\"MI:0915\"(physical association)\\tpsi-mi:\"MI:0471\"(MINT)\\tintact:EBI-8425502|mint:MINT-2385887|imex:IM-15332-17695\\tintact-miscore:0.40\\nuniprotkb:P32349\\tuniprotkb:P41910\\tbiogrid:36362|entrez gene/locuslink:RPC82|entrez gene/locuslink:YPR190C|entrez gene/locuslink:856320\\tbiogrid:32058|entrez gene/locuslink:MAF1|entrez gene/locuslink:YDR005C|entrez gene/locuslink:851568\\tentrez gene/locuslink:L000001692(gene name synonym)|entrez gene/locuslink:L000001693(gene name synonym)|entrez gene/locuslink:RPC3(gene name synonym)|entrez gene/locuslink:RPC80(gene name synonym)|entrez gene/locuslink:S000029422(gene name synonym)\\tentrez gene/locuslink:L000002614(gene name synonym)|entrez gene/locuslink:RNA polymerase III-inhibiting protein MAF1(gene name synonym)\\tpsi-mi:\"MI:0004\"(affinity chromatography technology)\\t\"Roberts DN (2006)\"\\tpubmed:16762836\\ttaxid:559292\\ttaxid:559292\\tpsi-mi:\"MI:0915\"(physical association)\\tpsi-mi:\"MI:0463\"(biogrid)\\tbiogrid:205682\\t-\\nuniprotkb:P33322\\tuniprotkb:P37838\\tbiogrid:31446|entrez gene/locuslink:CBF5|entrez gene/locuslink:YLR175W|entrez gene/locuslink:850872\\tbiogrid:36136|entrez gene/locuslink:NOP4|entrez gene/locuslink:YPL043W|entrez gene/locuslink:856063\\tentrez gene/locuslink:L000000223(gene name synonym)|entrez gene/locuslink:pseudouridine synthase CBF5(gene name synonym)\\tentrez gene/locuslink:L000001262(gene name synonym)|entrez gene/locuslink:L000001263(gene name synonym)|entrez gene/locuslink:NOP77(gene name synonym)\\tpsi-mi:\"MI:0004\"(affinity chromatography technology)\\t\"Gavin AC (2002)\"\\tpubmed:11805826\\ttaxid:559292\\ttaxid:559292\\tpsi-mi:\"MI:0915\"(physical association)\\tpsi-mi:\"MI:0463\"(biogrid)\\tbiogrid:96948\\t-'"
      ]
     },
     "execution_count": 17,
     "metadata": {},
     "output_type": "execute_result"
    }
   ],
   "source": [
    "total_psqObj.dump(\"/Users/guillaumelaunay/work/databases/psicquicCache/merged_uniprot_safe.mitab\")"
   ]
  },
  {
   "cell_type": "markdown",
   "metadata": {},
   "source": [
    "##### TODO API AND/OR Constructing FSv2 database of swissprot  \n",
    "\n",
    "!!!! BELOW IS most probably DEPRECATED"
   ]
  },
  {
   "cell_type": "code",
   "execution_count": null,
   "metadata": {
    "collapsed": false
   },
   "outputs": [],
   "source": [
    "import pyproteinsExt.database.uniprotFastaFS_2 as DB\n",
    "%autoreload 2\n",
    "\n",
    "sprotFile=\"/Users/guillaumelaunay/work/databases/uniprot_sprot_2018_11.fasta.gz\"\n",
    "workDir=\"/Users/guillaumelaunay/tmp/FS_uniprot_v3\"\n"
   ]
  },
  {
   "cell_type": "code",
   "execution_count": null,
   "metadata": {
    "collapsed": false
   },
   "outputs": [],
   "source": [
    "import seaborn\n",
    "#DB.exists(\"P98160U\", workDir)\n",
    "y=DB.stat(workDir)\n",
    "seaborn.distplot([x[1] for x in y])"
   ]
  },
  {
   "cell_type": "markdown",
   "metadata": {},
   "source": [
    "Subset development"
   ]
  },
  {
   "cell_type": "code",
   "execution_count": null,
   "metadata": {
    "collapsed": false
   },
   "outputs": [],
   "source": [
    "import pyproteinsExt.database.uniprotFastaFS_2 as DB\n",
    "%autoreload 2\n",
    "\n",
    "sprotFile=\"/Users/guillaumelaunay/work/databases/uniprot_sprot_2018_11.fasta.gz\"\n",
    "workDir=\"/Users/guillaumelaunay/tmp/FS_DVL3\"\n",
    "\n",
    "u = 0\n",
    "for elem in DB.fileCrawl(sprotFile):\n",
    "    #print(\"===>\" + elem['id'])\n",
    "    DB._insertID(elem['id'], workDir, 5)\n",
    "    DB._load(workDir, elem['id'], elem['content'])\n",
    "    u+=1\n",
    "    if u == 10000:\n",
    "        break"
   ]
  },
  {
   "cell_type": "code",
   "execution_count": null,
   "metadata": {
    "collapsed": false
   },
   "outputs": [],
   "source": [
    "DB.load(workDir,  'Q6GZU9',  bag['Q6GZU9'])\n",
    "DB.load(workDir,  'Q6GZU7',  bag['Q6GZU7'])\n"
   ]
  },
  {
   "cell_type": "code",
   "execution_count": null,
   "metadata": {
    "collapsed": false
   },
   "outputs": [],
   "source": [
    "import pyproteinsExt.database.uniprotFastaFS_2 as DB\n",
    "%autoreload 2\n",
    "\n",
    "sprotFile=\"/Users/guillaumelaunay/work/databases/uniprot_sprot_2018_11.fasta.gz\"\n",
    "workDir=\"/Users/guillaumelaunay/tmp/FS_uniprot_v3\"\n",
    "\n",
    "DB.batchBuild(workDir, sprotFile)"
   ]
  }
 ],
 "metadata": {
  "kernelspec": {
   "display_name": "python3 (p=3.6)",
   "language": "python",
   "name": "python3"
  },
  "language_info": {
   "codemirror_mode": {
    "name": "ipython",
    "version": 3
   },
   "file_extension": ".py",
   "mimetype": "text/x-python",
   "name": "python",
   "nbconvert_exporter": "python",
   "pygments_lexer": "ipython3",
   "version": "3.6.2"
  }
 },
 "nbformat": 4,
 "nbformat_minor": 1
}
