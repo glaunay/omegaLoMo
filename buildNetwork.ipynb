{
 "cells": [
  {
   "cell_type": "markdown",
   "metadata": {},
   "source": [
    "### Implementation\n",
    "* Move to Python3\n",
    "* Git hub update\n",
    "* Load Pierre protein list\n",
    "* Check for exisiting path between any node and a seed node after edge trimming\n",
    "* Remove network not connected with seed node \n",
    "\n",
    "### Study\n",
    "$\\Delta$ SimPct treshold\n",
    "\n",
    " * How many networks\n",
    " * Tabulate individual protein degree across the generated networks\n",
    "\n",
    "| Protein| 80% | 60% | ... | 10% |\n",
    "| ------ | --- | --- | --- | --- |\n",
    "| XXX    | 22  | 10  | ... | NA  |\n",
    "\n",
    "\n",
    "\n",
    "GO analysis:\n",
    "* Global tablechart of GO terms occurences across the network\n",
    "* For given Protein and its 1st neighbors, display the GO annotations distribution of the proteins and their templates"
   ]
  },
  {
   "cell_type": "markdown",
   "metadata": {},
   "source": [
    "Note montage necessaire\n",
    "\n",
    "    sshfs glaunay@arwen://mobi/group/divisome /Users/guillaumelaunay/work/projects/pneumocoque/JM_Rebuild/arwen  -o umask=0002,allow_other,defer_permissions,IdentityFile=~/.ssh/id_rsa\n",
    "    \n",
    "Example BLAST utilisé\n",
    "```shell\n",
    "gunzip -c ~/work/projects/pneumocoque/JM_Rebuild/arwen/2017_10_04_DUPLICATE_RESULTS/INTACT_VERSUS_R6R/BLAST_OUTPUT/P0/P0CI74/blast.out.gz | less\n",
    "```"
   ]
  },
  {
   "cell_type": "markdown",
   "metadata": {
    "collapsed": true
   },
   "source": [
    "Gestion des IDs de Intact\n",
    "Travail sur un subset (head 200)\n",
    "> /home/lbarlet/WorkOnIntact/subset_intact.txt\n",
    "\n",
    "split pour récup deux première colonnes \n",
    "ensuite trie pour savoir quelle ID est la plus présentes,\n",
    "la seconde, ...\n",
    "\n",
    "/!\\ la deuxième ne doit pas présenter la première, etc /!\\\n"
   ]
  },
  {
   "cell_type": "markdown",
   "metadata": {},
   "source": [
    "TODO \n",
    "\n",
    "  1. Récuperer interaction experiemntals suplémentaires\n",
    "  2. Alignement de séquences sur protéines du divisome\n",
    "  3. Définition de blocs\n",
    "  4. Métrique homologie basée sur la similarité dans ces blocs.\n",
    "\n"
   ]
  },
  {
   "cell_type": "code",
   "execution_count": 9,
   "metadata": {
    "collapsed": false
   },
   "outputs": [
    {
     "name": "stdout",
     "output_type": "stream",
     "text": [
      "The autoreload extension is already loaded. To reload it, use:\n",
      "  %reload_ext autoreload\n"
     ]
    }
   ],
   "source": [
    "import sys\n",
    "import os\n",
    "import subprocess\n",
    "sys.path.append('/Users/guillaumelaunay/work/projects/pneumocoque/JM_Rebuild/omegaLoMo/lib')\n",
    "import core as ca\n",
    "import createTopo as cT\n",
    "#import graph as graph\n",
    "import smallWork as sW\n",
    "%load_ext autoreload"
   ]
  },
  {
   "cell_type": "code",
   "execution_count": 10,
   "metadata": {
    "collapsed": false
   },
   "outputs": [],
   "source": [
    "%matplotlib inline\n",
    "import matplotlib.mlab as mlab\n",
    "import matplotlib.patches as mpatches\n",
    "from collections import Counter\n",
    "from collections import defaultdict\n",
    "import fnmatch\n",
    "import networkx as nx\n",
    "import matplotlib.pyplot as plt\n",
    "import copy\n",
    "import collections\n",
    "import numpy as np\n",
    "import operator\n",
    "import json\n",
    "import math\n",
    "%autoreload 2"
   ]
  },
  {
   "cell_type": "markdown",
   "metadata": {
    "collapsed": true
   },
   "source": [
    "* MITAB_file and filterIds can be filled when reading serialized data, or read from scratch, using input files.\n",
    "* MITAB_file contains IntAct informations, restricted to physical interactions. \n",
    "It is a subset of the informations\n",
    "from /mobi/group/divisome/physical_intact.mitab.txt, after serialization by an external python script.\n",
    "* filterIds contains information about S pneumoniae\n",
    "* intactR6filtered_topology is a dictionary, with pairs of UniProt Ids of proteins from IntAct interactions, that match with R6 sequences,\n",
    "non redundant."
   ]
  },
  {
   "cell_type": "code",
   "execution_count": 11,
   "metadata": {
    "collapsed": false,
    "scrolled": true
   },
   "outputs": [],
   "source": [
    "%autoreload 2\n",
    "# Creating an IntAct topolgy dictionary from scratch\n",
    "# all physical interactions from IntAct: 348,806 interactions \n",
    "MITAB_file=\"/Users/guillaumelaunay/work/projects/pneumocoque/JM_Rebuild/arwen/physical_intact.mitab.txt\"\n",
    "# a subset of 20,000 interactions \n",
    "MITAB_file=\"/Users/guillaumelaunay/work/projects/pneumocoque/JM_Rebuild/arwen/physical_intact.mitab_20000.txt\"\n",
    "filterIds=\"/Users/guillaumelaunay/work/projects/pneumocoque/JM_Rebuild/arwen/anaBlast/allInR6Test2\"\n",
    "\n",
    "# same, but sourcing from the directory generated by JM\n",
    "#MITAB_file=\"/Users/guillaumelaunay/work/projects/pneumocoque/JM_Rebuild/arwen/2017_10_04_DUPLICATE_RESULTS/INTACT_VERSUS_R6R/physical_intact.mitab_20000.txt\"\n",
    "MITAB_file=\"/Users/guillaumelaunay/work/projects/pneumocoque/JM_Rebuild/arwen/2017_10_04_DUPLICATE_RESULTS/INTACT_VERSUS_R6R/physical_intact.mitab.txt\"\n",
    "# So far, we only parse the IntAct ids, not the R6 info\n",
    "filterIds=\"/Users/guillaumelaunay/work/projects/pneumocoque/JM_Rebuild/arwen/2017_10_04_DUPLICATE_RESULTS/POST_PROCESS_INTACT_VERSUS_R6R/allHitsInR6.txt\"\n",
    "# \n",
    "\n",
    "# create Topolgy object\n",
    "topo = cT.Topology()\n",
    "# this step, with the complete MITAB_file physical_intact.mitab.txt, takes\n",
    "# about 40 minutes \n",
    "# parse MITAB file\n",
    "#topo.parseIntactMitab(MITAB_file)\n",
    "# filter the IntAct interactions, to remove protein Ids with no match with R6\n",
    "#topo.filterWith(filterIds)\n",
    "\n",
    "# Create an IntAct topology from object deserialisation\n",
    "topo.deSerialize('/Users/guillaumelaunay/work/projects/pneumocoque/JM_Rebuild/serializedData/newDic.json')\n",
    "\n",
    "intactR6filtered_topology=topo.newDic\n",
    "#print intactR6filtered_topology\n",
    "\n",
    "# OK "
   ]
  },
  {
   "cell_type": "markdown",
   "metadata": {},
   "source": [
    "## File format of /mobi/group/divisome/anaBlast/allInR6Test2\n",
    "** File content: **\n",
    "Q6A162\\n\n",
    "\n",
    "Q8DRI0:74,316,76,31,1.63488e-07\n",
    "\n",
    "Q8DPJ9:233,491,101,47,8.67392e-07\n",
    "\n",
    "Q8DN05:124,460,108,32,0.0420328   \n",
    "\n",
    "** Explanation **\n",
    "\n",
    "Means that the IntAct UniprotId Q6A162 has 3 hits in the R6 proteome: Q8DRI0, Q8DPJ9, and Q8DN05. \n",
    "    Informations after the \":\" \n",
    "    are the alignment statistics : Hsp_hit-from, Hsp_hit-to, Hsp_positive, Hsp_identity, Hsp_evalue\n",
    "    /mobi/group/divisome/UsineBlastArrayIntact_vs_R6/IntactVsR6/swork/Q6/Q6A162/logs\n",
    "\n",
    "** Native BLAST results **\n",
    "They are stored here :\n",
    "/mobi/group/divisome/UsineBlastArrayIntact_vs_R6/IntactVsR6/swork/\n",
    "        \n",
    "The folder organization is such that for the IntAct sequence Q6A162 :\n",
    "/mobi/group/divisome/UsineBlastArrayIntact_vs_R6/IntactVsR6/swork/Q6/Q6A162/logs\n",
    "    \n",
    "** Generation of BLAST results **\n",
    "\n",
    "See /mobi/group/divisome/UsineBlastArrayIntact_vs_R6/main_array.sh\n",
    "and /mobi/group/divisome/UsineBlastArrayIntact_vs_R6/job4one.sh\n",
    "\n"
   ]
  },
  {
   "cell_type": "markdown",
   "metadata": {},
   "source": [
    "\n",
    "## Omega Set creation\n",
    "The omegaSet object stores query organism homologs vector for each protein found in PSICQUIC\n",
    "\n",
    "#### From scratch, omegaSet object construction\n",
    "  + From Loic's files \n",
    "    ```python\n",
    "    indexR6 = '/Volumes/arwen/mobi/group/divisome/serializedData/indexR6'\n",
    "    blastResults='/Volumes/arwen/mobi/group/divisome/UsineBlastArrayIntact_vs_R6/IntactVsR6/swork/'\n",
    "    ```\n",
    "  + From Juliettes rebuildt files \n",
    "    ```python\n",
    "    indexR6 = '/Users/guillaumelaunay/work/projects/pneumocoque/JM_Rebuild/arwen/2017_10_04_DUPLICATE_RESULTS/POST_PROCESS_INTACT_VERSUS_R6R/R6_index.txt'\n",
    "    blastResults='/Users/guillaumelaunay/work/projects/pneumocoque/JM_Rebuild/arwen/2017_10_04_DUPLICATE_RESULTS/POST_PROCESS_INTACT_VERSUS_R6R/OUTPUT/'\n",
    "    ```\n",
    "  \n",
    "  + Calling constructor on XML **OR** JSON ressources\n",
    "  ```python\n",
    "  omegaSet=ca.HomegaSet(queryIdList=indexR6,blastXmlPath=blastResults)\n",
    "  omegaSet=ca.HomegaSet(queryIdList=indexR6,jsonSerialPath=blastResults)\n",
    "  ```\n",
    "\n",
    "#### Deserializing a previous instance of _omegaSet_\n",
    "  + Calling constructor on serial JSON ressource   \n",
    "    ```python\n",
    "    omegaSet=ca.HomegaSet(queryIdList=indexR6,bean=\"/Users/guillaumelaunay/grosTas.json\")\n",
    "    ```\n",
    "  \n",
    "#### Serializing current instance of _omegaSet_\n",
    " + Calling method with path to file for writing   \n",
    "    ```python\n",
    "    omegaSet.serialize(\"/Users/guillaumelaunay/grosTas.json\")\n",
    "    ```\n",
    "    "
   ]
  },
  {
   "cell_type": "code",
   "execution_count": 4,
   "metadata": {
    "collapsed": false
   },
   "outputs": [],
   "source": [
    "indexR6 = '/Users/guillaumelaunay/work/projects/pneumocoque/JM_Rebuild/arwen/2017_10_04_DUPLICATE_RESULTS/POST_PROCESS_INTACT_VERSUS_R6R/R6_index.txt'\n",
    "blastResults='/Users/guillaumelaunay/work/projects/pneumocoque/JM_Rebuild/arwen/2017_10_04_DUPLICATE_RESULTS/POST_PROCESS_INTACT_VERSUS_R6R/OUTPUT/'\n",
    "omegaSet=ca.HomegaSet(queryIdList=indexR6, bean=\"/Users/guillaumelaunay/grosTas.json\")\n",
    "\n"
   ]
  },
  {
   "cell_type": "markdown",
   "metadata": {},
   "source": [
    "<span style=\"color:brown;font-weight:bold\"> GL -- Needs documentation reformat </span>\n",
    "\n",
    "## Omega Set description\n",
    "\n",
    "OmegaSet is a list of omegaVectors objects.\n",
    "    \n",
    "** Description of the omegaVector object **\n",
    "\n",
    "* a dictionary with a key \"template ID\", value= a UniprotId from IntAct,\n",
    "    * a key \"Pairs Data\", value= list of dictionnaries \n",
    "        * \"query\" : R6 Ids\n",
    "        * \"param\" : list of HSP statistics\n",
    "        * \"template\" : the template Id (identical to template ID)\n",
    "            \n",
    "** FullOmegaSet_coverage.json **\n",
    "a serialized file with all HSP statistics, for all IntAct proteins.\n",
    "Hence, we need to use the argument queryIdList=indexR6, to filter out HSPs that do not belong to R6.\n",
    "    \n",
    "** Generation of indexR6 and FullOmegaSet_coverage.json **\n",
    "* indexR6: a simple list of Uniprot Ids from the R6 proteome\n",
    "    \n",
    "    ```bash\n",
    "    head  /Volumes/arwen/mobi/group/divisome/serializedData/indexR6\n",
    "    ```\n",
    "    \n",
    "````\n",
    "sp|P0A2U7|ADCC|STRR6.seq\n",
    "sp|P0A2U9|AMIE|STRR6.seq\n",
    "sp|P0A2V9|PSTB3|STRR6.seq\n",
    "sp|P0A2W1|ACP|STRR6.seq\n",
    "sp|P0A2W7|ACPS|STRR6.seq\n",
    "sp|P0A2W9|ALR|STRR6.seq\n",
    "sp|P0A2X4|EXOA|STRR6.seq\n",
    "sp|P0A2Y3|ARGR|STRR6.seq\n",
    "sp|P0A2Y7|AROC|STRR6.seq\n",
    "sp|P0A2Y9|ATP6|STRR6.seq\n",
    "```\n",
    "* FullOmegaSet_coverage.json   \n",
    "\n"
   ]
  },
  {
   "cell_type": "markdown",
   "metadata": {},
   "source": [
    "## From omega Set to interactome\n",
    "\n",
    "#### 1. Connect omegaVector objects\n",
    "```python\n",
    "omegaMatrix = ca.OmegaMatrix(topo = intactR6filtered_topology, omegaSet = omegaSet)\n",
    "omegaMatrix.reduceAndVectorInject()\n",
    "```\n",
    "#### 2. Build the adjacency matrix in R6\n",
    "```python\n",
    "queryTopo = omegaMatrix.project()\n",
    "```\n",
    "\n",
    "##### Remarks\n",
    "list of predicted interactions in R6. Each R6 interaction (= pair of nodes) is associated with 1 (or more) IntAct pairs, and their homology relationships are characterized by HSP statistics, ofc one predicted pair can be supported by several IntAct pairs\n",
    "\n",
    "\n",
    "### Homology information support description\n",
    "<figure>\n",
    "<img src=\"binary.jpg\", width=\"250px\">\n",
    "<figcaption>\n",
    "Any interaction is binary, one node is arbitrarly defined as the \"loQuery\" (uniprotID: P60414) and the other as the \"hiQuery\" (uniprotID: Q8DPU0).\n",
    "</figcaption>\n",
    "</figure>\n",
    "\n",
    "\n",
    "\n",
    "##### edgeAttributes tuple\n",
    "It is a 3 elements tuple structured as :\n",
    "\n",
    "```python\n",
    "(Q8DR57, #Node uniprot Identifier on the \"lowQuery\" side of the edge\n",
    " Q9EUQ7, #Node uniprot Identifier on the \"highQuery\" side of the edge\n",
    " {'lowQueryParam': [\n",
    "     # Each homolog relationship supporting interaction inference on the \"low\" side of the edge\n",
    "     [u'1', u'105', u'66', u'49', u'3.02566e-17', u'98', u'3', u'98', u'109', 'P0CI74']\n",
    "     ],\n",
    "  'highQueryParam': [\n",
    "      # Each homolog relationship supporting interaction inference on the \"high\" side of the edge\n",
    "      [u'3', u'230', u'138', u'84', u'7.50339e-38', u'251', u'6', u'242', u'242', 'P35154']\n",
    "      ]\n",
    "})\n",
    "```\n",
    "##### Content of the Interaction inference Parameters Array\n",
    "\n",
    "<span style=\"color:red;font-weight:bold\">NB:</span>\n",
    "*When refering to the blast output file hit and query are reversed, ie: query sequences come from PSICQUIC and target/template from R6*. <span style=\"color:red\">LoMo messed it up, hence the cluncky following ordering of **query/template** sequence lengths.\n",
    "\n",
    "In the following document **Query** refers to bacterial proteome element and **Template** to PSICQUIC element.\n",
    "\n",
    "<ul style=\"list-style-type: none;\">\n",
    "  <li><span style='color:steelblue;font-weight:bold'>[1]</span>  Hsp position start in **query** sequence</li>\n",
    "  <li><span style='color:steelblue;font-weight:bold'>[2]</span>  Hsp position stop in **query** sequence</li>\n",
    "  <li><span style='color:steelblue;font-weight:bold'>[3]</span>  Hsp alignemnt positive match</li>\n",
    "  <li><span style='color:steelblue;font-weight:bold'>[4]</span>  Hsp alignemnt identical match</li>\n",
    "  <li><span style='color:steelblue;font-weight:bold'>[5]</span>  Hsp alignment eValue</li>\n",
    "  <li><span style='color:steelblue;font-weight:bold'>[6]</span>  **Template** sequence total length</li>\n",
    "  <li><span style='color:steelblue;font-weight:bold'>[7]</span>  Hsp position start in **template** sequence</li>\n",
    "  <li><span style='color:steelblue;font-weight:bold'>[8]</span>  Hsp position stop in **template** sequence</li>\n",
    "  <li><span style='color:steelblue;font-weight:bold'>[9]</span>  **Query** sequence length</li>\n",
    "  <li><span style='color:steelblue;font-weight:bold'>[10]</span> **Template** uniprot identifier</li>\n",
    "  \n",
    "</ul>\n",
    "\n",
    "\n",
    "eg:\n",
    "\n",
    "The following XML blast output (`P0CI74/blast.out.gz`) will produce previous egde homology support\n",
    "\n",
    "```xml\n",
    " <BlastOutput_query-len>98</BlastOutput_query-len>\n",
    " ... [LAST PSI-BLAST ITERATION]\n",
    " <Hit>\n",
    "          <Hit_num>4</Hit_num>\n",
    "          <Hit_id>sp|Q8DR57|GPSB_STRR6</Hit_id>\n",
    "          <Hit_def>Cell cycle protein GpsB OS=Streptococcus pneumoniae (strain ATCC BAA-255 / R6) GN=gpsB PE=3 SV=2</Hit_def>\n",
    "          <Hit_accession>Q8DR57</Hit_accession>\n",
    "          <Hit_len>109</Hit_len>\n",
    "          <Hit_hsps>\n",
    "            <Hsp>\n",
    "              <Hsp_num>1</Hsp_num>\n",
    "              <Hsp_bit-score>87.5355</Hsp_bit-score>\n",
    "              <Hsp_score>216</Hsp_score>\n",
    "              <Hsp_evalue>3.02566e-17</Hsp_evalue>\n",
    "              <Hsp_query-from>3</Hsp_query-from>\n",
    "              <Hsp_query-to>98</Hsp_query-to>\n",
    "              <Hsp_hit-from>1</Hsp_hit-from>\n",
    "              <Hsp_hit-to>105</Hsp_hit-to>\n",
    "              <Hsp_query-frame>1</Hsp_query-frame>\n",
    "              <Hsp_hit-frame>1</Hsp_hit-frame>\n",
    "              <Hsp_identity>49</Hsp_identity>\n",
    "              <Hsp_positive>66</Hsp_positive>\n",
    "              <Hsp_gaps>9</Hsp_gaps>\n",
    "              <Hsp_align-len>105</Hsp_align-len>\n",
    "              <Hsp_qseq>ADKVKLSAKEILEKEFKTGVRGYKQEDVDKFLDMIIKDYETFHQEIEELQQENLQLKKQLEEASKKQPVQ---------SNTTNFDILKRLSNLEKHVFGSKLYD</Hsp_qseq>\n",
    "              <Hsp_hseq>MASIIFSAKDIFEQEFGREVRGYNKVEVDEFLDDVIKDYETYAALVKSLRQEIADLKEELTRKPKPSPVQAEPLEAAITSSMTNFDILKRLNRLEKEVFGKQILD</Hsp_hseq>\n",
    "              <Hsp_midline>   +  SAK+I E+EF   VRGY + +VD+FLD +IKDYET+   ++ L+QE   LK++L    K  PVQ         S+ TNFDILKRL+ LEK VFG ++ D</Hsp_midline>\n",
    "            </Hsp>\n",
    "          </Hit_hsps>\n",
    "        </Hit>\n",
    "```"
   ]
  },
  {
   "cell_type": "code",
   "execution_count": 12,
   "metadata": {
    "collapsed": false
   },
   "outputs": [],
   "source": [
    "omegaMatrix = ca.OmegaMatrix(topo = intactR6filtered_topology, omegaSet = omegaSet)\n",
    "omegaMatrix.reduceAndVectorInject()\n",
    "queryTopo = omegaMatrix.project()"
   ]
  },
  {
   "cell_type": "markdown",
   "metadata": {},
   "source": [
    "## Graphs Functions"
   ]
  },
  {
   "cell_type": "markdown",
   "metadata": {},
   "source": [
    "Utility functions to \n",
    "  + Load specific seed datasets\n",
    "    ```python\n",
    "    seedList = loadSeedList('all' OR 'phino' OR 'massida')\n",
    "    ```\n",
    "  + dump network topology under json format compliant with [Dforce,D3--style](https://bl.ocks.org/vasturiano/02affe306ce445e423f992faeea13521)\n",
    "   ```python\n",
    "    networkAsD3_dict = nEncode(G)\n",
    "    with open('interactome.json', 'w') as outfile:\n",
    "        json.dump(networkAsD3_dict, outfile)\n",
    "    ```"
   ]
  },
  {
   "cell_type": "code",
   "execution_count": 14,
   "metadata": {
    "collapsed": false
   },
   "outputs": [],
   "source": [
    "import pandas\n",
    "import json\n",
    "\n",
    "def loadSeedList(lType='all'):\n",
    "    fileMap = {\n",
    "        'phino' : '/Users/guillaumelaunay/work/projects/pneumocoque/JM_Rebuild/arwen/DivAlreadyKnow_litt_phino.txt',\n",
    "        'massida' : '/Users/guillaumelaunay/work/projects/pneumocoque/JM_Rebuild/arwen/DivAlreadyKnow_litt_massida.txt',\n",
    "        'barletMerge': '/Users/guillaumelaunay/work/projects/pneumocoque/JM_Rebuild/serializedData/divKnownR6.txt',\n",
    "        'garcia' : '/Users/guillaumelaunay/work/projects/pneumocoque/JM_Rebuild/arwen/pierre_uniprot.tsv',\n",
    "        'all' : '/Users/guillaumelaunay/work/projects/pneumocoque/JM_Rebuild/arwen/current_merge.txt'\n",
    "    }\n",
    "    if lType not in fileMap:\n",
    "        raise IndexError(\"no set named \" + lType)\n",
    "        \n",
    "    pFrame = pandas.read_csv(fileMap[lType], sep='\\t', lineterminator='\\n')\n",
    "    return [ uniprotID for uniprotID in pFrame.loc[:][\"Entry\"] ]\n",
    "\n",
    "def nEncode(G):\n",
    "    data = { 'nodes' : [], 'links' : [] }\n",
    "    \n",
    "    for e in G.edges(data=True):\n",
    "        data['links'].append({ 'source' : str(e[0]), 'target' : str(e[1]), 'value' : len(e[2]['lowQueryParam']),\n",
    "                             'data' : e[2] })\n",
    "\n",
    "    for n in G.nodes(data=True):\n",
    "        data['nodes'].append({'id' : str(n[0]), 'group' : n[1]['group'], 'val' : G.degree(n[0]) })\n",
    "    return data"
   ]
  },
  {
   "cell_type": "code",
   "execution_count": 15,
   "metadata": {
    "collapsed": false
   },
   "outputs": [],
   "source": [
    "import graph as graph\n",
    "iObj2 = graph.Interactome(queryTopo)\n",
    "#init = iOBj.Gtotal"
   ]
  },
  {
   "cell_type": "code",
   "execution_count": 16,
   "metadata": {
    "collapsed": false
   },
   "outputs": [
    {
     "name": "stdout",
     "output_type": "stream",
     "text": [
      "yes\n",
      "yes\n",
      "yes\n",
      "yes\n",
      "yes\n",
      "yes\n",
      "yes\n",
      "yes\n",
      "yes\n",
      "yes\n",
      "yes\n",
      "yes\n",
      "yes\n",
      "yes\n",
      "yes\n",
      "yes\n",
      "yes\n",
      "yes\n",
      "yes\n",
      "yes\n",
      "yes\n",
      "yes\n",
      "yes\n",
      "yes\n",
      "yes\n",
      "yes\n",
      "yes\n",
      "yes\n",
      "yes\n",
      "yes\n",
      "yes\n",
      "yes\n",
      "yes\n",
      "yes\n",
      "yes\n",
      "yes\n",
      "yes\n",
      "yes\n",
      "yes\n",
      "yes\n",
      "yes\n",
      "yes\n",
      "yes\n",
      "yes\n",
      "yes\n",
      "yes\n",
      "yes\n",
      "yes\n",
      "yes\n",
      "yes\n",
      "yes\n",
      "yes\n",
      "yes\n",
      "yes\n",
      "yes\n",
      "yes\n",
      "yes\n",
      "yes\n",
      "yes\n",
      "yes\n",
      "yes\n",
      "yes\n",
      "yes\n",
      "yes\n",
      "yes\n",
      "yes\n",
      "yes\n",
      "yes\n",
      "yes\n",
      "yes\n",
      "Total number of pruned edges is 89567 / 90266\n"
     ]
    }
   ],
   "source": [
    "seedList = loadSeedList()\n",
    "#seedList=['Q8DNV9']\n",
    "G = iObj2.graph(seedNodes=seedList[:], simPct=60.0)\n",
    "\n",
    "# RESUME HERE\n",
    "#nx.draw(G,pos=nx.spring_layout(G)) # use spring layout"
   ]
  },
  {
   "cell_type": "code",
   "execution_count": 18,
   "metadata": {
    "collapsed": false,
    "scrolled": true
   },
   "outputs": [
    {
     "data": {
      "text/html": [
       "<table><thead><th>Node</th><th>Degree</th></thead><tbody><tr><td><a href=\"http://www.uniprot.org/uniprot/P0A336\" target=\"blank\" style=\"color:black\">P0A336</td><td>30</td></tr><tr><td><a href=\"http://www.uniprot.org/uniprot/Q8DPS0\" target=\"blank\" style=\"color:black\">Q8DPS0</td><td>28</td></tr><tr><td><a href=\"http://www.uniprot.org/uniprot/P59661\" target=\"blank\" style=\"color:black\">P59661</td><td>24</td></tr><tr><td><a href=\"http://www.uniprot.org/uniprot/Q8CWN9\" target=\"blank\" style=\"color:black\">Q8CWN9</td><td>21</td></tr><tr><td><a href=\"http://www.uniprot.org/uniprot/P63788\" target=\"blank\" style=\"color:black\">P63788</td><td>20</td></tr><tr><td><a href=\"http://www.uniprot.org/uniprot/P66041\" target=\"blank\" style=\"color:black\">P66041</td><td>17</td></tr><tr><td><a href=\"http://www.uniprot.org/uniprot/Q8DPM2\" target=\"blank\" style=\"color:black\">Q8DPM2</td><td>16</td></tr><tr><td><a href=\"http://www.uniprot.org/uniprot/Q8DRL7\" target=\"blank\" style=\"color:black\">Q8DRL7</td><td>16</td></tr><tr><td><a href=\"http://www.uniprot.org/uniprot/Q8DPM9\" target=\"blank\" style=\"color:black\">Q8DPM9</td><td>15</td></tr><tr><td><a href=\"http://www.uniprot.org/uniprot/Q8DRB3\" target=\"blank\" style=\"color:black\">Q8DRB3</td><td>15</td></tr><tr><td><a href=\"http://www.uniprot.org/uniprot/P0A3R0\" target=\"blank\" style=\"color:black\">P0A3R0</td><td>14</td></tr><tr><td><a href=\"http://www.uniprot.org/uniprot/Q8CWS5\" target=\"blank\" style=\"color:black\">Q8CWS5</td><td>14</td></tr><tr><td><a href=\"http://www.uniprot.org/uniprot/Q8DNP9\" target=\"blank\" style=\"color:black\">Q8DNP9</td><td>14</td></tr><tr><td><a href=\"http://www.uniprot.org/uniprot/P0A4T2\" target=\"blank\" style=\"color:black\">P0A4T2</td><td>14</td></tr><tr><td><a href=\"http://www.uniprot.org/uniprot/P65240\" target=\"blank\" style=\"color:black\">P65240</td><td>13</td></tr><tr><td><a href=\"http://www.uniprot.org/uniprot/Q8DNM8\" target=\"blank\" style=\"color:black\">Q8DNM8</td><td>13</td></tr><tr><td><a href=\"http://www.uniprot.org/uniprot/Q8DNY5\" target=\"blank\" style=\"color:black\">Q8DNY5</td><td>13</td></tr><tr><td><a href=\"http://www.uniprot.org/uniprot/Q8DR11\" target=\"blank\" style=\"color:black\">Q8DR11</td><td>13</td></tr><tr><td><a href=\"http://www.uniprot.org/uniprot/Q8DPZ0\" target=\"blank\" style=\"color:black\">Q8DPZ0</td><td>12</td></tr><tr><td><a href=\"http://www.uniprot.org/uniprot/Q8CWN6\" target=\"blank\" style=\"color:black\">Q8CWN6</td><td>12</td></tr><tr><td><a href=\"http://www.uniprot.org/uniprot/Q8DNR5\" target=\"blank\" style=\"color:black\">Q8DNR5</td><td>12</td></tr><tr><td><a href=\"http://www.uniprot.org/uniprot/P65537\" target=\"blank\" style=\"color:black\">P65537</td><td>12</td></tr><tr><td><a href=\"http://www.uniprot.org/uniprot/P64031\" target=\"blank\" style=\"color:black\">P64031</td><td>12</td></tr><tr><td><a href=\"http://www.uniprot.org/uniprot/Q8DQX8\" target=\"blank\" style=\"color:black\">Q8DQX8</td><td>12</td></tr><tr><td><a href=\"http://www.uniprot.org/uniprot/P66633\" target=\"blank\" style=\"color:black\">P66633</td><td>12</td></tr><tr><td><a href=\"http://www.uniprot.org/uniprot/Q8DPT3\" target=\"blank\" style=\"color:black\">Q8DPT3</td><td>12</td></tr><tr><td><a href=\"http://www.uniprot.org/uniprot/P65242\" target=\"blank\" style=\"color:black\">P65242</td><td>11</td></tr><tr><td><a href=\"http://www.uniprot.org/uniprot/Q8CZE9\" target=\"blank\" style=\"color:black\">Q8CZE9</td><td>11</td></tr><tr><td><a href=\"http://www.uniprot.org/uniprot/Q8CWT3\" target=\"blank\" style=\"color:black\">Q8CWT3</td><td>11</td></tr><tr><td><a href=\"http://www.uniprot.org/uniprot/Q8DRM4\" target=\"blank\" style=\"color:black\">Q8DRM4</td><td>11</td></tr><tr><td><a href=\"http://www.uniprot.org/uniprot/Q8DQD3\" target=\"blank\" style=\"color:black\">Q8DQD3</td><td>11</td></tr><tr><td><a href=\"http://www.uniprot.org/uniprot/Q8DRK7\" target=\"blank\" style=\"color:black\">Q8DRK7</td><td>11</td></tr><tr><td><a href=\"http://www.uniprot.org/uniprot/Q8DPK7\" target=\"blank\" style=\"color:black\">Q8DPK7</td><td>10</td></tr><tr><td><a href=\"http://www.uniprot.org/uniprot/P65888\" target=\"blank\" style=\"color:black\">P65888</td><td>10</td></tr><tr><td><a href=\"http://www.uniprot.org/uniprot/Q8CWT2\" target=\"blank\" style=\"color:black\">Q8CWT2</td><td>10</td></tr><tr><td><a href=\"http://www.uniprot.org/uniprot/Q8DMX2\" target=\"blank\" style=\"color:black\">Q8DMX2</td><td>10</td></tr><tr><td><a href=\"http://www.uniprot.org/uniprot/Q8DQ00\" target=\"blank\" style=\"color:black\">Q8DQ00</td><td>10</td></tr><tr><td><a href=\"http://www.uniprot.org/uniprot/Q8DPU0\" target=\"blank\" style=\"color:black\">Q8DPU0</td><td>10</td></tr><tr><td><a href=\"http://www.uniprot.org/uniprot/Q8DR13\" target=\"blank\" style=\"color:black\">Q8DR13</td><td>9</td></tr><tr><td><a href=\"http://www.uniprot.org/uniprot/Q8DQY0\" target=\"blank\" style=\"color:black\">Q8DQY0</td><td>9</td></tr><tr><td><a href=\"http://www.uniprot.org/uniprot/Q8DQF8\" target=\"blank\" style=\"color:black\">Q8DQF8</td><td>9</td></tr><tr><td><a href=\"http://www.uniprot.org/uniprot/Q8DRH8\" target=\"blank\" style=\"color:brown\">Q8DRH8</td><td>9</td></tr><tr><td><a href=\"http://www.uniprot.org/uniprot/Q8DQL6\" target=\"blank\" style=\"color:black\">Q8DQL6</td><td>9</td></tr><tr><td><a href=\"http://www.uniprot.org/uniprot/Q8DQT2\" target=\"blank\" style=\"color:black\">Q8DQT2</td><td>9</td></tr><tr><td><a href=\"http://www.uniprot.org/uniprot/Q8DQ49\" target=\"blank\" style=\"color:black\">Q8DQ49</td><td>9</td></tr><tr><td><a href=\"http://www.uniprot.org/uniprot/Q8CWT4\" target=\"blank\" style=\"color:black\">Q8CWT4</td><td>9</td></tr><tr><td><a href=\"http://www.uniprot.org/uniprot/Q7CRB7\" target=\"blank\" style=\"color:black\">Q7CRB7</td><td>9</td></tr><tr><td><a href=\"http://www.uniprot.org/uniprot/Q8DRF9\" target=\"blank\" style=\"color:black\">Q8DRF9</td><td>8</td></tr><tr><td><a href=\"http://www.uniprot.org/uniprot/P63545\" target=\"blank\" style=\"color:black\">P63545</td><td>8</td></tr><tr><td><a href=\"http://www.uniprot.org/uniprot/P0A472\" target=\"blank\" style=\"color:black\">P0A472</td><td>8</td></tr><tr><td><a href=\"http://www.uniprot.org/uniprot/Q8DQD4\" target=\"blank\" style=\"color:black\">Q8DQD4</td><td>8</td></tr><tr><td><a href=\"http://www.uniprot.org/uniprot/Q8DP05\" target=\"blank\" style=\"color:black\">Q8DP05</td><td>8</td></tr><tr><td><a href=\"http://www.uniprot.org/uniprot/Q9EUQ7\" target=\"blank\" style=\"color:brown\">Q9EUQ7</td><td>8</td></tr><tr><td><a href=\"http://www.uniprot.org/uniprot/Q8CWV5\" target=\"blank\" style=\"color:black\">Q8CWV5</td><td>7</td></tr><tr><td><a href=\"http://www.uniprot.org/uniprot/P65947\" target=\"blank\" style=\"color:black\">P65947</td><td>7</td></tr><tr><td><a href=\"http://www.uniprot.org/uniprot/Q8DRI5\" target=\"blank\" style=\"color:black\">Q8DRI5</td><td>7</td></tr><tr><td><a href=\"http://www.uniprot.org/uniprot/Q8DPQ0\" target=\"blank\" style=\"color:black\">Q8DPQ0</td><td>7</td></tr><tr><td><a href=\"http://www.uniprot.org/uniprot/Q8DR22\" target=\"blank\" style=\"color:black\">Q8DR22</td><td>7</td></tr><tr><td><a href=\"http://www.uniprot.org/uniprot/P0A4J0\" target=\"blank\" style=\"color:black\">P0A4J0</td><td>7</td></tr><tr><td><a href=\"http://www.uniprot.org/uniprot/Q8DR10\" target=\"blank\" style=\"color:black\">Q8DR10</td><td>7</td></tr><tr><td><a href=\"http://www.uniprot.org/uniprot/P66566\" target=\"blank\" style=\"color:black\">P66566</td><td>7</td></tr><tr><td><a href=\"http://www.uniprot.org/uniprot/Q8DQL1\" target=\"blank\" style=\"color:black\">Q8DQL1</td><td>7</td></tr><tr><td><a href=\"http://www.uniprot.org/uniprot/Q8DP09\" target=\"blank\" style=\"color:black\">Q8DP09</td><td>7</td></tr><tr><td><a href=\"http://www.uniprot.org/uniprot/Q8DR86\" target=\"blank\" style=\"color:black\">Q8DR86</td><td>7</td></tr><tr><td><a href=\"http://www.uniprot.org/uniprot/P63589\" target=\"blank\" style=\"color:black\">P63589</td><td>7</td></tr><tr><td><a href=\"http://www.uniprot.org/uniprot/Q8DPK4\" target=\"blank\" style=\"color:black\">Q8DPK4</td><td>7</td></tr><tr><td><a href=\"http://www.uniprot.org/uniprot/Q8DQG7\" target=\"blank\" style=\"color:black\">Q8DQG7</td><td>7</td></tr><tr><td><a href=\"http://www.uniprot.org/uniprot/Q8DNI9\" target=\"blank\" style=\"color:brown\">Q8DNI9</td><td>7</td></tr><tr><td><a href=\"http://www.uniprot.org/uniprot/P66709\" target=\"blank\" style=\"color:black\">P66709</td><td>6</td></tr><tr><td><a href=\"http://www.uniprot.org/uniprot/Q8DP77\" target=\"blank\" style=\"color:black\">Q8DP77</td><td>6</td></tr><tr><td><a href=\"http://www.uniprot.org/uniprot/Q8CWS6\" target=\"blank\" style=\"color:black\">Q8CWS6</td><td>6</td></tr><tr><td><a href=\"http://www.uniprot.org/uniprot/P0A4D8\" target=\"blank\" style=\"color:black\">P0A4D8</td><td>6</td></tr><tr><td><a href=\"http://www.uniprot.org/uniprot/Q8DMW9\" target=\"blank\" style=\"color:black\">Q8DMW9</td><td>6</td></tr><tr><td><a href=\"http://www.uniprot.org/uniprot/Q8DMZ2\" target=\"blank\" style=\"color:black\">Q8DMZ2</td><td>6</td></tr><tr><td><a href=\"http://www.uniprot.org/uniprot/Q8DPU5\" target=\"blank\" style=\"color:black\">Q8DPU5</td><td>6</td></tr><tr><td><a href=\"http://www.uniprot.org/uniprot/P66921\" target=\"blank\" style=\"color:black\">P66921</td><td>6</td></tr><tr><td><a href=\"http://www.uniprot.org/uniprot/P65145\" target=\"blank\" style=\"color:black\">P65145</td><td>6</td></tr><tr><td><a href=\"http://www.uniprot.org/uniprot/Q8CZB7\" target=\"blank\" style=\"color:black\">Q8CZB7</td><td>6</td></tr><tr><td><a href=\"http://www.uniprot.org/uniprot/Q8DRD7\" target=\"blank\" style=\"color:black\">Q8DRD7</td><td>6</td></tr><tr><td><a href=\"http://www.uniprot.org/uniprot/Q8DP26\" target=\"blank\" style=\"color:black\">Q8DP26</td><td>6</td></tr><tr><td><a href=\"http://www.uniprot.org/uniprot/Q8DQ50\" target=\"blank\" style=\"color:black\">Q8DQ50</td><td>6</td></tr><tr><td><a href=\"http://www.uniprot.org/uniprot/P59202\" target=\"blank\" style=\"color:black\">P59202</td><td>5</td></tr><tr><td><a href=\"http://www.uniprot.org/uniprot/Q8DND5\" target=\"blank\" style=\"color:black\">Q8DND5</td><td>5</td></tr><tr><td><a href=\"http://www.uniprot.org/uniprot/Q8DNF0\" target=\"blank\" style=\"color:black\">Q8DNF0</td><td>5</td></tr><tr><td><a href=\"http://www.uniprot.org/uniprot/Q8DRD4\" target=\"blank\" style=\"color:black\">Q8DRD4</td><td>5</td></tr><tr><td><a href=\"http://www.uniprot.org/uniprot/Q7ZAK7\" target=\"blank\" style=\"color:brown\">Q7ZAK7</td><td>5</td></tr><tr><td><a href=\"http://www.uniprot.org/uniprot/Q8DRM1\" target=\"blank\" style=\"color:black\">Q8DRM1</td><td>5</td></tr><tr><td><a href=\"http://www.uniprot.org/uniprot/P67050\" target=\"blank\" style=\"color:black\">P67050</td><td>5</td></tr><tr><td><a href=\"http://www.uniprot.org/uniprot/P66360\" target=\"blank\" style=\"color:black\">P66360</td><td>5</td></tr><tr><td><a href=\"http://www.uniprot.org/uniprot/Q8DNF1\" target=\"blank\" style=\"color:black\">Q8DNF1</td><td>5</td></tr><tr><td><a href=\"http://www.uniprot.org/uniprot/Q8DNC5\" target=\"blank\" style=\"color:black\">Q8DNC5</td><td>5</td></tr><tr><td><a href=\"http://www.uniprot.org/uniprot/Q8DP78\" target=\"blank\" style=\"color:black\">Q8DP78</td><td>5</td></tr><tr><td><a href=\"http://www.uniprot.org/uniprot/Q8DNJ6\" target=\"blank\" style=\"color:black\">Q8DNJ6</td><td>5</td></tr><tr><td><a href=\"http://www.uniprot.org/uniprot/P0A2W7\" target=\"blank\" style=\"color:black\">P0A2W7</td><td>5</td></tr><tr><td><a href=\"http://www.uniprot.org/uniprot/P66136\" target=\"blank\" style=\"color:black\">P66136</td><td>5</td></tr><tr><td><a href=\"http://www.uniprot.org/uniprot/Q8DMW1\" target=\"blank\" style=\"color:brown\">Q8DMW1</td><td>5</td></tr><tr><td><a href=\"http://www.uniprot.org/uniprot/Q8DQ95\" target=\"blank\" style=\"color:black\">Q8DQ95</td><td>5</td></tr><tr><td><a href=\"http://www.uniprot.org/uniprot/P63792\" target=\"blank\" style=\"color:brown\">P63792</td><td>5</td></tr><tr><td><a href=\"http://www.uniprot.org/uniprot/Q8CWP9\" target=\"blank\" style=\"color:brown\">Q8CWP9</td><td>5</td></tr><tr><td><a href=\"http://www.uniprot.org/uniprot/Q8CWS4\" target=\"blank\" style=\"color:black\">Q8CWS4</td><td>5</td></tr><tr><td><a href=\"http://www.uniprot.org/uniprot/Q8DPQ1\" target=\"blank\" style=\"color:black\">Q8DPQ1</td><td>4</td></tr><tr><td><a href=\"http://www.uniprot.org/uniprot/Q8DPL5\" target=\"blank\" style=\"color:black\">Q8DPL5</td><td>4</td></tr><tr><td><a href=\"http://www.uniprot.org/uniprot/Q8DMX1\" target=\"blank\" style=\"color:black\">Q8DMX1</td><td>4</td></tr><tr><td><a href=\"http://www.uniprot.org/uniprot/Q8DRQ3\" target=\"blank\" style=\"color:black\">Q8DRQ3</td><td>4</td></tr><tr><td><a href=\"http://www.uniprot.org/uniprot/Q8DRN7\" target=\"blank\" style=\"color:black\">Q8DRN7</td><td>4</td></tr><tr><td><a href=\"http://www.uniprot.org/uniprot/Q8DP29\" target=\"blank\" style=\"color:black\">Q8DP29</td><td>4</td></tr><tr><td><a href=\"http://www.uniprot.org/uniprot/Q8DP03\" target=\"blank\" style=\"color:black\">Q8DP03</td><td>4</td></tr><tr><td><a href=\"http://www.uniprot.org/uniprot/Q8DQ79\" target=\"blank\" style=\"color:black\">Q8DQ79</td><td>4</td></tr><tr><td><a href=\"http://www.uniprot.org/uniprot/P64023\" target=\"blank\" style=\"color:black\">P64023</td><td>4</td></tr><tr><td><a href=\"http://www.uniprot.org/uniprot/P0A454\" target=\"blank\" style=\"color:black\">P0A454</td><td>4</td></tr><tr><td><a href=\"http://www.uniprot.org/uniprot/P59659\" target=\"blank\" style=\"color:black\">P59659</td><td>4</td></tr><tr><td><a href=\"http://www.uniprot.org/uniprot/Q8DQI7\" target=\"blank\" style=\"color:black\">Q8DQI7</td><td>4</td></tr><tr><td><a href=\"http://www.uniprot.org/uniprot/Q7CRB1\" target=\"blank\" style=\"color:black\">Q7CRB1</td><td>4</td></tr><tr><td><a href=\"http://www.uniprot.org/uniprot/Q8DQ44\" target=\"blank\" style=\"color:black\">Q8DQ44</td><td>4</td></tr><tr><td><a href=\"http://www.uniprot.org/uniprot/Q8DR03\" target=\"blank\" style=\"color:black\">Q8DR03</td><td>4</td></tr><tr><td><a href=\"http://www.uniprot.org/uniprot/P66340\" target=\"blank\" style=\"color:black\">P66340</td><td>4</td></tr><tr><td><a href=\"http://www.uniprot.org/uniprot/Q8DQT8\" target=\"blank\" style=\"color:black\">Q8DQT8</td><td>4</td></tr><tr><td><a href=\"http://www.uniprot.org/uniprot/Q8DP44\" target=\"blank\" style=\"color:black\">Q8DP44</td><td>4</td></tr><tr><td><a href=\"http://www.uniprot.org/uniprot/Q8DNA2\" target=\"blank\" style=\"color:black\">Q8DNA2</td><td>4</td></tr><tr><td><a href=\"http://www.uniprot.org/uniprot/Q8DRI4\" target=\"blank\" style=\"color:black\">Q8DRI4</td><td>4</td></tr><tr><td><a href=\"http://www.uniprot.org/uniprot/P59656\" target=\"blank\" style=\"color:black\">P59656</td><td>4</td></tr><tr><td><a href=\"http://www.uniprot.org/uniprot/P63414\" target=\"blank\" style=\"color:black\">P63414</td><td>4</td></tr><tr><td><a href=\"http://www.uniprot.org/uniprot/Q8DND8\" target=\"blank\" style=\"color:black\">Q8DND8</td><td>3</td></tr><tr><td><a href=\"http://www.uniprot.org/uniprot/Q8DPH6\" target=\"blank\" style=\"color:black\">Q8DPH6</td><td>3</td></tr><tr><td><a href=\"http://www.uniprot.org/uniprot/P0A4T0\" target=\"blank\" style=\"color:black\">P0A4T0</td><td>3</td></tr><tr><td><a href=\"http://www.uniprot.org/uniprot/P0A3N0\" target=\"blank\" style=\"color:black\">P0A3N0</td><td>3</td></tr><tr><td><a href=\"http://www.uniprot.org/uniprot/P67331\" target=\"blank\" style=\"color:black\">P67331</td><td>3</td></tr><tr><td><a href=\"http://www.uniprot.org/uniprot/Q8DPJ9\" target=\"blank\" style=\"color:brown\">Q8DPJ9</td><td>3</td></tr><tr><td><a href=\"http://www.uniprot.org/uniprot/P0A484\" target=\"blank\" style=\"color:black\">P0A484</td><td>3</td></tr><tr><td><a href=\"http://www.uniprot.org/uniprot/Q8DQ59\" target=\"blank\" style=\"color:black\">Q8DQ59</td><td>3</td></tr><tr><td><a href=\"http://www.uniprot.org/uniprot/Q8CWS9\" target=\"blank\" style=\"color:black\">Q8CWS9</td><td>3</td></tr><tr><td><a href=\"http://www.uniprot.org/uniprot/Q8DR05\" target=\"blank\" style=\"color:black\">Q8DR05</td><td>3</td></tr><tr><td><a href=\"http://www.uniprot.org/uniprot/P0A4J7\" target=\"blank\" style=\"color:black\">P0A4J7</td><td>3</td></tr><tr><td><a href=\"http://www.uniprot.org/uniprot/Q8CWP7\" target=\"blank\" style=\"color:brown\">Q8CWP7</td><td>3</td></tr><tr><td><a href=\"http://www.uniprot.org/uniprot/P0A4B6\" target=\"blank\" style=\"color:black\">P0A4B6</td><td>3</td></tr><tr><td><a href=\"http://www.uniprot.org/uniprot/Q8DNW3\" target=\"blank\" style=\"color:black\">Q8DNW3</td><td>3</td></tr><tr><td><a href=\"http://www.uniprot.org/uniprot/P66096\" target=\"blank\" style=\"color:black\">P66096</td><td>3</td></tr><tr><td><a href=\"http://www.uniprot.org/uniprot/P67414\" target=\"blank\" style=\"color:black\">P67414</td><td>3</td></tr><tr><td><a href=\"http://www.uniprot.org/uniprot/Q8CWQ0\" target=\"blank\" style=\"color:black\">Q8CWQ0</td><td>3</td></tr><tr><td><a href=\"http://www.uniprot.org/uniprot/P0A452\" target=\"blank\" style=\"color:black\">P0A452</td><td>3</td></tr><tr><td><a href=\"http://www.uniprot.org/uniprot/P63743\" target=\"blank\" style=\"color:black\">P63743</td><td>3</td></tr><tr><td><a href=\"http://www.uniprot.org/uniprot/Q8DQ70\" target=\"blank\" style=\"color:black\">Q8DQ70</td><td>3</td></tr><tr><td><a href=\"http://www.uniprot.org/uniprot/Q8DNX9\" target=\"blank\" style=\"color:black\">Q8DNX9</td><td>3</td></tr><tr><td><a href=\"http://www.uniprot.org/uniprot/P0A476\" target=\"blank\" style=\"color:black\">P0A476</td><td>3</td></tr><tr><td><a href=\"http://www.uniprot.org/uniprot/Q8DN52\" target=\"blank\" style=\"color:black\">Q8DN52</td><td>3</td></tr><tr><td><a href=\"http://www.uniprot.org/uniprot/Q8DPN5\" target=\"blank\" style=\"color:black\">Q8DPN5</td><td>3</td></tr><tr><td><a href=\"http://www.uniprot.org/uniprot/Q8CWU4\" target=\"blank\" style=\"color:black\">Q8CWU4</td><td>3</td></tr><tr><td><a href=\"http://www.uniprot.org/uniprot/Q8CWM8\" target=\"blank\" style=\"color:black\">Q8CWM8</td><td>3</td></tr><tr><td><a href=\"http://www.uniprot.org/uniprot/Q8DRM7\" target=\"blank\" style=\"color:black\">Q8DRM7</td><td>3</td></tr><tr><td><a href=\"http://www.uniprot.org/uniprot/Q8DPG0\" target=\"blank\" style=\"color:black\">Q8DPG0</td><td>3</td></tr><tr><td><a href=\"http://www.uniprot.org/uniprot/Q8DRL9\" target=\"blank\" style=\"color:black\">Q8DRL9</td><td>3</td></tr><tr><td><a href=\"http://www.uniprot.org/uniprot/P59200\" target=\"blank\" style=\"color:black\">P59200</td><td>3</td></tr><tr><td><a href=\"http://www.uniprot.org/uniprot/Q8DQU7\" target=\"blank\" style=\"color:black\">Q8DQU7</td><td>3</td></tr><tr><td><a href=\"http://www.uniprot.org/uniprot/Q8DNA4\" target=\"blank\" style=\"color:black\">Q8DNA4</td><td>3</td></tr><tr><td><a href=\"http://www.uniprot.org/uniprot/Q8DPI7\" target=\"blank\" style=\"color:black\">Q8DPI7</td><td>3</td></tr><tr><td><a href=\"http://www.uniprot.org/uniprot/Q8DRF1\" target=\"blank\" style=\"color:black\">Q8DRF1</td><td>3</td></tr><tr><td><a href=\"http://www.uniprot.org/uniprot/Q8DQ60\" target=\"blank\" style=\"color:black\">Q8DQ60</td><td>3</td></tr><tr><td><a href=\"http://www.uniprot.org/uniprot/Q8DPT5\" target=\"blank\" style=\"color:black\">Q8DPT5</td><td>3</td></tr><tr><td><a href=\"http://www.uniprot.org/uniprot/P0A496\" target=\"blank\" style=\"color:black\">P0A496</td><td>3</td></tr><tr><td><a href=\"http://www.uniprot.org/uniprot/Q8DQT1\" target=\"blank\" style=\"color:black\">Q8DQT1</td><td>3</td></tr><tr><td><a href=\"http://www.uniprot.org/uniprot/Q8CWN8\" target=\"blank\" style=\"color:black\">Q8CWN8</td><td>2</td></tr><tr><td><a href=\"http://www.uniprot.org/uniprot/Q8DNV9\" target=\"blank\" style=\"color:brown\">Q8DNV9</td><td>2</td></tr><tr><td><a href=\"http://www.uniprot.org/uniprot/Q8DRB0\" target=\"blank\" style=\"color:black\">Q8DRB0</td><td>2</td></tr><tr><td><a href=\"http://www.uniprot.org/uniprot/Q8CWT8\" target=\"blank\" style=\"color:black\">Q8CWT8</td><td>2</td></tr><tr><td><a href=\"http://www.uniprot.org/uniprot/Q8CWV8\" target=\"blank\" style=\"color:black\">Q8CWV8</td><td>2</td></tr><tr><td><a href=\"http://www.uniprot.org/uniprot/Q8DQA7\" target=\"blank\" style=\"color:black\">Q8DQA7</td><td>2</td></tr><tr><td><a href=\"http://www.uniprot.org/uniprot/Q8CWR0\" target=\"blank\" style=\"color:black\">Q8CWR0</td><td>2</td></tr><tr><td><a href=\"http://www.uniprot.org/uniprot/Q8DR15\" target=\"blank\" style=\"color:black\">Q8DR15</td><td>2</td></tr><tr><td><a href=\"http://www.uniprot.org/uniprot/Q8DN86\" target=\"blank\" style=\"color:black\">Q8DN86</td><td>2</td></tr><tr><td><a href=\"http://www.uniprot.org/uniprot/Q8DQH0\" target=\"blank\" style=\"color:black\">Q8DQH0</td><td>2</td></tr><tr><td><a href=\"http://www.uniprot.org/uniprot/Q8DN69\" target=\"blank\" style=\"color:black\">Q8DN69</td><td>2</td></tr><tr><td><a href=\"http://www.uniprot.org/uniprot/Q8DQA6\" target=\"blank\" style=\"color:black\">Q8DQA6</td><td>2</td></tr><tr><td><a href=\"http://www.uniprot.org/uniprot/Q8DPS9\" target=\"blank\" style=\"color:black\">Q8DPS9</td><td>2</td></tr><tr><td><a href=\"http://www.uniprot.org/uniprot/Q8CWQ7\" target=\"blank\" style=\"color:black\">Q8CWQ7</td><td>2</td></tr><tr><td><a href=\"http://www.uniprot.org/uniprot/Q8DQH5\" target=\"blank\" style=\"color:black\">Q8DQH5</td><td>2</td></tr><tr><td><a href=\"http://www.uniprot.org/uniprot/Q7ZAK4\" target=\"blank\" style=\"color:black\">Q7ZAK4</td><td>2</td></tr><tr><td><a href=\"http://www.uniprot.org/uniprot/Q8DP83\" target=\"blank\" style=\"color:black\">Q8DP83</td><td>2</td></tr><tr><td><a href=\"http://www.uniprot.org/uniprot/Q8DP80\" target=\"blank\" style=\"color:black\">Q8DP80</td><td>2</td></tr><tr><td><a href=\"http://www.uniprot.org/uniprot/P65160\" target=\"blank\" style=\"color:black\">P65160</td><td>2</td></tr><tr><td><a href=\"http://www.uniprot.org/uniprot/Q8DPJ2\" target=\"blank\" style=\"color:black\">Q8DPJ2</td><td>2</td></tr><tr><td><a href=\"http://www.uniprot.org/uniprot/P60630\" target=\"blank\" style=\"color:black\">P60630</td><td>2</td></tr><tr><td><a href=\"http://www.uniprot.org/uniprot/Q8DNI6\" target=\"blank\" style=\"color:black\">Q8DNI6</td><td>2</td></tr><tr><td><a href=\"http://www.uniprot.org/uniprot/Q8DNE6\" target=\"blank\" style=\"color:black\">Q8DNE6</td><td>2</td></tr><tr><td><a href=\"http://www.uniprot.org/uniprot/Q8DQ56\" target=\"blank\" style=\"color:black\">Q8DQ56</td><td>2</td></tr><tr><td><a href=\"http://www.uniprot.org/uniprot/Q8DPC2\" target=\"blank\" style=\"color:black\">Q8DPC2</td><td>2</td></tr><tr><td><a href=\"http://www.uniprot.org/uniprot/Q8DRN8\" target=\"blank\" style=\"color:black\">Q8DRN8</td><td>2</td></tr><tr><td><a href=\"http://www.uniprot.org/uniprot/P0A2U9\" target=\"blank\" style=\"color:black\">P0A2U9</td><td>2</td></tr><tr><td><a href=\"http://www.uniprot.org/uniprot/Q8DQJ8\" target=\"blank\" style=\"color:black\">Q8DQJ8</td><td>2</td></tr><tr><td><a href=\"http://www.uniprot.org/uniprot/Q8DRC8\" target=\"blank\" style=\"color:black\">Q8DRC8</td><td>2</td></tr><tr><td><a href=\"http://www.uniprot.org/uniprot/Q8DMY4\" target=\"blank\" style=\"color:black\">Q8DMY4</td><td>2</td></tr><tr><td><a href=\"http://www.uniprot.org/uniprot/Q8DNT8\" target=\"blank\" style=\"color:black\">Q8DNT8</td><td>2</td></tr><tr><td><a href=\"http://www.uniprot.org/uniprot/Q8CWV0\" target=\"blank\" style=\"color:black\">Q8CWV0</td><td>2</td></tr><tr><td><a href=\"http://www.uniprot.org/uniprot/Q8DPH1\" target=\"blank\" style=\"color:black\">Q8DPH1</td><td>2</td></tr><tr><td><a href=\"http://www.uniprot.org/uniprot/P0A4S2\" target=\"blank\" style=\"color:black\">P0A4S2</td><td>2</td></tr><tr><td><a href=\"http://www.uniprot.org/uniprot/Q8DPV5\" target=\"blank\" style=\"color:black\">Q8DPV5</td><td>2</td></tr><tr><td><a href=\"http://www.uniprot.org/uniprot/Q8DQK9\" target=\"blank\" style=\"color:black\">Q8DQK9</td><td>2</td></tr><tr><td><a href=\"http://www.uniprot.org/uniprot/Q8DQH8\" target=\"blank\" style=\"color:black\">Q8DQH8</td><td>2</td></tr><tr><td><a href=\"http://www.uniprot.org/uniprot/Q8DPZ4\" target=\"blank\" style=\"color:black\">Q8DPZ4</td><td>2</td></tr><tr><td><a href=\"http://www.uniprot.org/uniprot/Q8CZ91\" target=\"blank\" style=\"color:black\">Q8CZ91</td><td>2</td></tr><tr><td><a href=\"http://www.uniprot.org/uniprot/Q8DPL7\" target=\"blank\" style=\"color:black\">Q8DPL7</td><td>2</td></tr><tr><td><a href=\"http://www.uniprot.org/uniprot/Q8DNE7\" target=\"blank\" style=\"color:black\">Q8DNE7</td><td>2</td></tr><tr><td><a href=\"http://www.uniprot.org/uniprot/P66473\" target=\"blank\" style=\"color:black\">P66473</td><td>2</td></tr><tr><td><a href=\"http://www.uniprot.org/uniprot/Q8DQ69\" target=\"blank\" style=\"color:black\">Q8DQ69</td><td>2</td></tr><tr><td><a href=\"http://www.uniprot.org/uniprot/Q8CWU7\" target=\"blank\" style=\"color:black\">Q8CWU7</td><td>2</td></tr><tr><td><a href=\"http://www.uniprot.org/uniprot/Q8CWU6\" target=\"blank\" style=\"color:black\">Q8CWU6</td><td>2</td></tr><tr><td><a href=\"http://www.uniprot.org/uniprot/Q8DP18\" target=\"blank\" style=\"color:black\">Q8DP18</td><td>2</td></tr><tr><td><a href=\"http://www.uniprot.org/uniprot/Q8DQU0\" target=\"blank\" style=\"color:black\">Q8DQU0</td><td>2</td></tr><tr><td><a href=\"http://www.uniprot.org/uniprot/Q8DPJ6\" target=\"blank\" style=\"color:black\">Q8DPJ6</td><td>2</td></tr><tr><td><a href=\"http://www.uniprot.org/uniprot/P64063\" target=\"blank\" style=\"color:black\">P64063</td><td>2</td></tr><tr><td><a href=\"http://www.uniprot.org/uniprot/Q8DNR1\" target=\"blank\" style=\"color:black\">Q8DNR1</td><td>2</td></tr><tr><td><a href=\"http://www.uniprot.org/uniprot/P66445\" target=\"blank\" style=\"color:black\">P66445</td><td>2</td></tr><tr><td><a href=\"http://www.uniprot.org/uniprot/Q8DP71\" target=\"blank\" style=\"color:black\">Q8DP71</td><td>2</td></tr><tr><td><a href=\"http://www.uniprot.org/uniprot/Q8DPK2\" target=\"blank\" style=\"color:brown\">Q8DPK2</td><td>2</td></tr><tr><td><a href=\"http://www.uniprot.org/uniprot/Q8DP99\" target=\"blank\" style=\"color:black\">Q8DP99</td><td>2</td></tr><tr><td><a href=\"http://www.uniprot.org/uniprot/Q8DPJ4\" target=\"blank\" style=\"color:black\">Q8DPJ4</td><td>2</td></tr><tr><td><a href=\"http://www.uniprot.org/uniprot/P65509\" target=\"blank\" style=\"color:black\">P65509</td><td>2</td></tr><tr><td><a href=\"http://www.uniprot.org/uniprot/Q8DPH0\" target=\"blank\" style=\"color:black\">Q8DPH0</td><td>2</td></tr><tr><td><a href=\"http://www.uniprot.org/uniprot/Q8DPQ4\" target=\"blank\" style=\"color:black\">Q8DPQ4</td><td>2</td></tr><tr><td><a href=\"http://www.uniprot.org/uniprot/Q8DPA2\" target=\"blank\" style=\"color:black\">Q8DPA2</td><td>2</td></tr><tr><td><a href=\"http://www.uniprot.org/uniprot/P65122\" target=\"blank\" style=\"color:black\">P65122</td><td>2</td></tr><tr><td><a href=\"http://www.uniprot.org/uniprot/P66156\" target=\"blank\" style=\"color:black\">P66156</td><td>2</td></tr><tr><td><a href=\"http://www.uniprot.org/uniprot/Q8DP65\" target=\"blank\" style=\"color:black\">Q8DP65</td><td>2</td></tr><tr><td><a href=\"http://www.uniprot.org/uniprot/Q8DQA2\" target=\"blank\" style=\"color:black\">Q8DQA2</td><td>1</td></tr><tr><td><a href=\"http://www.uniprot.org/uniprot/Q8DNY6\" target=\"blank\" style=\"color:black\">Q8DNY6</td><td>1</td></tr><tr><td><a href=\"http://www.uniprot.org/uniprot/Q8CWR9\" target=\"blank\" style=\"color:black\">Q8CWR9</td><td>1</td></tr><tr><td><a href=\"http://www.uniprot.org/uniprot/P0A3R2\" target=\"blank\" style=\"color:black\">P0A3R2</td><td>1</td></tr><tr><td><a href=\"http://www.uniprot.org/uniprot/Q8DQG9\" target=\"blank\" style=\"color:black\">Q8DQG9</td><td>1</td></tr><tr><td><a href=\"http://www.uniprot.org/uniprot/Q8CWQ4\" target=\"blank\" style=\"color:black\">Q8CWQ4</td><td>1</td></tr><tr><td><a href=\"http://www.uniprot.org/uniprot/Q8DR09\" target=\"blank\" style=\"color:black\">Q8DR09</td><td>1</td></tr><tr><td><a href=\"http://www.uniprot.org/uniprot/Q8DR34\" target=\"blank\" style=\"color:black\">Q8DR34</td><td>1</td></tr><tr><td><a href=\"http://www.uniprot.org/uniprot/Q8DRA5\" target=\"blank\" style=\"color:black\">Q8DRA5</td><td>1</td></tr><tr><td><a href=\"http://www.uniprot.org/uniprot/Q8DN41\" target=\"blank\" style=\"color:black\">Q8DN41</td><td>1</td></tr><tr><td><a href=\"http://www.uniprot.org/uniprot/Q8DRH2\" target=\"blank\" style=\"color:black\">Q8DRH2</td><td>1</td></tr><tr><td><a href=\"http://www.uniprot.org/uniprot/Q8DP14\" target=\"blank\" style=\"color:black\">Q8DP14</td><td>1</td></tr><tr><td><a href=\"http://www.uniprot.org/uniprot/Q8DQS8\" target=\"blank\" style=\"color:black\">Q8DQS8</td><td>1</td></tr><tr><td><a href=\"http://www.uniprot.org/uniprot/Q8DR54\" target=\"blank\" style=\"color:black\">Q8DR54</td><td>1</td></tr><tr><td><a href=\"http://www.uniprot.org/uniprot/Q8DPQ8\" target=\"blank\" style=\"color:black\">Q8DPQ8</td><td>1</td></tr><tr><td><a href=\"http://www.uniprot.org/uniprot/Q7CRB8\" target=\"blank\" style=\"color:black\">Q7CRB8</td><td>1</td></tr><tr><td><a href=\"http://www.uniprot.org/uniprot/P0A4M6\" target=\"blank\" style=\"color:black\">P0A4M6</td><td>1</td></tr><tr><td><a href=\"http://www.uniprot.org/uniprot/Q8DNQ9\" target=\"blank\" style=\"color:black\">Q8DNQ9</td><td>1</td></tr><tr><td><a href=\"http://www.uniprot.org/uniprot/Q8DPM7\" target=\"blank\" style=\"color:black\">Q8DPM7</td><td>1</td></tr><tr><td><a href=\"http://www.uniprot.org/uniprot/Q8DQA5\" target=\"blank\" style=\"color:black\">Q8DQA5</td><td>1</td></tr><tr><td><a href=\"http://www.uniprot.org/uniprot/Q8CWN4\" target=\"blank\" style=\"color:black\">Q8CWN4</td><td>1</td></tr><tr><td><a href=\"http://www.uniprot.org/uniprot/Q8DNQ6\" target=\"blank\" style=\"color:black\">Q8DNQ6</td><td>1</td></tr><tr><td><a href=\"http://www.uniprot.org/uniprot/Q8DQ43\" target=\"blank\" style=\"color:black\">Q8DQ43</td><td>1</td></tr><tr><td><a href=\"http://www.uniprot.org/uniprot/Q8DNC3\" target=\"blank\" style=\"color:black\">Q8DNC3</td><td>1</td></tr><tr><td><a href=\"http://www.uniprot.org/uniprot/Q8DPN1\" target=\"blank\" style=\"color:brown\">Q8DPN1</td><td>1</td></tr><tr><td><a href=\"http://www.uniprot.org/uniprot/Q8DP47\" target=\"blank\" style=\"color:black\">Q8DP47</td><td>1</td></tr><tr><td><a href=\"http://www.uniprot.org/uniprot/Q8DNA5\" target=\"blank\" style=\"color:black\">Q8DNA5</td><td>1</td></tr><tr><td><a href=\"http://www.uniprot.org/uniprot/Q8DR68\" target=\"blank\" style=\"color:black\">Q8DR68</td><td>1</td></tr><tr><td><a href=\"http://www.uniprot.org/uniprot/P66525\" target=\"blank\" style=\"color:black\">P66525</td><td>1</td></tr><tr><td><a href=\"http://www.uniprot.org/uniprot/Q8DNJ8\" target=\"blank\" style=\"color:black\">Q8DNJ8</td><td>1</td></tr><tr><td><a href=\"http://www.uniprot.org/uniprot/P66855\" target=\"blank\" style=\"color:black\">P66855</td><td>1</td></tr><tr><td><a href=\"http://www.uniprot.org/uniprot/Q8DQ16\" target=\"blank\" style=\"color:black\">Q8DQ16</td><td>1</td></tr><tr><td><a href=\"http://www.uniprot.org/uniprot/Q7CRB2\" target=\"blank\" style=\"color:black\">Q7CRB2</td><td>1</td></tr><tr><td><a href=\"http://www.uniprot.org/uniprot/Q8DRJ3\" target=\"blank\" style=\"color:black\">Q8DRJ3</td><td>1</td></tr><tr><td><a href=\"http://www.uniprot.org/uniprot/Q8DP13\" target=\"blank\" style=\"color:black\">Q8DP13</td><td>1</td></tr><tr><td><a href=\"http://www.uniprot.org/uniprot/Q8DN59\" target=\"blank\" style=\"color:black\">Q8DN59</td><td>1</td></tr><tr><td><a href=\"http://www.uniprot.org/uniprot/Q8DNK9\" target=\"blank\" style=\"color:black\">Q8DNK9</td><td>1</td></tr><tr><td><a href=\"http://www.uniprot.org/uniprot/Q8DQI3\" target=\"blank\" style=\"color:black\">Q8DQI3</td><td>1</td></tr><tr><td><a href=\"http://www.uniprot.org/uniprot/Q8DNC7\" target=\"blank\" style=\"color:black\">Q8DNC7</td><td>1</td></tr><tr><td><a href=\"http://www.uniprot.org/uniprot/Q8DPU8\" target=\"blank\" style=\"color:black\">Q8DPU8</td><td>1</td></tr><tr><td><a href=\"http://www.uniprot.org/uniprot/Q8DNZ9\" target=\"blank\" style=\"color:brown\">Q8DNZ9</td><td>1</td></tr><tr><td><a href=\"http://www.uniprot.org/uniprot/Q8DNL9\" target=\"blank\" style=\"color:black\">Q8DNL9</td><td>1</td></tr><tr><td><a href=\"http://www.uniprot.org/uniprot/Q8DR04\" target=\"blank\" style=\"color:black\">Q8DR04</td><td>1</td></tr><tr><td><a href=\"http://www.uniprot.org/uniprot/Q8CWV7\" target=\"blank\" style=\"color:black\">Q8CWV7</td><td>1</td></tr><tr><td><a href=\"http://www.uniprot.org/uniprot/Q8DNY7\" target=\"blank\" style=\"color:black\">Q8DNY7</td><td>1</td></tr><tr><td><a href=\"http://www.uniprot.org/uniprot/Q8DPH3\" target=\"blank\" style=\"color:brown\">Q8DPH3</td><td>1</td></tr><tr><td><a href=\"http://www.uniprot.org/uniprot/Q8DR12\" target=\"blank\" style=\"color:black\">Q8DR12</td><td>1</td></tr><tr><td><a href=\"http://www.uniprot.org/uniprot/Q8DRQ4\" target=\"blank\" style=\"color:brown\">Q8DRQ4</td><td>1</td></tr><tr><td><a href=\"http://www.uniprot.org/uniprot/Q8DPM6\" target=\"blank\" style=\"color:black\">Q8DPM6</td><td>1</td></tr><tr><td><a href=\"http://www.uniprot.org/uniprot/P64406\" target=\"blank\" style=\"color:black\">P64406</td><td>1</td></tr><tr><td><a href=\"http://www.uniprot.org/uniprot/Q8CWR3\" target=\"blank\" style=\"color:black\">Q8CWR3</td><td>1</td></tr><tr><td><a href=\"http://www.uniprot.org/uniprot/Q8DNX1\" target=\"blank\" style=\"color:black\">Q8DNX1</td><td>1</td></tr><tr><td><a href=\"http://www.uniprot.org/uniprot/P0A3Y4\" target=\"blank\" style=\"color:black\">P0A3Y4</td><td>1</td></tr><tr><td><a href=\"http://www.uniprot.org/uniprot/P63734\" target=\"blank\" style=\"color:black\">P63734</td><td>1</td></tr><tr><td><a href=\"http://www.uniprot.org/uniprot/Q8DQ45\" target=\"blank\" style=\"color:black\">Q8DQ45</td><td>1</td></tr><tr><td><a href=\"http://www.uniprot.org/uniprot/Q8DQ51\" target=\"blank\" style=\"color:black\">Q8DQ51</td><td>1</td></tr><tr><td><a href=\"http://www.uniprot.org/uniprot/Q8DR88\" target=\"blank\" style=\"color:black\">Q8DR88</td><td>1</td></tr><tr><td><a href=\"http://www.uniprot.org/uniprot/Q8DNQ2\" target=\"blank\" style=\"color:black\">Q8DNQ2</td><td>1</td></tr><tr><td><a href=\"http://www.uniprot.org/uniprot/Q8DPA0\" target=\"blank\" style=\"color:black\">Q8DPA0</td><td>1</td></tr><tr><td><a href=\"http://www.uniprot.org/uniprot/Q8DN99\" target=\"blank\" style=\"color:black\">Q8DN99</td><td>1</td></tr><tr><td><a href=\"http://www.uniprot.org/uniprot/Q8DRH4\" target=\"blank\" style=\"color:black\">Q8DRH4</td><td>1</td></tr><tr><td><a href=\"http://www.uniprot.org/uniprot/P64298\" target=\"blank\" style=\"color:black\">P64298</td><td>1</td></tr><tr><td><a href=\"http://www.uniprot.org/uniprot/Q8DQ85\" target=\"blank\" style=\"color:black\">Q8DQ85</td><td>1</td></tr><tr><td><a href=\"http://www.uniprot.org/uniprot/P59652\" target=\"blank\" style=\"color:brown\">P59652</td><td>1</td></tr><tr><td><a href=\"http://www.uniprot.org/uniprot/Q8CWN0\" target=\"blank\" style=\"color:black\">Q8CWN0</td><td>1</td></tr><tr><td><a href=\"http://www.uniprot.org/uniprot/Q8DNT3\" target=\"blank\" style=\"color:black\">Q8DNT3</td><td>1</td></tr><tr><td><a href=\"http://www.uniprot.org/uniprot/Q8DPE7\" target=\"blank\" style=\"color:black\">Q8DPE7</td><td>1</td></tr><tr><td><a href=\"http://www.uniprot.org/uniprot/Q8CYM2\" target=\"blank\" style=\"color:black\">Q8CYM2</td><td>1</td></tr><tr><td><a href=\"http://www.uniprot.org/uniprot/P0A4B4\" target=\"blank\" style=\"color:black\">P0A4B4</td><td>1</td></tr><tr><td><a href=\"http://www.uniprot.org/uniprot/Q8DN97\" target=\"blank\" style=\"color:black\">Q8DN97</td><td>1</td></tr><tr><td><a href=\"http://www.uniprot.org/uniprot/Q8DNJ1\" target=\"blank\" style=\"color:black\">Q8DNJ1</td><td>1</td></tr><tr><td><a href=\"http://www.uniprot.org/uniprot/Q8DQ58\" target=\"blank\" style=\"color:black\">Q8DQ58</td><td>1</td></tr><tr><td><a href=\"http://www.uniprot.org/uniprot/Q8DNI2\" target=\"blank\" style=\"color:black\">Q8DNI2</td><td>1</td></tr><tr><td><a href=\"http://www.uniprot.org/uniprot/Q8CWS2\" target=\"blank\" style=\"color:black\">Q8CWS2</td><td>1</td></tr><tr><td><a href=\"http://www.uniprot.org/uniprot/P65444\" target=\"blank\" style=\"color:black\">P65444</td><td>1</td></tr><tr><td><a href=\"http://www.uniprot.org/uniprot/P0A4A8\" target=\"blank\" style=\"color:black\">P0A4A8</td><td>1</td></tr><tr><td><a href=\"http://www.uniprot.org/uniprot/Q8DQD0\" target=\"blank\" style=\"color:black\">Q8DQD0</td><td>1</td></tr><tr><td><a href=\"http://www.uniprot.org/uniprot/Q8DN88\" target=\"blank\" style=\"color:black\">Q8DN88</td><td>1</td></tr><tr><td><a href=\"http://www.uniprot.org/uniprot/Q8DNY9\" target=\"blank\" style=\"color:black\">Q8DNY9</td><td>1</td></tr><tr><td><a href=\"http://www.uniprot.org/uniprot/Q8DMX3\" target=\"blank\" style=\"color:black\">Q8DMX3</td><td>1</td></tr><tr><td><a href=\"http://www.uniprot.org/uniprot/Q8DPP8\" target=\"blank\" style=\"color:black\">Q8DPP8</td><td>1</td></tr><tr><td><a href=\"http://www.uniprot.org/uniprot/Q8DP75\" target=\"blank\" style=\"color:black\">Q8DP75</td><td>1</td></tr><tr><td><a href=\"http://www.uniprot.org/uniprot/Q8DPP9\" target=\"blank\" style=\"color:black\">Q8DPP9</td><td>1</td></tr><tr><td><a href=\"http://www.uniprot.org/uniprot/P66393\" target=\"blank\" style=\"color:black\">P66393</td><td>1</td></tr><tr><td><a href=\"http://www.uniprot.org/uniprot/Q8DPA8\" target=\"blank\" style=\"color:black\">Q8DPA8</td><td>1</td></tr><tr><td><a href=\"http://www.uniprot.org/uniprot/Q8DNM1\" target=\"blank\" style=\"color:black\">Q8DNM1</td><td>1</td></tr><tr><td><a href=\"http://www.uniprot.org/uniprot/Q8CWR5\" target=\"blank\" style=\"color:black\">Q8CWR5</td><td>1</td></tr><tr><td><a href=\"http://www.uniprot.org/uniprot/P0A4C4\" target=\"blank\" style=\"color:black\">P0A4C4</td><td>1</td></tr><tr><td><a href=\"http://www.uniprot.org/uniprot/Q8DPK3\" target=\"blank\" style=\"color:black\">Q8DPK3</td><td>1</td></tr><tr><td><a href=\"http://www.uniprot.org/uniprot/P66908\" target=\"blank\" style=\"color:black\">P66908</td><td>1</td></tr><tr><td><a href=\"http://www.uniprot.org/uniprot/Q8DP46\" target=\"blank\" style=\"color:black\">Q8DP46</td><td>1</td></tr><tr><td><a href=\"http://www.uniprot.org/uniprot/Q8CWR2\" target=\"blank\" style=\"color:black\">Q8CWR2</td><td>1</td></tr><tr><td><a href=\"http://www.uniprot.org/uniprot/P0A4M0\" target=\"blank\" style=\"color:black\">P0A4M0</td><td>1</td></tr><tr><td><a href=\"http://www.uniprot.org/uniprot/Q8CWS1\" target=\"blank\" style=\"color:black\">Q8CWS1</td><td>1</td></tr><tr><td><a href=\"http://www.uniprot.org/uniprot/P67581\" target=\"blank\" style=\"color:black\">P67581</td><td>1</td></tr><tr><td><a href=\"http://www.uniprot.org/uniprot/Q8DRG5\" target=\"blank\" style=\"color:black\">Q8DRG5</td><td>1</td></tr><tr><td><a href=\"http://www.uniprot.org/uniprot/Q8DQR7\" target=\"blank\" style=\"color:black\">Q8DQR7</td><td>1</td></tr><tr><td><a href=\"http://www.uniprot.org/uniprot/Q8DQG0\" target=\"blank\" style=\"color:black\">Q8DQG0</td><td>1</td></tr><tr><td><a href=\"http://www.uniprot.org/uniprot/Q8DQ05\" target=\"blank\" style=\"color:black\">Q8DQ05</td><td>1</td></tr><tr><td><a href=\"http://www.uniprot.org/uniprot/Q8DRE3\" target=\"blank\" style=\"color:black\">Q8DRE3</td><td>1</td></tr><tr><td><a href=\"http://www.uniprot.org/uniprot/Q8DP30\" target=\"blank\" style=\"color:black\">Q8DP30</td><td>1</td></tr><tr><td><a href=\"http://www.uniprot.org/uniprot/Q8DNH2\" target=\"blank\" style=\"color:black\">Q8DNH2</td><td>1</td></tr><tr><td><a href=\"http://www.uniprot.org/uniprot/Q8DP94\" target=\"blank\" style=\"color:black\">Q8DP94</td><td>1</td></tr><tr><td><a href=\"http://www.uniprot.org/uniprot/Q8DNR6\" target=\"blank\" style=\"color:brown\">Q8DNR6</td><td>1</td></tr><tr><td><a href=\"http://www.uniprot.org/uniprot/Q8DP64\" target=\"blank\" style=\"color:black\">Q8DP64</td><td>1</td></tr><tr><td><a href=\"http://www.uniprot.org/uniprot/Q8DNH4\" target=\"blank\" style=\"color:black\">Q8DNH4</td><td>1</td></tr><tr><td><a href=\"http://www.uniprot.org/uniprot/Q8DNQ7\" target=\"blank\" style=\"color:black\">Q8DNQ7</td><td>1</td></tr><tr><td><a href=\"http://www.uniprot.org/uniprot/Q8DP10\" target=\"blank\" style=\"color:black\">Q8DP10</td><td>1</td></tr><tr><td><a href=\"http://www.uniprot.org/uniprot/Q8CWW1\" target=\"blank\" style=\"color:black\">Q8CWW1</td><td>1</td></tr><tr><td><a href=\"http://www.uniprot.org/uniprot/Q8DN54\" target=\"blank\" style=\"color:black\">Q8DN54</td><td>1</td></tr><tr><td><a href=\"http://www.uniprot.org/uniprot/Q8DNX8\" target=\"blank\" style=\"color:black\">Q8DNX8</td><td>1</td></tr><tr><td><a href=\"http://www.uniprot.org/uniprot/Q8DRB6\" target=\"blank\" style=\"color:black\">Q8DRB6</td><td>1</td></tr><tr><td><a href=\"http://www.uniprot.org/uniprot/Q8DRP3\" target=\"blank\" style=\"color:black\">Q8DRP3</td><td>1</td></tr><tr><td><a href=\"http://www.uniprot.org/uniprot/Q8DQM2\" target=\"blank\" style=\"color:brown\">Q8DQM2</td><td>1</td></tr><tr><td><a href=\"http://www.uniprot.org/uniprot/Q8DQQ2\" target=\"blank\" style=\"color:black\">Q8DQQ2</td><td>1</td></tr><tr><td><a href=\"http://www.uniprot.org/uniprot/Q8DRM0\" target=\"blank\" style=\"color:black\">Q8DRM0</td><td>1</td></tr><tr><td><a href=\"http://www.uniprot.org/uniprot/P59651\" target=\"blank\" style=\"color:black\">P59651</td><td>1</td></tr><tr><td><a href=\"http://www.uniprot.org/uniprot/P65335\" target=\"blank\" style=\"color:black\">P65335</td><td>1</td></tr><tr><td><a href=\"http://www.uniprot.org/uniprot/P67383\" target=\"blank\" style=\"color:black\">P67383</td><td>1</td></tr><tr><td><a href=\"http://www.uniprot.org/uniprot/Q8DNH5\" target=\"blank\" style=\"color:black\">Q8DNH5</td><td>1</td></tr><tr><td><a href=\"http://www.uniprot.org/uniprot/Q8DR57\" target=\"blank\" style=\"color:brown\">Q8DR57</td><td>1</td></tr><tr><td><a href=\"http://www.uniprot.org/uniprot/Q8DNC2\" target=\"blank\" style=\"color:black\">Q8DNC2</td><td>1</td></tr><tr><td><a href=\"http://www.uniprot.org/uniprot/Q8DNP8\" target=\"blank\" style=\"color:black\">Q8DNP8</td><td>1</td></tr><tr><td><a href=\"http://www.uniprot.org/uniprot/P66420\" target=\"blank\" style=\"color:black\">P66420</td><td>1</td></tr><tr><td><a href=\"http://www.uniprot.org/uniprot/Q8DQH2\" target=\"blank\" style=\"color:black\">Q8DQH2</td><td>1</td></tr><tr><td><a href=\"http://www.uniprot.org/uniprot/Q8CYG1\" target=\"blank\" style=\"color:black\">Q8CYG1</td><td>1</td></tr><tr><td><a href=\"http://www.uniprot.org/uniprot/Q8DNI8\" target=\"blank\" style=\"color:black\">Q8DNI8</td><td>1</td></tr><tr><td><a href=\"http://www.uniprot.org/uniprot/Q8DQ46\" target=\"blank\" style=\"color:black\">Q8DQ46</td><td>1</td></tr><tr><td><a href=\"http://www.uniprot.org/uniprot/Q8CYE2\" target=\"blank\" style=\"color:black\">Q8CYE2</td><td>1</td></tr><tr><td><a href=\"http://www.uniprot.org/uniprot/Q8DR55\" target=\"blank\" style=\"color:brown\">Q8DR55</td><td>1</td></tr><tr><td><a href=\"http://www.uniprot.org/uniprot/Q8CZ41\" target=\"blank\" style=\"color:black\">Q8CZ41</td><td>1</td></tr><tr><td><a href=\"http://www.uniprot.org/uniprot/Q7CRB0\" target=\"blank\" style=\"color:black\">Q7CRB0</td><td>1</td></tr><tr><td><a href=\"http://www.uniprot.org/uniprot/Q8DR58\" target=\"blank\" style=\"color:brown\">Q8DR58</td><td>1</td></tr></tbody></table>"
      ],
      "text/plain": [
       "<graph.NodeView at 0x11d9de780>"
      ]
     },
     "execution_count": 18,
     "metadata": {},
     "output_type": "execute_result"
    }
   ],
   "source": [
    "graph.NodeView(G)"
   ]
  },
  {
   "cell_type": "code",
   "execution_count": 14,
   "metadata": {
    "collapsed": false
   },
   "outputs": [],
   "source": [
    "with open('/Users/guillaumelaunay/work/projects/pneumocoque/3Dnetwork/3D_force/networks/interactome_JM_test.json', 'w') as outfile:\n",
    "    json.dump(nEncode(G), outfile)"
   ]
  },
  {
   "cell_type": "code",
   "execution_count": null,
   "metadata": {
    "collapsed": false
   },
   "outputs": [],
   "source": [
    "dir(queryTopo)"
   ]
  },
  {
   "cell_type": "code",
   "execution_count": 15,
   "metadata": {
    "collapsed": false
   },
   "outputs": [
    {
     "name": "stdout",
     "output_type": "stream",
     "text": [
      "(Q8DR57, Q9EUQ7, {'lowQueryParam': [[u'1', u'105', u'66', u'49', u'3.02566e-17', u'98', u'3', u'98', u'109', 'P0CI74']], 'highQueryParam': [[u'3', u'230', u'138', u'84', u'7.50339e-38', u'251', u'6', u'242', u'242', 'P35154']]})\n",
      "(Q8DPK7, Q8DPK7, {'lowQueryParam': [[u'10', u'661', u'464', u'331', u'2.2889e-113', u'657', u'2', u'654', u'662', 'Q9PPM7']], 'highQueryParam': [[u'10', u'661', u'464', u'331', u'2.2889e-113', u'657', u'2', u'654', u'662', 'Q9PPM7']]})\n",
      "(Q8DNA5, Q8CWM8, {'lowQueryParam': [[u'1', u'241', u'166', u'118', u'6.48918e-64', u'241', u'1', u'241', u'259', 'P0A7V0']], 'highQueryParam': [[u'24', u'890', u'548', u'391', u'1.88184e-108', u'891', u'6', u'873', u'890', 'P0A9Q7']]})\n",
      "(Q8DNR6, Q8CWP9, {'lowQueryParam': [[u'1', u'175', u'107', u'60', u'1.38121e-20', u'164', u'1', u'164', u'262', 'P71021']], 'highQueryParam': [[u'1', u'798', u'509', u'365', u'1.36775e-137', u'805', u'1', u'805', u'798', 'P94461']]})\n",
      "(Q9EUQ7, Q9EUQ7, {'lowQueryParam': [[u'3', u'230', u'138', u'84', u'7.50339e-38', u'251', u'6', u'242', u'242', 'P35154']], 'highQueryParam': [[u'3', u'230', u'138', u'84', u'7.50339e-38', u'251', u'6', u'242', u'242', 'P35154']]})\n",
      "(Q8DPM9, Q8CWP9, {'lowQueryParam': [[u'1', u'175', u'107', u'60', u'1.38121e-20', u'164', u'1', u'164', u'262', 'P71021']], 'highQueryParam': [[u'2', u'445', u'287', u'179', u'1.05638e-103', u'448', u'4', u'447', u'446', 'P54521']]})\n",
      "(Q8DPM9, Q8DPM9, {'lowQueryParam': [[u'2', u'445', u'287', u'179', u'1.05638e-103', u'448', u'4', u'447', u'446', 'P54521']], 'highQueryParam': [[u'2', u'445', u'287', u'179', u'1.05638e-103', u'448', u'4', u'447', u'446', 'P54521']]})\n",
      "(Q8DPQ1, Q8DPQ1, {'lowQueryParam': [[u'3', u'575', u'439', u'346', u'1.97851e-133', u'570', u'2', u'570', u'577', 'P08838']], 'highQueryParam': [[u'3', u'575', u'439', u'346', u'1.97851e-133', u'570', u'2', u'570', u'577', 'P08838']]})\n",
      "(Q8DPQ1, Q8CWP9, {'lowQueryParam': [[u'1', u'175', u'107', u'60', u'1.38121e-20', u'164', u'1', u'164', u'262', 'P71021']], 'highQueryParam': [[u'3', u'575', u'439', u'346', u'1.97851e-133', u'570', u'2', u'570', u'577', 'P08838']]})\n",
      "(Q8CWP9, Q8CWP9, {'lowQueryParam': [[u'1', u'175', u'107', u'60', u'1.38121e-20', u'164', u'1', u'164', u'262', 'P71021']], 'highQueryParam': [[u'1', u'175', u'107', u'60', u'1.38121e-20', u'164', u'1', u'164', u'262', 'P71021']]})\n"
     ]
    }
   ],
   "source": [
    "for e in G.edges(data=True):\n",
    "    print e"
   ]
  }
 ],
 "metadata": {
  "kernelspec": {
   "display_name": "python3 (p=3.6)",
   "language": "python",
   "name": "python3"
  },
  "language_info": {
   "codemirror_mode": {
    "name": "ipython",
    "version": 3
   },
   "file_extension": ".py",
   "mimetype": "text/x-python",
   "name": "python",
   "nbconvert_exporter": "python",
   "pygments_lexer": "ipython3",
   "version": "3.6.2"
  }
 },
 "nbformat": 4,
 "nbformat_minor": 2
}
